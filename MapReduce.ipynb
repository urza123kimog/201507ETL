{
 "cells": [
  {
   "cell_type": "code",
   "execution_count": 1,
   "metadata": {
    "collapsed": true
   },
   "outputs": [],
   "source": [
    "s = 'car car river river bear river car                 qoo         oop  car river oop qoo'"
   ]
  },
  {
   "cell_type": "markdown",
   "metadata": {},
   "source": [
    "# Mapper"
   ]
  },
  {
   "cell_type": "code",
   "execution_count": 9,
   "metadata": {
    "collapsed": false
   },
   "outputs": [
    {
     "name": "stdout",
     "output_type": "stream",
     "text": [
      "[('car', 1), ('car', 1), ('river', 1), ('river', 1), ('bear', 1), ('river', 1), ('car', 1), ('qoo', 1), ('oop', 1), ('car', 1), ('river', 1), ('oop', 1), ('qoo', 1)]\n"
     ]
    }
   ],
   "source": [
    "def mapper(input_sentense):\n",
    "    ary = []\n",
    "    for word in input_sentense.split():\n",
    "        ary.append((word, 1))\n",
    "    return ary\n",
    "print mapper(s)"
   ]
  },
  {
   "cell_type": "markdown",
   "metadata": {},
   "source": [
    "# Shuffle"
   ]
  },
  {
   "cell_type": "code",
   "execution_count": 11,
   "metadata": {
    "collapsed": false
   },
   "outputs": [
    {
     "name": "stdout",
     "output_type": "stream",
     "text": [
      "[('bear', 1), ('car', 1), ('car', 1), ('car', 1), ('car', 1), ('oop', 1), ('oop', 1), ('qoo', 1), ('qoo', 1), ('river', 1), ('river', 1), ('river', 1), ('river', 1)]\n"
     ]
    }
   ],
   "source": [
    "map_res = mapper(s)\n",
    "map_res.sort()\n",
    "print map_res"
   ]
  },
  {
   "cell_type": "markdown",
   "metadata": {},
   "source": [
    "# Reduce"
   ]
  },
  {
   "cell_type": "code",
   "execution_count": 24,
   "metadata": {
    "collapsed": false
   },
   "outputs": [],
   "source": [
    "def reducer(sorted_res):\n",
    "    ary = []\n",
    "    current_word = ''\n",
    "    count = 1 \n",
    "    for rec in sorted_res:\n",
    "        if rec[0] != current_word:\n",
    "            if current_word != '':\n",
    "                ary.append((current_word, count))\n",
    "            current_word = rec[0]\n",
    "            count = 1\n",
    "        else:\n",
    "            count += 1\n",
    "    ary.append((current_word, count))\n",
    "    return ary"
   ]
  },
  {
   "cell_type": "markdown",
   "metadata": {},
   "source": [
    "# Overall"
   ]
  },
  {
   "cell_type": "code",
   "execution_count": 26,
   "metadata": {
    "collapsed": false
   },
   "outputs": [
    {
     "name": "stdout",
     "output_type": "stream",
     "text": [
      "car car river river bear river car                 qoo         oop  car river oop qoo\n",
      "[('car', 1), ('car', 1), ('river', 1), ('river', 1), ('bear', 1), ('river', 1), ('car', 1), ('qoo', 1), ('oop', 1), ('car', 1), ('river', 1), ('oop', 1), ('qoo', 1)]\n",
      "[('bear', 1), ('car', 1), ('car', 1), ('car', 1), ('car', 1), ('oop', 1), ('oop', 1), ('qoo', 1), ('qoo', 1), ('river', 1), ('river', 1), ('river', 1), ('river', 1)]\n",
      "[('bear', 1), ('car', 4), ('oop', 2), ('qoo', 2), ('river', 4)]\n"
     ]
    }
   ],
   "source": [
    "#original\n",
    "print s\n",
    "\n",
    "# map phase\n",
    "map_res = mapper(s)\n",
    "print map_res\n",
    "\n",
    "# shuffle phase\n",
    "map_res.sort()\n",
    "sorted_res =  map_res\n",
    "print sorted_res\n",
    "\n",
    "# reduce phase\n",
    "reduce_res =  reducer(sorted_res)\n",
    "print reduce_res\n"
   ]
  },
  {
   "cell_type": "code",
   "execution_count": null,
   "metadata": {
    "collapsed": true
   },
   "outputs": [],
   "source": []
  }
 ],
 "metadata": {
  "kernelspec": {
   "display_name": "Python 2",
   "language": "python",
   "name": "python2"
  },
  "language_info": {
   "codemirror_mode": {
    "name": "ipython",
    "version": 2
   },
   "file_extension": ".py",
   "mimetype": "text/x-python",
   "name": "python",
   "nbconvert_exporter": "python",
   "pygments_lexer": "ipython2",
   "version": "2.7.6"
  }
 },
 "nbformat": 4,
 "nbformat_minor": 0
}
