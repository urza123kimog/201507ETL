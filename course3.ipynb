{
 "cells": [
  {
   "cell_type": "code",
   "execution_count": 4,
   "metadata": {
    "collapsed": false
   },
   "outputs": [
    {
     "name": "stdout",
     "output_type": "stream",
     "text": [
      "[u' ', <html> <body> <h1 id=\"title\">Hello World</h1> <a class=\"link\" href=\"#\">This is link1</a> <a class=\"link\" href=\"# link2\">This is link2</a> </body> </html>]\n",
      "<html> <body> <h1 id=\"title\">Hello World</h1> <a class=\"link\" href=\"#\">This is link1</a> <a class=\"link\" href=\"# link2\">This is link2</a> </body> </html>\n",
      "   Hello World This is link1 This is link2  \n"
     ]
    }
   ],
   "source": [
    "from bs4 import BeautifulSoup\n",
    "html_sample = ' \\\n",
    "<html> \\\n",
    "<body> \\\n",
    "<h1 id=\"title\">Hello World</h1> \\\n",
    "<a href=\"#\" class=\"link\">This is link1</a> \\\n",
    "<a href=\"# link2\" class=\"link\">This is link2</a> \\\n",
    "</body> \\\n",
    "</html>'\n",
    "\n",
    "soup = BeautifulSoup(html_sample)\n",
    "print soup.contents\n",
    "print soup.contents[1]\n",
    "print soup.text"
   ]
  },
  {
   "cell_type": "code",
   "execution_count": 5,
   "metadata": {
    "collapsed": false
   },
   "outputs": [],
   "source": [
    "#print dir(soup)"
   ]
  },
  {
   "cell_type": "code",
   "execution_count": 11,
   "metadata": {
    "collapsed": false
   },
   "outputs": [
    {
     "name": "stdout",
     "output_type": "stream",
     "text": [
      "<a class=\"link\" href=\"#\">This is link1</a>\n",
      "<class 'bs4.element.Tag'>\n",
      "This is link1\n",
      "#\n",
      "[u'link']\n"
     ]
    }
   ],
   "source": [
    "alink = soup.find('a')\n",
    "print alink\n",
    "print type(alink)\n",
    "#print dir(alink)\n",
    "print alink.text\n",
    "print alink['href']\n",
    "print alink['class']"
   ]
  },
  {
   "cell_type": "code",
   "execution_count": 19,
   "metadata": {
    "collapsed": false
   },
   "outputs": [
    {
     "name": "stdout",
     "output_type": "stream",
     "text": [
      "[<a class=\"link\" href=\"#\">This is link1</a>, <a class=\"link\" href=\"# link2\">This is link2</a>]\n",
      "<class 'bs4.element.ResultSet'>\n",
      "<a class=\"link\" href=\"#\">This is link1</a>\n",
      "<a class=\"link\" href=\"# link2\">This is link2</a>\n",
      "[u'This is link1']\n",
      "This is link1\n",
      "[u'This is link2']\n",
      "This is link2\n"
     ]
    }
   ],
   "source": [
    "alinks = soup.findAll('a')\n",
    "print alinks\n",
    "print type(alinks)\n",
    "print alinks[0]\n",
    "print alinks[1]\n",
    "for link  in alinks:\n",
    "    print link.contents\n",
    "    print link.text"
   ]
  },
  {
   "cell_type": "code",
   "execution_count": 20,
   "metadata": {
    "collapsed": false
   },
   "outputs": [
    {
     "name": "stdout",
     "output_type": "stream",
     "text": [
      "<h1 id=\"title\">Hello World</h1>\n"
     ]
    }
   ],
   "source": [
    "# <h1 id=\"title\">Hello World</h1> \n",
    "alink = soup.find('h1', {'id':'title'})\n",
    "print alink"
   ]
  },
  {
   "cell_type": "code",
   "execution_count": 22,
   "metadata": {
    "collapsed": false
   },
   "outputs": [
    {
     "name": "stdout",
     "output_type": "stream",
     "text": [
      "[<h1 id=\"title\">Hello World</h1>]\n",
      "<h1 id=\"title\">Hello World</h1>\n"
     ]
    }
   ],
   "source": [
    "alink = soup.select('#title') # id : #\n",
    "print alink\n",
    "print alink[0]"
   ]
  },
  {
   "cell_type": "code",
   "execution_count": 23,
   "metadata": {
    "collapsed": false
   },
   "outputs": [
    {
     "name": "stdout",
     "output_type": "stream",
     "text": [
      "[<a class=\"link\" href=\"#\">This is link1</a>, <a class=\"link\" href=\"# link2\">This is link2</a>]\n"
     ]
    }
   ],
   "source": [
    "#<a href=\"#\" class=\"link\">This is link1</a> \\\n",
    "#<a href=\"# link2\" class=\"link\">This is link2</a> \\\n",
    "\n",
    "classlink = soup.findAll('a', {'class': 'link'})\n",
    "print classlink\n"
   ]
  },
  {
   "cell_type": "code",
   "execution_count": 24,
   "metadata": {
    "collapsed": false
   },
   "outputs": [
    {
     "name": "stdout",
     "output_type": "stream",
     "text": [
      "[<a class=\"link\" href=\"#\">This is link1</a>, <a class=\"link\" href=\"# link2\">This is link2</a>]\n"
     ]
    }
   ],
   "source": [
    "classlink = soup.select('.link') # class: .\n",
    "print classlink"
   ]
  },
  {
   "cell_type": "code",
   "execution_count": 26,
   "metadata": {
    "collapsed": false
   },
   "outputs": [
    {
     "name": "stdout",
     "output_type": "stream",
     "text": [
      "#\n",
      "[u'link']\n",
      "# link2\n",
      "[u'link']\n"
     ]
    }
   ],
   "source": [
    "#<a href=\"#\" class=\"link\">This is link1</a> \\\n",
    "#<a href=\"# link2\" class=\"link\">This is link2</a> \\\n",
    "alinks = soup.findAll('a', {'href': True})\n",
    "for link in alinks:\n",
    "    print link['href']\n",
    "    print link['class']"
   ]
  },
  {
   "cell_type": "code",
   "execution_count": 29,
   "metadata": {
    "collapsed": false
   },
   "outputs": [
    {
     "name": "stdout",
     "output_type": "stream",
     "text": [
      "#\n",
      "# link2\n"
     ]
    }
   ],
   "source": [
    "alinks = soup.select('a')\n",
    "for link in alinks:\n",
    "    print link['href']"
   ]
  },
  {
   "cell_type": "code",
   "execution_count": 45,
   "metadata": {
    "collapsed": false
   },
   "outputs": [],
   "source": [
    "import requests\n",
    "from bs4 import BeautifulSoup\n",
    "f = open('cramschool.csv', 'w')\n",
    "for pg in range(0,62):\n",
    "    res = requests.get('https://www.iyp.com.tw/showroom.php?cate_name_eng_lv1=education&cate_name_eng_lv3=languages&p={0}'.format(pg))\n",
    "    #print res.encoding\n",
    "    res.encoding = 'utf-8'\n",
    "\n",
    "    soup = BeautifulSoup(res.text)\n",
    "    for ele in soup.select('.general li'):\n",
    "        if len(ele.select('h3')) > 0:\n",
    "            f.write( \"%s,%s,%s\\n\"%(ele.select('h3')[0].text.encode('utf-8'), \\\n",
    "                  ele.select('.view-map')[0]['go-map'].split('&k=')[1].encode('utf-8'), \\\n",
    "                  ele.select('a')[0]['href'].split('www.iyp.com.tw/')[1].split('/')[0].encode('utf-8')))\n",
    "f.close()\n"
   ]
  },
  {
   "cell_type": "code",
   "execution_count": 45,
   "metadata": {
    "collapsed": true
   },
   "outputs": [],
   "source": [
    "import shutil\n",
    "import requests\n",
    "\n",
    "response = requests.get('https://www.iyp.com.tw/ajax.php?func=gImage&val=j0E2n%2FKGz4c8nQfkXn6w0776238V%2By%2F%2FAf2s10rhoUzcRZyk4z29VlJ6drriUSwzUdFUkWqAfbE%3D', stream=True)\n",
    "with open('img.png', 'wb') as out_file:\n",
    "    shutil.copyfileobj(response.raw, out_file)\n",
    "del response"
   ]
  },
  {
   "cell_type": "code",
   "execution_count": 46,
   "metadata": {
    "collapsed": false
   },
   "outputs": [
    {
     "data": {
      "image/png": "[encoded data removed]",
      "text/plain": [
       "<IPython.core.display.Image object>"
      ]
     },
     "execution_count": 46,
     "metadata": {},
     "output_type": "execute_result"
    }
   ],
   "source": [
    "from IPython.core.display import Image\n",
    "Image(\"img.png\")"
   ]
  },
  {
   "cell_type": "code",
   "execution_count": 65,
   "metadata": {
    "collapsed": false
   },
   "outputs": [],
   "source": [
    "# -*- coding: utf-8 -*-\n",
    "import requests\n",
    "payload = { 'method':'search', 'searchMethod':'true', 'searchTarget':'ATM',\n",
    "'orgName':'', 'orgId':'', 'hid_1':'1',\n",
    "'tenderName':'', 'tenderId':'', 'tenderStatus':'4,5,21,29',\n",
    "'tenderWay':'', 'awardAnnounceStartDate':'104/07/24',\n",
    "'awardAnnounceEndDate':'104/07/24', 'radProctrgCate':'3',\n",
    "'proctrgCate':'3', 'tenderRange':'', 'minBudget':'',\n",
    "'maxBudget':'', 'item':'','hid_2':'1',\n",
    "'gottenVendorName':'', 'gottenVendorId':'', 'hid_3':'1',\n",
    "'submitVendorName':'', 'submitVendorId':'', 'location':'',\n",
    "'priorityCate':'', 'isReConstruct':'', 'btnQuery':'查詢' }"
   ]
  },
  {
   "cell_type": "code",
   "execution_count": 66,
   "metadata": {
    "collapsed": false
   },
   "outputs": [],
   "source": [
    "user_post = requests.post(\"http://web.pcc.gov.tw/tps/pss/tender.do?searchMode=common&searchType=advance\", data=payload)\n",
    "response_text = user_post.text.encode('utf8')\n",
    "#print response_text"
   ]
  },
  {
   "cell_type": "code",
   "execution_count": 67,
   "metadata": {
    "collapsed": true
   },
   "outputs": [],
   "source": [
    "#http://web.pcc.gov.tw/tps/pss/tender.do?searchMode=common&searchType=advance&searchTarget=ATM&method=search&isSpdt=&pageIndex=1\n",
    "#http://web.pcc.gov.tw/tps/pss/tender.do?searchMode=common&searchType=advance&searchTarget=ATM&method=search&isSpdt=&pageIndex=2\n",
    "#http://web.pcc.gov.tw/tps/pss/tender.do?searchMode=common&searchType=advance&searchTarget=ATM&method=search&isSpdt=&pageIndex=3"
   ]
  },
  {
   "cell_type": "code",
   "execution_count": 68,
   "metadata": {
    "collapsed": false
   },
   "outputs": [
    {
     "name": "stdout",
     "output_type": "stream",
     "text": [
      "<class 'requests.sessions.Session'>\n"
     ]
    }
   ],
   "source": [
    "rs = requests.session()\n",
    "print type(rs)\n",
    "rs_post =rs.post(\"http://web.pcc.gov.tw/tps/pss/tender.do?searchMode=common&searchType=advance\", data=payload)\n",
    "rs_get =rs.get(\"http://web.pcc.gov.tw/tps/pss/tender.do?searchMode=common&searchType=advance&searchTarget=ATM&method=search&isSpdt=&pageIndex=2\")\n",
    "response = rs_get.text.encode('utf8')\n",
    "#print response"
   ]
  },
  {
   "cell_type": "code",
   "execution_count": 69,
   "metadata": {
    "collapsed": false,
    "scrolled": true
   },
   "outputs": [
    {
     "name": "stdout",
     "output_type": "stream",
     "text": [
      "[<span class=\"T11b\" style=\"color: red;\">214</span>]\n",
      "<span class=\"T11b\" style=\"color: red;\">214</span>\n",
      "214\n"
     ]
    }
   ],
   "source": [
    "user_post =requests.post(\"http://web.pcc.gov.tw/tps/pss/tender.do?searchMode=common&searchType=advance\", data=payload)\n",
    "response_text = user_post.text.encode('utf8')\n",
    "soup = BeautifulSoup(response_text)\n",
    "print soup.select('.T11b')\n",
    "print soup.select('.T11b')[0]\n",
    "print soup.select('.T11b')[0].text"
   ]
  },
  {
   "cell_type": "code",
   "execution_count": 70,
   "metadata": {
    "collapsed": false
   },
   "outputs": [
    {
     "name": "stdout",
     "output_type": "stream",
     "text": [
      "214\n"
     ]
    }
   ],
   "source": [
    "rec_number_element = soup.select('.T11b')[0]\n",
    "rec_number = int(rec_number_element.text)\n",
    "print rec_number"
   ]
  },
  {
   "cell_type": "code",
   "execution_count": 71,
   "metadata": {
    "collapsed": false
   },
   "outputs": [
    {
     "name": "stdout",
     "output_type": "stream",
     "text": [
      "3\n"
     ]
    }
   ],
   "source": [
    "import math\n",
    "page_number = int(math.ceil(float(rec_number) / 100))\n",
    "print page_number"
   ]
  },
  {
   "cell_type": "code",
   "execution_count": 72,
   "metadata": {
    "collapsed": false
   },
   "outputs": [
    {
     "name": "stdout",
     "output_type": "stream",
     "text": [
      "http://web.pcc.gov.tw/tps/pss/tender.do?searchMode=common&searchType=advance&searchTarget=ATM&method=search&isSpdt=&pageIndex=1\n",
      "http://web.pcc.gov.tw/tps/pss/tender.do?searchMode=common&searchType=advance&searchTarget=ATM&method=search&isSpdt=&pageIndex=2\n",
      "http://web.pcc.gov.tw/tps/pss/tender.do?searchMode=common&searchType=advance&searchTarget=ATM&method=search&isSpdt=&pageIndex=3\n"
     ]
    }
   ],
   "source": [
    "page_format =\"http://web.pcc.gov.tw/tps/pss/tender.do?searchMode=common&searchType=advance&searchTarget=ATM&method=search&isSpdt=&pageIndex={}\"\n",
    "for page in range(1, page_number + 1):\n",
    "    print page_format.format(page)"
   ]
  },
  {
   "cell_type": "code",
   "execution_count": 73,
   "metadata": {
    "collapsed": false
   },
   "outputs": [
    {
     "name": "stdout",
     "output_type": "stream",
     "text": [
      "http://web.pcc.gov.tw/tps/pss/tender.do?searchMode=common&searchType=advance&searchTarget=ATM&method=search&isSpdt=&pageIndex=1\n",
      "http://web.pcc.gov.tw/tps/pss/tender.do?searchMode=common&searchType=advance&searchTarget=ATM&method=search&isSpdt=&pageIndex=2\n",
      "http://web.pcc.gov.tw/tps/pss/tender.do?searchMode=common&searchType=advance&searchTarget=ATM&method=search&isSpdt=&pageIndex=3\n"
     ]
    }
   ],
   "source": [
    "for page in range(1, page_number + 1):\n",
    "    bid_list = rs.get(page_format.format(page))\n",
    "    bid_response = bid_list.text.encode('utf8')\n",
    "    print bid_list.url"
   ]
  },
  {
   "cell_type": "code",
   "execution_count": 74,
   "metadata": {
    "collapsed": false
   },
   "outputs": [],
   "source": [
    "page_format =\"http://web.pcc.gov.tw/tps/pss/tender.do?searchMode=common&searchType=advance&searchTarget=ATM&method=search&isSpdt=&pageIndex=%d\"\n",
    "page = 1\n",
    "bid_list = rs.get(page_format%(page))\n",
    "bid_response = bid_list.text.encode('utf8')\n",
    "bid_soup = BeautifulSoup(bid_response)\n",
    "bid_table = bid_soup.select('#print_area')[0]\n",
    "#print bid_table"
   ]
  },
  {
   "cell_type": "code",
   "execution_count": 75,
   "metadata": {
    "collapsed": false
   },
   "outputs": [],
   "source": [
    "#print bid_table.select('tr')[1:]"
   ]
  },
  {
   "cell_type": "code",
   "execution_count": 76,
   "metadata": {
    "collapsed": false
   },
   "outputs": [],
   "source": [
    "bid_rows = bid_table.select('tr')[1:-1]\n",
    "#print bid_rows"
   ]
  },
  {
   "cell_type": "code",
   "execution_count": 81,
   "metadata": {
    "collapsed": false
   },
   "outputs": [
    {
     "name": "stdout",
     "output_type": "stream",
     "text": [
      "http://web.pcc.gov.tw/tps/main/pms/tps/atm/atmAwardAction.do?newEdit=false&searchMode=common&method=inquiryForPublic&pkAtmMain=51603189&tenderCaseNo=1040202\n",
      "http://web.pcc.gov.tw/tps/main/pms/tps/atm/atmAwardAction.do?newEdit=false&searchMode=common&method=inquiryForPublic&pkAtmMain=51602392&tenderCaseNo=GUA20150522-1\n",
      "http://web.pcc.gov.tw/tps/main/pms/tps/atm/atmAwardAction.do?newEdit=false&searchMode=common&method=inquiryForPublic&pkAtmMain=51603176&tenderCaseNo=104W038\n",
      "http://web.pcc.gov.tw/tps/main/pms/tps/atm/atmAwardAction.do?newEdit=false&searchMode=common&method=inquiryForPublic&pkAtmMain=51603207&tenderCaseNo=1040071869\n",
      "http://web.pcc.gov.tw/tps/main/pms/tps/atm/atmAwardAction.do?newEdit=false&searchMode=common&method=inquiryForPublic&pkAtmMain=51603035&tenderCaseNo=YG10403\n",
      "http://web.pcc.gov.tw/tps/main/pms/tps/atm/atmAwardAction.do?newEdit=false&searchMode=common&method=inquiryForPublic&pkAtmMain=51604288&tenderCaseNo=104812124A\n",
      "http://web.pcc.gov.tw/tps/main/pms/tps/atm/atmAwardAction.do?newEdit=false&searchMode=common&method=inquiryForPublic&pkAtmMain=51604257&tenderCaseNo=104220130202\n",
      "http://web.pcc.gov.tw/tps/main/pms/tps/atm/atmAwardAction.do?newEdit=false&searchMode=common&method=inquiryForPublic&pkAtmMain=51604227&tenderCaseNo=RAD104211\n",
      "http://web.pcc.gov.tw/tps/main/pms/tps/atm/atmAwardAction.do?newEdit=false&searchMode=common&method=inquiryForPublic&pkAtmMain=51604181&tenderCaseNo=1040716-1\n",
      "http://web.pcc.gov.tw/tps/main/pms/tps/atm/atmAwardAction.do?newEdit=false&searchMode=common&method=inquiryForPublic&pkAtmMain=51604170&tenderCaseNo=1040716-2\n",
      "http://web.pcc.gov.tw/tps/main/pms/tps/atm/atmAwardAction.do?newEdit=false&searchMode=common&method=inquiryForPublic&pkAtmMain=51604146&tenderCaseNo=c1040724\n",
      "http://web.pcc.gov.tw/tps/main/pms/tps/atm/atmAwardAction.do?newEdit=false&searchMode=common&method=inquiryForPublic&pkAtmMain=51604137&tenderCaseNo=1040702\n",
      "http://web.pcc.gov.tw/tps/main/pms/tps/atm/atmAwardAction.do?newEdit=false&searchMode=common&method=inquiryForPublic&pkAtmMain=51604138&tenderCaseNo=1021031\n",
      "http://web.pcc.gov.tw/tps/main/pms/tps/atm/atmAwardAction.do?newEdit=false&searchMode=common&method=inquiryForPublic&pkAtmMain=51604121&tenderCaseNo=HFS-104001\n",
      "http://web.pcc.gov.tw/tps/main/pms/tps/atm/atmAwardAction.do?newEdit=false&searchMode=common&method=inquiryForPublic&pkAtmMain=51604021&tenderCaseNo=1042005\n",
      "http://web.pcc.gov.tw/tps/main/pms/tps/atm/atmAwardAction.do?newEdit=false&searchMode=common&method=inquiryForPublic&pkAtmMain=51604018&tenderCaseNo=10407C075\n",
      "http://web.pcc.gov.tw/tps/main/pms/tps/atm/atmAwardAction.do?newEdit=false&searchMode=common&method=inquiryForPublic&pkAtmMain=51604015&tenderCaseNo=10406C067\n",
      "http://web.pcc.gov.tw/tps/main/pms/tps/atm/atmAwardAction.do?newEdit=false&searchMode=common&method=inquiryForPublic&pkAtmMain=51603832&tenderCaseNo=1040717\n",
      "http://web.pcc.gov.tw/tps/main/pms/tps/atm/atmAwardAction.do?newEdit=false&searchMode=common&method=inquiryForPublic&pkAtmMain=51603795&tenderCaseNo=1040204\n",
      "http://web.pcc.gov.tw/tps/main/pms/tps/atm/atmAwardAction.do?newEdit=false&searchMode=common&method=inquiryForPublic&pkAtmMain=51603755&tenderCaseNo=104041\n",
      "http://web.pcc.gov.tw/tps/main/pms/tps/atm/atmAwardAction.do?newEdit=false&searchMode=common&method=inquiryForPublic&pkAtmMain=51603709&tenderCaseNo=104040\n",
      "http://web.pcc.gov.tw/tps/main/pms/tps/atm/atmAwardAction.do?newEdit=false&searchMode=common&method=inquiryForPublic&pkAtmMain=51603686&tenderCaseNo=104039\n",
      "http://web.pcc.gov.tw/tps/main/pms/tps/atm/atmAwardAction.do?newEdit=false&searchMode=common&method=inquiryForPublic&pkAtmMain=51603685&tenderCaseNo=1040563\n",
      "http://web.pcc.gov.tw/tps/main/pms/tps/atm/atmAwardAction.do?newEdit=false&searchMode=common&method=inquiryForPublic&pkAtmMain=51603651&tenderCaseNo=104-7\n",
      "http://web.pcc.gov.tw/tps/main/pms/tps/atm/atmAwardAction.do?newEdit=false&searchMode=common&method=inquiryForPublic&pkAtmMain=51603587&tenderCaseNo=1040610\n",
      "http://web.pcc.gov.tw/tps/main/pms/tps/atm/atmAwardAction.do?newEdit=false&searchMode=common&method=inquiryForPublic&pkAtmMain=51603450&tenderCaseNo=104110130149\n",
      "http://web.pcc.gov.tw/tps/main/pms/tps/atm/atmAwardAction.do?newEdit=false&searchMode=common&method=inquiryForPublic&pkAtmMain=51603443&tenderCaseNo=10405-2\n",
      "http://web.pcc.gov.tw/tps/main/pms/tps/atm/atmAwardAction.do?newEdit=false&searchMode=common&method=inquiryForPublic&pkAtmMain=51603427&tenderCaseNo=10418\n",
      "http://web.pcc.gov.tw/tps/main/pms/tps/atm/atmAwardAction.do?newEdit=false&searchMode=common&method=inquiryForPublic&pkAtmMain=51603424&tenderCaseNo=LN104007\n",
      "http://web.pcc.gov.tw/tps/main/pms/tps/atm/atmAwardAction.do?newEdit=false&searchMode=common&method=inquiryForPublic&pkAtmMain=51603412&tenderCaseNo=10417\n",
      "http://web.pcc.gov.tw/tps/main/pms/tps/atm/atmAwardAction.do?newEdit=false&searchMode=common&method=inquiryForPublic&pkAtmMain=51603405&tenderCaseNo=10416\n",
      "http://web.pcc.gov.tw/tps/main/pms/tps/atm/atmAwardAction.do?newEdit=false&searchMode=common&method=inquiryForPublic&pkAtmMain=51582175&tenderCaseNo=AASC-104088\n",
      "http://web.pcc.gov.tw/tps/main/pms/tps/atm/atmAwardAction.do?newEdit=false&searchMode=common&method=inquiryForPublic&pkAtmMain=51601391&tenderCaseNo=1040707\n",
      "http://web.pcc.gov.tw/tps/main/pms/tps/atm/atmAwardAction.do?newEdit=false&searchMode=common&method=inquiryForPublic&pkAtmMain=51602341&tenderCaseNo=104060901\n",
      "http://web.pcc.gov.tw/tps/main/pms/tps/atm/atmAwardAction.do?newEdit=false&searchMode=common&method=inquiryForPublic&pkAtmMain=51602350&tenderCaseNo=104072\n",
      "http://web.pcc.gov.tw/tps/main/pms/tps/atm/atmAwardAction.do?newEdit=false&searchMode=common&method=inquiryForPublic&pkAtmMain=51602358&tenderCaseNo=P1040521\n",
      "http://web.pcc.gov.tw/tps/main/pms/tps/atm/atmAwardAction.do?newEdit=false&searchMode=common&method=inquiryForPublic&pkAtmMain=51602359&tenderCaseNo=IMSC-104139\n",
      "http://web.pcc.gov.tw/tps/main/pms/tps/atm/atmAwardAction.do?newEdit=false&searchMode=common&method=inquiryForPublic&pkAtmMain=51602363&tenderCaseNo=K104020\n",
      "http://web.pcc.gov.tw/tps/main/pms/tps/atm/atmAwardAction.do?newEdit=false&searchMode=common&method=inquiryForPublic&pkAtmMain=51602364&tenderCaseNo=104-02-033\n",
      "http://web.pcc.gov.tw/tps/main/pms/tps/atm/atmAwardAction.do?newEdit=false&searchMode=common&method=inquiryForPublic&pkAtmMain=51602370&tenderCaseNo=104-02-037\n",
      "http://web.pcc.gov.tw/tps/main/pms/tps/atm/atmAwardAction.do?newEdit=false&searchMode=common&method=inquiryForPublic&pkAtmMain=51602374&tenderCaseNo=104-02-035\n",
      "http://web.pcc.gov.tw/tps/main/pms/tps/atm/atmAwardAction.do?newEdit=false&searchMode=common&method=inquiryForPublic&pkAtmMain=51602372&tenderCaseNo=104-02-034\n",
      "http://web.pcc.gov.tw/tps/main/pms/tps/atm/atmAwardAction.do?newEdit=false&searchMode=common&method=inquiryForPublic&pkAtmMain=51602375&tenderCaseNo=104-02-036\n",
      "http://web.pcc.gov.tw/tps/main/pms/tps/atm/atmAwardAction.do?newEdit=false&searchMode=common&method=inquiryForPublic&pkAtmMain=51602378&tenderCaseNo=S104074\n",
      "http://web.pcc.gov.tw/tps/main/pms/tps/atm/atmAwardAction.do?newEdit=false&searchMode=common&method=inquiryForPublic&pkAtmMain=51602383&tenderCaseNo=IC103007\n",
      "http://web.pcc.gov.tw/tps/main/pms/tps/atm/atmAwardAction.do?newEdit=false&searchMode=common&method=inquiryForPublic&pkAtmMain=51601955&tenderCaseNo=1040960\n",
      "http://web.pcc.gov.tw/tps/main/pms/tps/atm/atmAwardAction.do?newEdit=false&searchMode=common&method=inquiryForPublic&pkAtmMain=51602407&tenderCaseNo=104070201\n",
      "http://web.pcc.gov.tw/tps/main/pms/tps/atm/atmAwardAction.do?newEdit=false&searchMode=common&method=inquiryForPublic&pkAtmMain=51559072&tenderCaseNo=10439\n",
      "http://web.pcc.gov.tw/tps/main/pms/tps/atm/atmAwardAction.do?newEdit=false&searchMode=common&method=inquiryForPublic&pkAtmMain=51602433&tenderCaseNo=1040522A\n",
      "http://web.pcc.gov.tw/tps/main/pms/tps/atm/atmAwardAction.do?newEdit=false&searchMode=common&method=inquiryForPublic&pkAtmMain=51602435&tenderCaseNo=1040623G\n",
      "http://web.pcc.gov.tw/tps/main/pms/tps/atm/atmAwardAction.do?newEdit=false&searchMode=common&method=inquiryForPublic&pkAtmMain=51602453&tenderCaseNo=S104014\n",
      "http://web.pcc.gov.tw/tps/main/pms/tps/atm/atmAwardAction.do?newEdit=false&searchMode=common&method=inquiryForPublic&pkAtmMain=51602454&tenderCaseNo=NPM104077\n",
      "http://web.pcc.gov.tw/tps/main/pms/tps/atm/atmAwardAction.do?newEdit=false&searchMode=common&method=inquiryForPublic&pkAtmMain=51602456&tenderCaseNo=1040624C\n",
      "http://web.pcc.gov.tw/tps/main/pms/tps/atm/atmAwardAction.do?newEdit=false&searchMode=common&method=inquiryForPublic&pkAtmMain=51602468&tenderCaseNo=1040708\n",
      "http://web.pcc.gov.tw/tps/main/pms/tps/atm/atmAwardAction.do?newEdit=false&searchMode=common&method=inquiryForPublic&pkAtmMain=51602470&tenderCaseNo=104-A-014\n",
      "http://web.pcc.gov.tw/tps/main/pms/tps/atm/atmAwardAction.do?newEdit=false&searchMode=common&method=inquiryForPublic&pkAtmMain=51602471&tenderCaseNo=10406B\n",
      "http://web.pcc.gov.tw/tps/main/pms/tps/atm/atmAwardAction.do?newEdit=false&searchMode=common&method=inquiryForPublic&pkAtmMain=51602472&tenderCaseNo=104062505\n",
      "http://web.pcc.gov.tw/tps/main/pms/tps/atm/atmAwardAction.do?newEdit=false&searchMode=common&method=inquiryForPublic&pkAtmMain=51602482&tenderCaseNo=No104-0010\n",
      "http://web.pcc.gov.tw/tps/main/pms/tps/atm/atmAwardAction.do?newEdit=false&searchMode=common&method=inquiryForPublic&pkAtmMain=51602492&tenderCaseNo=F104-036\n",
      "http://web.pcc.gov.tw/tps/main/pms/tps/atm/atmAwardAction.do?newEdit=false&searchMode=common&method=inquiryForPublic&pkAtmMain=51602495&tenderCaseNo=104-096\n",
      "http://web.pcc.gov.tw/tps/main/pms/tps/atm/atmAwardAction.do?newEdit=false&searchMode=common&method=inquiryForPublic&pkAtmMain=51602501&tenderCaseNo=NPM104069\n",
      "http://web.pcc.gov.tw/tps/main/pms/tps/atm/atmAwardAction.do?newEdit=false&searchMode=common&method=inquiryForPublic&pkAtmMain=51602508&tenderCaseNo=MOEAWRA1040061\n",
      "http://web.pcc.gov.tw/tps/main/pms/tps/atm/atmAwardAction.do?newEdit=false&searchMode=common&method=inquiryForPublic&pkAtmMain=51602531&tenderCaseNo=104A011\n",
      "http://web.pcc.gov.tw/tps/main/pms/tps/atm/atmAwardAction.do?newEdit=false&searchMode=common&method=inquiryForPublic&pkAtmMain=51602532&tenderCaseNo=104020\n",
      "http://web.pcc.gov.tw/tps/main/pms/tps/atm/atmAwardAction.do?newEdit=false&searchMode=common&method=inquiryForPublic&pkAtmMain=51602564&tenderCaseNo=104024\n",
      "http://web.pcc.gov.tw/tps/main/pms/tps/atm/atmAwardAction.do?newEdit=false&searchMode=common&method=inquiryForPublic&pkAtmMain=51602565&tenderCaseNo=1040703\n",
      "http://web.pcc.gov.tw/tps/main/pms/tps/atm/atmAwardAction.do?newEdit=false&searchMode=common&method=inquiryForPublic&pkAtmMain=51602570&tenderCaseNo=104-006\n",
      "http://web.pcc.gov.tw/tps/main/pms/tps/atm/atmAwardAction.do?newEdit=false&searchMode=common&method=inquiryForPublic&pkAtmMain=51602578&tenderCaseNo=D104033\n",
      "http://web.pcc.gov.tw/tps/main/pms/tps/atm/atmAwardAction.do?newEdit=false&searchMode=common&method=inquiryForPublic&pkAtmMain=51602589&tenderCaseNo=1040529\n",
      "http://web.pcc.gov.tw/tps/main/pms/tps/atm/atmAwardAction.do?newEdit=false&searchMode=common&method=inquiryForPublic&pkAtmMain=51602590&tenderCaseNo=TC104C094\n",
      "http://web.pcc.gov.tw/tps/main/pms/tps/atm/atmAwardAction.do?newEdit=false&searchMode=common&method=inquiryForPublic&pkAtmMain=51482308&tenderCaseNo=104-C-Z-004\n",
      "http://web.pcc.gov.tw/tps/main/pms/tps/atm/atmAwardAction.do?newEdit=false&searchMode=common&method=inquiryForPublic&pkAtmMain=51602594&tenderCaseNo=1040005214\n",
      "http://web.pcc.gov.tw/tps/main/pms/tps/atm/atmAwardAction.do?newEdit=false&searchMode=common&method=inquiryForPublic&pkAtmMain=51482312&tenderCaseNo=104-C-Z-002\n",
      "http://web.pcc.gov.tw/tps/main/pms/tps/atm/atmAwardAction.do?newEdit=false&searchMode=common&method=inquiryForPublic&pkAtmMain=51602597&tenderCaseNo=J104-040\n",
      "http://web.pcc.gov.tw/tps/main/pms/tps/atm/atmAwardAction.do?newEdit=false&searchMode=common&method=inquiryForPublic&pkAtmMain=51482311&tenderCaseNo=104-C-Z-003\n",
      "http://web.pcc.gov.tw/tps/main/pms/tps/atm/atmAwardAction.do?newEdit=false&searchMode=common&method=inquiryForPublic&pkAtmMain=51602601&tenderCaseNo=1040702001\n",
      "http://web.pcc.gov.tw/tps/main/pms/tps/atm/atmAwardAction.do?newEdit=false&searchMode=common&method=inquiryForPublic&pkAtmMain=51602603&tenderCaseNo=104A143\n",
      "http://web.pcc.gov.tw/tps/main/pms/tps/atm/atmAwardAction.do?newEdit=false&searchMode=common&method=inquiryForPublic&pkAtmMain=51520991&tenderCaseNo=104-C-Z-007\n",
      "http://web.pcc.gov.tw/tps/main/pms/tps/atm/atmAwardAction.do?newEdit=false&searchMode=common&method=inquiryForPublic&pkAtmMain=51520995&tenderCaseNo=104-C-Z-008\n",
      "http://web.pcc.gov.tw/tps/main/pms/tps/atm/atmAwardAction.do?newEdit=false&searchMode=common&method=inquiryForPublic&pkAtmMain=51602615&tenderCaseNo=1040702B1\n",
      "http://web.pcc.gov.tw/tps/main/pms/tps/atm/atmAwardAction.do?newEdit=false&searchMode=common&method=inquiryForPublic&pkAtmMain=51602617&tenderCaseNo=DEA0461004\n",
      "http://web.pcc.gov.tw/tps/main/pms/tps/atm/atmAwardAction.do?newEdit=false&searchMode=common&method=inquiryForPublic&pkAtmMain=51602620&tenderCaseNo=KMA-L-10405\n",
      "http://web.pcc.gov.tw/tps/main/pms/tps/atm/atmAwardAction.do?newEdit=false&searchMode=common&method=inquiryForPublic&pkAtmMain=51602629&tenderCaseNo=104-9\n",
      "http://web.pcc.gov.tw/tps/main/pms/tps/atm/atmAwardAction.do?newEdit=false&searchMode=common&method=inquiryForPublic&pkAtmMain=51602645&tenderCaseNo=104009\n",
      "http://web.pcc.gov.tw/tps/main/pms/tps/atm/atmAwardAction.do?newEdit=false&searchMode=common&method=inquiryForPublic&pkAtmMain=51602652&tenderCaseNo=1040720\n",
      "http://web.pcc.gov.tw/tps/main/pms/tps/atm/atmAwardAction.do?newEdit=false&searchMode=common&method=inquiryForPublic&pkAtmMain=51602662&tenderCaseNo=3410400166-S04060\n",
      "http://web.pcc.gov.tw/tps/main/pms/tps/atm/atmAwardAction.do?newEdit=false&searchMode=common&method=inquiryForPublic&pkAtmMain=51602670&tenderCaseNo=10400004\n",
      "http://web.pcc.gov.tw/tps/main/pms/tps/atm/atmAwardAction.do?newEdit=false&searchMode=common&method=inquiryForPublic&pkAtmMain=51602674&tenderCaseNo=104-0022205-052-2-1\n",
      "http://web.pcc.gov.tw/tps/main/pms/tps/atm/atmAwardAction.do?newEdit=false&searchMode=common&method=inquiryForPublic&pkAtmMain=51602677&tenderCaseNo=104A102\n",
      "http://web.pcc.gov.tw/tps/main/pms/tps/atm/atmAwardAction.do?newEdit=false&searchMode=common&method=inquiryForPublic&pkAtmMain=51602678&tenderCaseNo=1040701\n",
      "http://web.pcc.gov.tw/tps/main/pms/tps/atm/atmAwardAction.do?newEdit=false&searchMode=common&method=inquiryForPublic&pkAtmMain=51602681&tenderCaseNo=MDK0470002\n",
      "http://web.pcc.gov.tw/tps/main/pms/tps/atm/atmAwardAction.do?newEdit=false&searchMode=common&method=inquiryForPublic&pkAtmMain=51602691&tenderCaseNo=104AP03\n",
      "http://web.pcc.gov.tw/tps/main/pms/tps/atm/atmAwardAction.do?newEdit=false&searchMode=common&method=inquiryForPublic&pkAtmMain=51602702&tenderCaseNo=104-07-03\n",
      "http://web.pcc.gov.tw/tps/main/pms/tps/atm/atmAwardAction.do?newEdit=false&searchMode=common&method=inquiryForPublic&pkAtmMain=51602706&tenderCaseNo=104TFDA-MD-032\n",
      "http://web.pcc.gov.tw/tps/main/pms/tps/atm/atmAwardAction.do?newEdit=false&searchMode=common&method=inquiryForPublic&pkAtmMain=51602714&tenderCaseNo=M04C5346\n",
      "http://web.pcc.gov.tw/tps/main/pms/tps/atm/atmAwardAction.do?newEdit=false&searchMode=common&method=inquiryForPublic&pkAtmMain=51602720&tenderCaseNo=104072306\n",
      "http://web.pcc.gov.tw/tps/main/pms/tps/atm/atmAwardAction.do?newEdit=false&searchMode=common&method=inquiryForPublic&pkAtmMain=51602725&tenderCaseNo=EEA0423002\n",
      "http://web.pcc.gov.tw/tps/main/pms/tps/atm/atmAwardAction.do?newEdit=false&searchMode=common&method=inquiryForPublic&pkAtmMain=51602740&tenderCaseNo=104-0022204-078-2-4\n",
      "http://web.pcc.gov.tw/tps/main/pms/tps/atm/atmAwardAction.do?newEdit=false&searchMode=common&method=inquiryForPublic&pkAtmMain=51602744&tenderCaseNo=DDA0442003\n",
      "http://web.pcc.gov.tw/tps/main/pms/tps/atm/atmAwardAction.do?newEdit=false&searchMode=common&method=inquiryForPublic&pkAtmMain=51602748&tenderCaseNo=1070400010\n"
     ]
    }
   ],
   "source": [
    "for row in bid_rows:\n",
    "    #print row.select('a')[0]['href']\n",
    "    print \"http://web.pcc.gov.tw/tps\" +row.select('a')[0]['href'][2:]"
   ]
  },
  {
   "cell_type": "code",
   "execution_count": 47,
   "metadata": {
    "collapsed": true
   },
   "outputs": [],
   "source": [
    "cookie = 'Cookie:OvertureRecord=OR=a3d3c3Y9MjJ6enoxanJyam9oMWZycDF3ejI=&OQ=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; SEID_G=adaabf67-0d27-4259-8222-8b9a7cf435fa; TRID_G=acbb8ae9-98a9-4aae-8a7b-5c52067bc351; __ltmwga=utmcsr=google|utmccn=normal_buy|utmcmd=cpc|utmcct=Buy_buyhouse2; __dmwsc=20141103q06ks0000u0000,cwh50fet2ea20yasmldsep0d,dm00245; _dc_gtm_UA-35108030-1=1; _gat_UA-35108030-1=1; WMX_Channel=,1,; yawbewkcehc=0; _ga=GA1.4.797279976.1438235587; __asc=50c1b7d114edd856a353805a2b8; __auc=50c1b7d114edd856a353805a2b8; sto-id-%3Fv30%3FGroup-buy.yungching.com.tw%3A80=EIABBOKM'"
   ]
  },
  {
   "cell_type": "code",
   "execution_count": 51,
   "metadata": {
    "collapsed": false
   },
   "outputs": [
    {
     "name": "stdout",
     "output_type": "stream",
     "text": [
      "121.603565\n",
      "25.073078\n"
     ]
    }
   ],
   "source": [
    "import requests\n",
    "from bs4 import BeautifulSoup\n",
    "header = {'Cookie':cookie}\n",
    "res = requests.get('http://buy.yungching.com.tw/house/1412136', headers = header)\n",
    "soup = BeautifulSoup(res.text)\n",
    "print soup.select('input #hiddenCenterLng')[0]['value']\n",
    "print soup.select('input #hiddenCenterLat')[0]['value']"
   ]
  },
  {
   "cell_type": "code",
   "execution_count": 52,
   "metadata": {
    "collapsed": true
   },
   "outputs": [],
   "source": [
    "#http://www.agoda.com/zh-tw/karuizawa-prince-hotel/hotel/nagano-jp.html?asq=XqlQ7bJ0pUN0G2iz%2fnzAiKwIKXLAeNvWtpQWDcTtyrt%2fG6oM%2bL0%2btlSipMZrW3OBjN8EiRy9%2bvkHleBkbbQo4ykDdO7kuPH5GA57mOUbrusR%2fogolsxvFcX8itXtKOeFfgl%2fndLiT7ibguvYS9WzAWtqUjC89Zeq3dp2B9Y%2fyugmtTSEoaWnzobkDgTwtUHX&cid=1618671&tag=b260f18c-071f-4d88-9ce3-254d59e297b2&tyra=1%7c1&searchrequestid=117a99b2-100a-4c0c-84d5-17fd54f0d925&pingnumber=1"
   ]
  },
  {
   "cell_type": "code",
   "execution_count": 58,
   "metadata": {
    "collapsed": false
   },
   "outputs": [],
   "source": [
    "import requests\n",
    "from bs4 import BeautifulSoup\n",
    "#header = {'Cookie':cookie}\n",
    "res = requests.get('http://www.agoda.com/zh-tw/karuizawa-prince-hotel/hotel/nagano-jp.html?asq=XqlQ7bJ0pUN0G2iz%2fnzAiKwIKXLAeNvWtpQWDcTtyrt%2fG6oM%2bL0%2btlSipMZrW3OBjN8EiRy9%2bvkHleBkbbQo4ykDdO7kuPH5GA57mOUbrusR%2fogolsxvFcX8itXtKOeFfgl%2fndLiT7ibguvYS9WzAWtqUjC89Zeq3dp2B9Y%2fyugmtTSEoaWnzobkDgTwtUHX&cid=1618671&tag=b260f18c-071f-4d88-9ce3-254d59e297b2&tyra=1%7c1&searchrequestid=117a99b2-100a-4c0c-84d5-17fd54f0d925&pingnumber=1#')\n",
    "soup = BeautifulSoup(res.text)\n",
    "#print res.text\n",
    "#print soup.select('input #hiddenCenterLng')[0]['value']\n",
    "#print soup.select('input #hiddenCenterLat')[0]['value']"
   ]
  },
  {
   "cell_type": "code",
   "execution_count": 83,
   "metadata": {
    "collapsed": true
   },
   "outputs": [],
   "source": [
    "bid_file = open(\"bid_list.txt\", 'w')\n",
    "page_format =\"http://web.pcc.gov.tw/tps/pss/tender.do?searchMode=common&searchType=advance&searchTarget=ATM&method=search&isSpdt=&pageIndex=%d\"\n",
    "for page in range(1, page_number + 1):\n",
    "    bid_list = rs.get(page_format%(page))\n",
    "    bid_response = bid_list.text.encode('utf8')\n",
    "    bid_soup = BeautifulSoup(bid_response)\n",
    "    bid_table = bid_soup.select(\"#print_area\") [0]\n",
    "    bid_rows = bid_table.select('tr')[1:-1]\n",
    "    for bid_row in bid_rows:\n",
    "        link_href = \"http://web.pcc.gov.tw/tps\" +bid_row.select('a')[0]['href'][2:]\n",
    "        bid_file.write(link_href + \"\\n\")\n",
    "bid_file.close()"
   ]
  },
  {
   "cell_type": "code",
   "execution_count": 88,
   "metadata": {
    "collapsed": false
   },
   "outputs": [
    {
     "name": "stdout",
     "output_type": "stream",
     "text": [
      "214\n"
     ]
    }
   ],
   "source": [
    "line_num = 0\n",
    "f = open(\"bid_list.txt\", \"r\")\n",
    "for line in f.readlines():\n",
    "    line_num = line_num + 1\n",
    "print line_num\n",
    "f.close()\n",
    "\n",
    "line_number =  len([line for line in open('bid_list.txt')])"
   ]
  },
  {
   "cell_type": "code",
   "execution_count": 90,
   "metadata": {
    "collapsed": false
   },
   "outputs": [
    {
     "name": "stdout",
     "output_type": "stream",
     "text": [
      "214\n",
      "yes, they are equal\n"
     ]
    }
   ],
   "source": [
    "print rec_number\n",
    "if rec_number == line_number:\n",
    "    print \"yes, they are equal\"\n",
    "    \n",
    "assert rec_number == line_number"
   ]
  },
  {
   "cell_type": "code",
   "execution_count": 1,
   "metadata": {
    "collapsed": false
   },
   "outputs": [
    {
     "name": "stdout",
     "output_type": "stream",
     "text": [
      "1\n",
      "2\n",
      "3\n",
      "4\n",
      "5\n",
      "6\n",
      "7\n",
      "8\n",
      "9\n",
      "10 \n"
     ]
    }
   ],
   "source": [
    "#assert rec_number == 123\n",
    "\n",
    "i = 0\n",
    "while True:\n",
    "    i += 1\n",
    "    try:\n",
    "        assert i < 10\n",
    "    except AssertionError as e:\n",
    "        print i, e\n",
    "        break\n",
    "    print i"
   ]
  },
  {
   "cell_type": "code",
   "execution_count": 3,
   "metadata": {
    "collapsed": false
   },
   "outputs": [],
   "source": [
    "import requests\n",
    "res = requests.get('http://web.pcc.gov.tw/tps/main/pms/tps/atm/atmAwardAction.do?newEdit=false&searchMode=common&method=inquiryForPublic&pkAtmMain=51603189&tenderCaseNo=1040202')\n",
    "#print res.text"
   ]
  },
  {
   "cell_type": "code",
   "execution_count": 6,
   "metadata": {
    "collapsed": false
   },
   "outputs": [],
   "source": [
    "from bs4 import BeautifulSoup\n",
    "soup = BeautifulSoup(res.text)\n",
    "#print soup.select('#printArea')[0]"
   ]
  },
  {
   "cell_type": "code",
   "execution_count": 12,
   "metadata": {
    "collapsed": false
   },
   "outputs": [],
   "source": [
    "from bs4 import BeautifulSoup\n",
    "f = open('bid_detail.txt', 'w')\n",
    "soup = BeautifulSoup(res.text)\n",
    "#f.write(soup.select('#printArea')[0])\n",
    "#print type(soup.select('#printArea')[0])\n",
    "detail = soup.select('#printArea')[0].prettify('utf-8')\n",
    "f.write(detail)\n",
    "f.close()"
   ]
  },
  {
   "cell_type": "code",
   "execution_count": null,
   "metadata": {
    "collapsed": true
   },
   "outputs": [],
   "source": []
  }
 ],
 "metadata": {
  "kernelspec": {
   "display_name": "Python 2",
   "language": "python",
   "name": "python2"
  },
  "language_info": {
   "codemirror_mode": {
    "name": "ipython",
    "version": 2
   },
   "file_extension": ".py",
   "mimetype": "text/x-python",
   "name": "python",
   "nbconvert_exporter": "python",
   "pygments_lexer": "ipython2",
   "version": "2.7.6"
  }
 },
 "nbformat": 4,
 "nbformat_minor": 0
}
