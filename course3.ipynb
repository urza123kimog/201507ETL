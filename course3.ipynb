{
 "cells": [
  {
   "cell_type": "code",
   "execution_count": 4,
   "metadata": {
    "collapsed": false
   },
   "outputs": [
    {
     "name": "stdout",
     "output_type": "stream",
     "text": [
      "[u' ', <html> <body> <h1 id=\"title\">Hello World</h1> <a class=\"link\" href=\"#\">This is link1</a> <a class=\"link\" href=\"# link2\">This is link2</a> </body> </html>]\n",
      "<html> <body> <h1 id=\"title\">Hello World</h1> <a class=\"link\" href=\"#\">This is link1</a> <a class=\"link\" href=\"# link2\">This is link2</a> </body> </html>\n",
      "   Hello World This is link1 This is link2  \n"
     ]
    }
   ],
   "source": [
    "from bs4 import BeautifulSoup\n",
    "html_sample = ' \\\n",
    "<html> \\\n",
    "<body> \\\n",
    "<h1 id=\"title\">Hello World</h1> \\\n",
    "<a href=\"#\" class=\"link\">This is link1</a> \\\n",
    "<a href=\"# link2\" class=\"link\">This is link2</a> \\\n",
    "</body> \\\n",
    "</html>'\n",
    "\n",
    "soup = BeautifulSoup(html_sample)\n",
    "print soup.contents\n",
    "print soup.contents[1]\n",
    "print soup.text"
   ]
  },
  {
   "cell_type": "code",
   "execution_count": 5,
   "metadata": {
    "collapsed": false
   },
   "outputs": [],
   "source": [
    "#print dir(soup)"
   ]
  },
  {
   "cell_type": "code",
   "execution_count": 11,
   "metadata": {
    "collapsed": false
   },
   "outputs": [
    {
     "name": "stdout",
     "output_type": "stream",
     "text": [
      "<a class=\"link\" href=\"#\">This is link1</a>\n",
      "<class 'bs4.element.Tag'>\n",
      "This is link1\n",
      "#\n",
      "[u'link']\n"
     ]
    }
   ],
   "source": [
    "alink = soup.find('a')\n",
    "print alink\n",
    "print type(alink)\n",
    "#print dir(alink)\n",
    "print alink.text\n",
    "print alink['href']\n",
    "print alink['class']"
   ]
  },
  {
   "cell_type": "code",
   "execution_count": 19,
   "metadata": {
    "collapsed": false
   },
   "outputs": [
    {
     "name": "stdout",
     "output_type": "stream",
     "text": [
      "[<a class=\"link\" href=\"#\">This is link1</a>, <a class=\"link\" href=\"# link2\">This is link2</a>]\n",
      "<class 'bs4.element.ResultSet'>\n",
      "<a class=\"link\" href=\"#\">This is link1</a>\n",
      "<a class=\"link\" href=\"# link2\">This is link2</a>\n",
      "[u'This is link1']\n",
      "This is link1\n",
      "[u'This is link2']\n",
      "This is link2\n"
     ]
    }
   ],
   "source": [
    "alinks = soup.findAll('a')\n",
    "print alinks\n",
    "print type(alinks)\n",
    "print alinks[0]\n",
    "print alinks[1]\n",
    "for link  in alinks:\n",
    "    print link.contents\n",
    "    print link.text"
   ]
  },
  {
   "cell_type": "code",
   "execution_count": 20,
   "metadata": {
    "collapsed": false
   },
   "outputs": [
    {
     "name": "stdout",
     "output_type": "stream",
     "text": [
      "<h1 id=\"title\">Hello World</h1>\n"
     ]
    }
   ],
   "source": [
    "# <h1 id=\"title\">Hello World</h1> \n",
    "alink = soup.find('h1', {'id':'title'})\n",
    "print alink"
   ]
  },
  {
   "cell_type": "code",
   "execution_count": 22,
   "metadata": {
    "collapsed": false
   },
   "outputs": [
    {
     "name": "stdout",
     "output_type": "stream",
     "text": [
      "[<h1 id=\"title\">Hello World</h1>]\n",
      "<h1 id=\"title\">Hello World</h1>\n"
     ]
    }
   ],
   "source": [
    "alink = soup.select('#title') # id : #\n",
    "print alink\n",
    "print alink[0]"
   ]
  },
  {
   "cell_type": "code",
   "execution_count": 23,
   "metadata": {
    "collapsed": false
   },
   "outputs": [
    {
     "name": "stdout",
     "output_type": "stream",
     "text": [
      "[<a class=\"link\" href=\"#\">This is link1</a>, <a class=\"link\" href=\"# link2\">This is link2</a>]\n"
     ]
    }
   ],
   "source": [
    "#<a href=\"#\" class=\"link\">This is link1</a> \\\n",
    "#<a href=\"# link2\" class=\"link\">This is link2</a> \\\n",
    "\n",
    "classlink = soup.findAll('a', {'class', 'link'})\n",
    "print classlink\n"
   ]
  },
  {
   "cell_type": "code",
   "execution_count": 24,
   "metadata": {
    "collapsed": false
   },
   "outputs": [
    {
     "name": "stdout",
     "output_type": "stream",
     "text": [
      "[<a class=\"link\" href=\"#\">This is link1</a>, <a class=\"link\" href=\"# link2\">This is link2</a>]\n"
     ]
    }
   ],
   "source": [
    "classlink = soup.select('.link') # class: .\n",
    "print classlink"
   ]
  },
  {
   "cell_type": "code",
   "execution_count": 26,
   "metadata": {
    "collapsed": false
   },
   "outputs": [
    {
     "name": "stdout",
     "output_type": "stream",
     "text": [
      "#\n",
      "[u'link']\n",
      "# link2\n",
      "[u'link']\n"
     ]
    }
   ],
   "source": [
    "#<a href=\"#\" class=\"link\">This is link1</a> \\\n",
    "#<a href=\"# link2\" class=\"link\">This is link2</a> \\\n",
    "alinks = soup.findAll('a', {'href': True})\n",
    "for link in alinks:\n",
    "    print link['href']\n",
    "    print link['class']"
   ]
  },
  {
   "cell_type": "code",
   "execution_count": 29,
   "metadata": {
    "collapsed": false
   },
   "outputs": [
    {
     "name": "stdout",
     "output_type": "stream",
     "text": [
      "#\n",
      "# link2\n"
     ]
    }
   ],
   "source": [
    "alinks = soup.select('a')\n",
    "for link in alinks:\n",
    "    print link['href']"
   ]
  },
  {
   "cell_type": "code",
   "execution_count": 44,
   "metadata": {
    "collapsed": false
   },
   "outputs": [
    {
     "name": "stdout",
     "output_type": "stream",
     "text": [
      "高鼎英文補習班 台南市新營區綠川北街65號\n",
      "許鎮高中英文補習班 台東縣台東市寧波街6號\n",
      "李捷英文補習班 新北市三重區力行路二段182號2樓\n",
      "杜老師英文補習班 台北市莊敬路300號2樓\n",
      "沈老師英文補習班 台北市昆明街121號2樓\n",
      "琴森英文補習班 台北市內湖路一段309號1樓及地下1樓\n",
      "碧老師英文補習班 台北市北安路630巷25弄9號1樓\n",
      "嘉義市私立黃氏英語國語正音短期職業補習班 嘉義市民族路874號\n",
      "私立Ｅ－Ｚ語文短期補習班 南投縣埔里鎮民生路77號\n",
      "私立立進電腦美語文理短期補習班 桃園市桃園區同安街550號\n",
      "私立立進電腦美語文理短期補習班 桃園市桃園區同安街550號1至3樓\n",
      "私立薇薇安美語補習班 高雄市左營區華夏路979號\n",
      "嘉義市私立學思園文理短期補習班 嘉義市南京路398號3樓\n",
      "臺北市私立北一文理短期補習班 台北市中正區信義路二段271號5樓\n",
      "臺北市私立北一文理短期補習班 台北市中正區南陽街14號\n",
      "台北市私立北一文理短期補習班 台北市大安區信義路三段7號1樓\n",
      "台北市私立北一文理短期補習班 台北市中正區南陽街14號\n",
      "私立嘉耘文理短期補習班 高雄市左營區文恩路26號1之3樓\n",
      "雲林縣私立吳爾夫英文文理短期補習班 雲林縣虎尾鎮大成街301號\n",
      "雲林縣私立世界文理美語短期補習班 雲林縣斗六市雲林路一段180巷9號\n"
     ]
    }
   ],
   "source": [
    "import requests\n",
    "from bs4 import BeautifulSoup\n",
    "for pg in range(0,2):\n",
    "    res = requests.get('https://www.iyp.com.tw/search.php?a_id=&k=%E8%8B%B1%E6%96%87+%E8%A3%9C%E7%BF%92%E7%8F%AD&p={0}'.format(pg))\n",
    "    #print res.encoding\n",
    "    res.encoding = 'utf-8'\n",
    "\n",
    "    soup = BeautifulSoup(res.text)\n",
    "    for ele in soup.select('.general li'):\n",
    "        if len(ele.select('h3')) > 0:\n",
    "            print ele.select('h3')[0].text, ele.select('.view-map')[0]['go-map'].split('&k=')[1]\n"
   ]
  },
  {
   "cell_type": "code",
   "execution_count": null,
   "metadata": {
    "collapsed": true
   },
   "outputs": [],
   "source": []
  }
 ],
 "metadata": {
  "kernelspec": {
   "display_name": "Python 2",
   "language": "python",
   "name": "python2"
  },
  "language_info": {
   "codemirror_mode": {
    "name": "ipython",
    "version": 2
   },
   "file_extension": ".py",
   "mimetype": "text/x-python",
   "name": "python",
   "nbconvert_exporter": "python",
   "pygments_lexer": "ipython2",
   "version": "2.7.6"
  }
 },
 "nbformat": 4,
 "nbformat_minor": 0
}
