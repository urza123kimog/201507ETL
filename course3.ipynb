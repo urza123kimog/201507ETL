{
 "cells": [
  {
   "cell_type": "code",
   "execution_count": 4,
   "metadata": {
    "collapsed": false
   },
   "outputs": [
    {
     "name": "stdout",
     "output_type": "stream",
     "text": [
      "[u' ', <html> <body> <h1 id=\"title\">Hello World</h1> <a class=\"link\" href=\"#\">This is link1</a> <a class=\"link\" href=\"# link2\">This is link2</a> </body> </html>]\n",
      "<html> <body> <h1 id=\"title\">Hello World</h1> <a class=\"link\" href=\"#\">This is link1</a> <a class=\"link\" href=\"# link2\">This is link2</a> </body> </html>\n",
      "   Hello World This is link1 This is link2  \n"
     ]
    }
   ],
   "source": [
    "from bs4 import BeautifulSoup\n",
    "html_sample = ' \\\n",
    "<html> \\\n",
    "<body> \\\n",
    "<h1 id=\"title\">Hello World</h1> \\\n",
    "<a href=\"#\" class=\"link\">This is link1</a> \\\n",
    "<a href=\"# link2\" class=\"link\">This is link2</a> \\\n",
    "</body> \\\n",
    "</html>'\n",
    "\n",
    "soup = BeautifulSoup(html_sample)\n",
    "print soup.contents\n",
    "print soup.contents[1]\n",
    "print soup.text"
   ]
  },
  {
   "cell_type": "code",
   "execution_count": 5,
   "metadata": {
    "collapsed": false
   },
   "outputs": [],
   "source": [
    "#print dir(soup)"
   ]
  },
  {
   "cell_type": "code",
   "execution_count": 11,
   "metadata": {
    "collapsed": false
   },
   "outputs": [
    {
     "name": "stdout",
     "output_type": "stream",
     "text": [
      "<a class=\"link\" href=\"#\">This is link1</a>\n",
      "<class 'bs4.element.Tag'>\n",
      "This is link1\n",
      "#\n",
      "[u'link']\n"
     ]
    }
   ],
   "source": [
    "alink = soup.find('a')\n",
    "print alink\n",
    "print type(alink)\n",
    "#print dir(alink)\n",
    "print alink.text\n",
    "print alink['href']\n",
    "print alink['class']"
   ]
  },
  {
   "cell_type": "code",
   "execution_count": 19,
   "metadata": {
    "collapsed": false
   },
   "outputs": [
    {
     "name": "stdout",
     "output_type": "stream",
     "text": [
      "[<a class=\"link\" href=\"#\">This is link1</a>, <a class=\"link\" href=\"# link2\">This is link2</a>]\n",
      "<class 'bs4.element.ResultSet'>\n",
      "<a class=\"link\" href=\"#\">This is link1</a>\n",
      "<a class=\"link\" href=\"# link2\">This is link2</a>\n",
      "[u'This is link1']\n",
      "This is link1\n",
      "[u'This is link2']\n",
      "This is link2\n"
     ]
    }
   ],
   "source": [
    "alinks = soup.findAll('a')\n",
    "print alinks\n",
    "print type(alinks)\n",
    "print alinks[0]\n",
    "print alinks[1]\n",
    "for link  in alinks:\n",
    "    print link.contents\n",
    "    print link.text"
   ]
  },
  {
   "cell_type": "code",
   "execution_count": 20,
   "metadata": {
    "collapsed": false
   },
   "outputs": [
    {
     "name": "stdout",
     "output_type": "stream",
     "text": [
      "<h1 id=\"title\">Hello World</h1>\n"
     ]
    }
   ],
   "source": [
    "# <h1 id=\"title\">Hello World</h1> \n",
    "alink = soup.find('h1', {'id':'title'})\n",
    "print alink"
   ]
  },
  {
   "cell_type": "code",
   "execution_count": 22,
   "metadata": {
    "collapsed": false
   },
   "outputs": [
    {
     "name": "stdout",
     "output_type": "stream",
     "text": [
      "[<h1 id=\"title\">Hello World</h1>]\n",
      "<h1 id=\"title\">Hello World</h1>\n"
     ]
    }
   ],
   "source": [
    "alink = soup.select('#title') # id : #\n",
    "print alink\n",
    "print alink[0]"
   ]
  },
  {
   "cell_type": "code",
   "execution_count": 23,
   "metadata": {
    "collapsed": false
   },
   "outputs": [
    {
     "name": "stdout",
     "output_type": "stream",
     "text": [
      "[<a class=\"link\" href=\"#\">This is link1</a>, <a class=\"link\" href=\"# link2\">This is link2</a>]\n"
     ]
    }
   ],
   "source": [
    "#<a href=\"#\" class=\"link\">This is link1</a> \\\n",
    "#<a href=\"# link2\" class=\"link\">This is link2</a> \\\n",
    "\n",
    "classlink = soup.findAll('a', {'class': 'link'})\n",
    "print classlink\n"
   ]
  },
  {
   "cell_type": "code",
   "execution_count": 24,
   "metadata": {
    "collapsed": false
   },
   "outputs": [
    {
     "name": "stdout",
     "output_type": "stream",
     "text": [
      "[<a class=\"link\" href=\"#\">This is link1</a>, <a class=\"link\" href=\"# link2\">This is link2</a>]\n"
     ]
    }
   ],
   "source": [
    "classlink = soup.select('.link') # class: .\n",
    "print classlink"
   ]
  },
  {
   "cell_type": "code",
   "execution_count": 26,
   "metadata": {
    "collapsed": false
   },
   "outputs": [
    {
     "name": "stdout",
     "output_type": "stream",
     "text": [
      "#\n",
      "[u'link']\n",
      "# link2\n",
      "[u'link']\n"
     ]
    }
   ],
   "source": [
    "#<a href=\"#\" class=\"link\">This is link1</a> \\\n",
    "#<a href=\"# link2\" class=\"link\">This is link2</a> \\\n",
    "alinks = soup.findAll('a', {'href': True})\n",
    "for link in alinks:\n",
    "    print link['href']\n",
    "    print link['class']"
   ]
  },
  {
   "cell_type": "code",
   "execution_count": 29,
   "metadata": {
    "collapsed": false
   },
   "outputs": [
    {
     "name": "stdout",
     "output_type": "stream",
     "text": [
      "#\n",
      "# link2\n"
     ]
    }
   ],
   "source": [
    "alinks = soup.select('a')\n",
    "for link in alinks:\n",
    "    print link['href']"
   ]
  },
  {
   "cell_type": "code",
   "execution_count": 45,
   "metadata": {
    "collapsed": false
   },
   "outputs": [],
   "source": [
    "import requests\n",
    "from bs4 import BeautifulSoup\n",
    "f = open('cramschool.csv', 'w')\n",
    "for pg in range(0,62):\n",
    "    res = requests.get('https://www.iyp.com.tw/showroom.php?cate_name_eng_lv1=education&cate_name_eng_lv3=languages&p={0}'.format(pg))\n",
    "    #print res.encoding\n",
    "    res.encoding = 'utf-8'\n",
    "\n",
    "    soup = BeautifulSoup(res.text)\n",
    "    for ele in soup.select('.general li'):\n",
    "        if len(ele.select('h3')) > 0:\n",
    "            f.write( \"%s,%s,%s\\n\"%(ele.select('h3')[0].text.encode('utf-8'), \\\n",
    "                  ele.select('.view-map')[0]['go-map'].split('&k=')[1].encode('utf-8'), \\\n",
    "                  ele.select('a')[0]['href'].split('www.iyp.com.tw/')[1].split('/')[0].encode('utf-8')))\n",
    "f.close()\n"
   ]
  },
  {
   "cell_type": "code",
   "execution_count": 45,
   "metadata": {
    "collapsed": true
   },
   "outputs": [],
   "source": [
    "import shutil\n",
    "import requests\n",
    "\n",
    "response = requests.get('https://www.iyp.com.tw/ajax.php?func=gImage&val=j0E2n%2FKGz4c8nQfkXn6w0776238V%2By%2F%2FAf2s10rhoUzcRZyk4z29VlJ6drriUSwzUdFUkWqAfbE%3D', stream=True)\n",
    "with open('img.png', 'wb') as out_file:\n",
    "    shutil.copyfileobj(response.raw, out_file)\n",
    "del response"
   ]
  },
  {
   "cell_type": "code",
   "execution_count": 46,
   "metadata": {
    "collapsed": false
   },
   "outputs": [
    {
     "data": {
      "image/png": "[encoded data removed]",
      "text/plain": [
       "<IPython.core.display.Image object>"
      ]
     },
     "execution_count": 46,
     "metadata": {},
     "output_type": "execute_result"
    }
   ],
   "source": [
    "from IPython.core.display import Image\n",
    "Image(\"img.png\")"
   ]
  },
  {
   "cell_type": "code",
   "execution_count": 65,
   "metadata": {
    "collapsed": false
   },
   "outputs": [],
   "source": [
    "# -*- coding: utf-8 -*-\n",
    "import requests\n",
    "payload = { 'method':'search', 'searchMethod':'true', 'searchTarget':'ATM',\n",
    "'orgName':'', 'orgId':'', 'hid_1':'1',\n",
    "'tenderName':'', 'tenderId':'', 'tenderStatus':'4,5,21,29',\n",
    "'tenderWay':'', 'awardAnnounceStartDate':'104/07/24',\n",
    "'awardAnnounceEndDate':'104/07/24', 'radProctrgCate':'3',\n",
    "'proctrgCate':'3', 'tenderRange':'', 'minBudget':'',\n",
    "'maxBudget':'', 'item':'','hid_2':'1',\n",
    "'gottenVendorName':'', 'gottenVendorId':'', 'hid_3':'1',\n",
    "'submitVendorName':'', 'submitVendorId':'', 'location':'',\n",
    "'priorityCate':'', 'isReConstruct':'', 'btnQuery':'查詢' }"
   ]
  },
  {
   "cell_type": "code",
   "execution_count": 66,
   "metadata": {
    "collapsed": false
   },
   "outputs": [],
   "source": [
    "user_post = requests.post(\"http://web.pcc.gov.tw/tps/pss/tender.do?searchMode=common&searchType=advance\", data=payload)\n",
    "response_text = user_post.text.encode('utf8')\n",
    "#print response_text"
   ]
  },
  {
   "cell_type": "code",
   "execution_count": 67,
   "metadata": {
    "collapsed": true
   },
   "outputs": [],
   "source": [
    "#http://web.pcc.gov.tw/tps/pss/tender.do?searchMode=common&searchType=advance&searchTarget=ATM&method=search&isSpdt=&pageIndex=1\n",
    "#http://web.pcc.gov.tw/tps/pss/tender.do?searchMode=common&searchType=advance&searchTarget=ATM&method=search&isSpdt=&pageIndex=2\n",
    "#http://web.pcc.gov.tw/tps/pss/tender.do?searchMode=common&searchType=advance&searchTarget=ATM&method=search&isSpdt=&pageIndex=3"
   ]
  },
  {
   "cell_type": "code",
   "execution_count": 68,
   "metadata": {
    "collapsed": false
   },
   "outputs": [
    {
     "name": "stdout",
     "output_type": "stream",
     "text": [
      "<class 'requests.sessions.Session'>\n"
     ]
    }
   ],
   "source": [
    "rs = requests.session()\n",
    "print type(rs)\n",
    "rs_post =rs.post(\"http://web.pcc.gov.tw/tps/pss/tender.do?searchMode=common&searchType=advance\", data=payload)\n",
    "rs_get =rs.get(\"http://web.pcc.gov.tw/tps/pss/tender.do?searchMode=common&searchType=advance&searchTarget=ATM&method=search&isSpdt=&pageIndex=2\")\n",
    "response = rs_get.text.encode('utf8')\n",
    "#print response"
   ]
  },
  {
   "cell_type": "code",
   "execution_count": 69,
   "metadata": {
    "collapsed": false,
    "scrolled": true
   },
   "outputs": [
    {
     "name": "stdout",
     "output_type": "stream",
     "text": [
      "[<span class=\"T11b\" style=\"color: red;\">214</span>]\n",
      "<span class=\"T11b\" style=\"color: red;\">214</span>\n",
      "214\n"
     ]
    }
   ],
   "source": [
    "user_post =requests.post(\"http://web.pcc.gov.tw/tps/pss/tender.do?searchMode=common&searchType=advance\", data=payload)\n",
    "response_text = user_post.text.encode('utf8')\n",
    "soup = BeautifulSoup(response_text)\n",
    "print soup.select('.T11b')\n",
    "print soup.select('.T11b')[0]\n",
    "print soup.select('.T11b')[0].text"
   ]
  },
  {
   "cell_type": "code",
   "execution_count": 70,
   "metadata": {
    "collapsed": false
   },
   "outputs": [
    {
     "name": "stdout",
     "output_type": "stream",
     "text": [
      "214\n"
     ]
    }
   ],
   "source": [
    "rec_number_element = soup.select('.T11b')[0]\n",
    "rec_number = int(rec_number_element.text)\n",
    "print rec_number"
   ]
  },
  {
   "cell_type": "code",
   "execution_count": 71,
   "metadata": {
    "collapsed": false
   },
   "outputs": [
    {
     "name": "stdout",
     "output_type": "stream",
     "text": [
      "3\n"
     ]
    }
   ],
   "source": [
    "import math\n",
    "page_number = int(math.ceil(float(rec_number) / 100))\n",
    "print page_number"
   ]
  },
  {
   "cell_type": "code",
   "execution_count": 72,
   "metadata": {
    "collapsed": false
   },
   "outputs": [
    {
     "name": "stdout",
     "output_type": "stream",
     "text": [
      "http://web.pcc.gov.tw/tps/pss/tender.do?searchMode=common&searchType=advance&searchTarget=ATM&method=search&isSpdt=&pageIndex=1\n",
      "http://web.pcc.gov.tw/tps/pss/tender.do?searchMode=common&searchType=advance&searchTarget=ATM&method=search&isSpdt=&pageIndex=2\n",
      "http://web.pcc.gov.tw/tps/pss/tender.do?searchMode=common&searchType=advance&searchTarget=ATM&method=search&isSpdt=&pageIndex=3\n"
     ]
    }
   ],
   "source": [
    "page_format =\"http://web.pcc.gov.tw/tps/pss/tender.do?searchMode=common&searchType=advance&searchTarget=ATM&method=search&isSpdt=&pageIndex={}\"\n",
    "for page in range(1, page_number + 1):\n",
    "    print page_format.format(page)"
   ]
  },
  {
   "cell_type": "code",
   "execution_count": 73,
   "metadata": {
    "collapsed": false
   },
   "outputs": [
    {
     "name": "stdout",
     "output_type": "stream",
     "text": [
      "http://web.pcc.gov.tw/tps/pss/tender.do?searchMode=common&searchType=advance&searchTarget=ATM&method=search&isSpdt=&pageIndex=1\n",
      "http://web.pcc.gov.tw/tps/pss/tender.do?searchMode=common&searchType=advance&searchTarget=ATM&method=search&isSpdt=&pageIndex=2\n",
      "http://web.pcc.gov.tw/tps/pss/tender.do?searchMode=common&searchType=advance&searchTarget=ATM&method=search&isSpdt=&pageIndex=3\n"
     ]
    }
   ],
   "source": [
    "for page in range(1, page_number + 1):\n",
    "    bid_list = rs.get(page_format.format(page))\n",
    "    bid_response = bid_list.text.encode('utf8')\n",
    "    print bid_list.url"
   ]
  },
  {
   "cell_type": "code",
   "execution_count": 74,
   "metadata": {
    "collapsed": false
   },
   "outputs": [],
   "source": [
    "page_format =\"http://web.pcc.gov.tw/tps/pss/tender.do?searchMode=common&searchType=advance&searchTarget=ATM&method=search&isSpdt=&pageIndex=%d\"\n",
    "page = 1\n",
    "bid_list = rs.get(page_format%(page))\n",
    "bid_response = bid_list.text.encode('utf8')\n",
    "bid_soup = BeautifulSoup(bid_response)\n",
    "bid_table = bid_soup.select('#print_area')[0]\n",
    "#print bid_table"
   ]
  },
  {
   "cell_type": "code",
   "execution_count": 75,
   "metadata": {
    "collapsed": false
   },
   "outputs": [],
   "source": [
    "#print bid_table.select('tr')[1:]"
   ]
  },
  {
   "cell_type": "code",
   "execution_count": 76,
   "metadata": {
    "collapsed": false
   },
   "outputs": [],
   "source": [
    "bid_rows = bid_table.select('tr')[1:-1]\n",
    "#print bid_rows"
   ]
  },
  {
   "cell_type": "code",
   "execution_count": 81,
   "metadata": {
    "collapsed": false
   },
   "outputs": [
    {
     "name": "stdout",
     "output_type": "stream",
     "text": [
      "http://web.pcc.gov.tw/tps/main/pms/tps/atm/atmAwardAction.do?newEdit=false&searchMode=common&method=inquiryForPublic&pkAtmMain=51603189&tenderCaseNo=1040202\n",
      "http://web.pcc.gov.tw/tps/main/pms/tps/atm/atmAwardAction.do?newEdit=false&searchMode=common&method=inquiryForPublic&pkAtmMain=51602392&tenderCaseNo=GUA20150522-1\n",
      "http://web.pcc.gov.tw/tps/main/pms/tps/atm/atmAwardAction.do?newEdit=false&searchMode=common&method=inquiryForPublic&pkAtmMain=51603176&tenderCaseNo=104W038\n",
      "http://web.pcc.gov.tw/tps/main/pms/tps/atm/atmAwardAction.do?newEdit=false&searchMode=common&method=inquiryForPublic&pkAtmMain=51603207&tenderCaseNo=1040071869\n",
      "http://web.pcc.gov.tw/tps/main/pms/tps/atm/atmAwardAction.do?newEdit=false&searchMode=common&method=inquiryForPublic&pkAtmMain=51603035&tenderCaseNo=YG10403\n",
      "http://web.pcc.gov.tw/tps/main/pms/tps/atm/atmAwardAction.do?newEdit=false&searchMode=common&method=inquiryForPublic&pkAtmMain=51604288&tenderCaseNo=104812124A\n",
      "http://web.pcc.gov.tw/tps/main/pms/tps/atm/atmAwardAction.do?newEdit=false&searchMode=common&method=inquiryForPublic&pkAtmMain=51604257&tenderCaseNo=104220130202\n",
      "http://web.pcc.gov.tw/tps/main/pms/tps/atm/atmAwardAction.do?newEdit=false&searchMode=common&method=inquiryForPublic&pkAtmMain=51604227&tenderCaseNo=RAD104211\n",
      "http://web.pcc.gov.tw/tps/main/pms/tps/atm/atmAwardAction.do?newEdit=false&searchMode=common&method=inquiryForPublic&pkAtmMain=51604181&tenderCaseNo=1040716-1\n",
      "http://web.pcc.gov.tw/tps/main/pms/tps/atm/atmAwardAction.do?newEdit=false&searchMode=common&method=inquiryForPublic&pkAtmMain=51604170&tenderCaseNo=1040716-2\n",
      "http://web.pcc.gov.tw/tps/main/pms/tps/atm/atmAwardAction.do?newEdit=false&searchMode=common&method=inquiryForPublic&pkAtmMain=51604146&tenderCaseNo=c1040724\n",
      "http://web.pcc.gov.tw/tps/main/pms/tps/atm/atmAwardAction.do?newEdit=false&searchMode=common&method=inquiryForPublic&pkAtmMain=51604137&tenderCaseNo=1040702\n",
      "http://web.pcc.gov.tw/tps/main/pms/tps/atm/atmAwardAction.do?newEdit=false&searchMode=common&method=inquiryForPublic&pkAtmMain=51604138&tenderCaseNo=1021031\n",
      "http://web.pcc.gov.tw/tps/main/pms/tps/atm/atmAwardAction.do?newEdit=false&searchMode=common&method=inquiryForPublic&pkAtmMain=51604121&tenderCaseNo=HFS-104001\n",
      "http://web.pcc.gov.tw/tps/main/pms/tps/atm/atmAwardAction.do?newEdit=false&searchMode=common&method=inquiryForPublic&pkAtmMain=51604021&tenderCaseNo=1042005\n",
      "http://web.pcc.gov.tw/tps/main/pms/tps/atm/atmAwardAction.do?newEdit=false&searchMode=common&method=inquiryForPublic&pkAtmMain=51604018&tenderCaseNo=10407C075\n",
      "http://web.pcc.gov.tw/tps/main/pms/tps/atm/atmAwardAction.do?newEdit=false&searchMode=common&method=inquiryForPublic&pkAtmMain=51604015&tenderCaseNo=10406C067\n",
      "http://web.pcc.gov.tw/tps/main/pms/tps/atm/atmAwardAction.do?newEdit=false&searchMode=common&method=inquiryForPublic&pkAtmMain=51603832&tenderCaseNo=1040717\n",
      "http://web.pcc.gov.tw/tps/main/pms/tps/atm/atmAwardAction.do?newEdit=false&searchMode=common&method=inquiryForPublic&pkAtmMain=51603795&tenderCaseNo=1040204\n",
      "http://web.pcc.gov.tw/tps/main/pms/tps/atm/atmAwardAction.do?newEdit=false&searchMode=common&method=inquiryForPublic&pkAtmMain=51603755&tenderCaseNo=104041\n",
      "http://web.pcc.gov.tw/tps/main/pms/tps/atm/atmAwardAction.do?newEdit=false&searchMode=common&method=inquiryForPublic&pkAtmMain=51603709&tenderCaseNo=104040\n",
      "http://web.pcc.gov.tw/tps/main/pms/tps/atm/atmAwardAction.do?newEdit=false&searchMode=common&method=inquiryForPublic&pkAtmMain=51603686&tenderCaseNo=104039\n",
      "http://web.pcc.gov.tw/tps/main/pms/tps/atm/atmAwardAction.do?newEdit=false&searchMode=common&method=inquiryForPublic&pkAtmMain=51603685&tenderCaseNo=1040563\n",
      "http://web.pcc.gov.tw/tps/main/pms/tps/atm/atmAwardAction.do?newEdit=false&searchMode=common&method=inquiryForPublic&pkAtmMain=51603651&tenderCaseNo=104-7\n",
      "http://web.pcc.gov.tw/tps/main/pms/tps/atm/atmAwardAction.do?newEdit=false&searchMode=common&method=inquiryForPublic&pkAtmMain=51603587&tenderCaseNo=1040610\n",
      "http://web.pcc.gov.tw/tps/main/pms/tps/atm/atmAwardAction.do?newEdit=false&searchMode=common&method=inquiryForPublic&pkAtmMain=51603450&tenderCaseNo=104110130149\n",
      "http://web.pcc.gov.tw/tps/main/pms/tps/atm/atmAwardAction.do?newEdit=false&searchMode=common&method=inquiryForPublic&pkAtmMain=51603443&tenderCaseNo=10405-2\n",
      "http://web.pcc.gov.tw/tps/main/pms/tps/atm/atmAwardAction.do?newEdit=false&searchMode=common&method=inquiryForPublic&pkAtmMain=51603427&tenderCaseNo=10418\n",
      "http://web.pcc.gov.tw/tps/main/pms/tps/atm/atmAwardAction.do?newEdit=false&searchMode=common&method=inquiryForPublic&pkAtmMain=51603424&tenderCaseNo=LN104007\n",
      "http://web.pcc.gov.tw/tps/main/pms/tps/atm/atmAwardAction.do?newEdit=false&searchMode=common&method=inquiryForPublic&pkAtmMain=51603412&tenderCaseNo=10417\n",
      "http://web.pcc.gov.tw/tps/main/pms/tps/atm/atmAwardAction.do?newEdit=false&searchMode=common&method=inquiryForPublic&pkAtmMain=51603405&tenderCaseNo=10416\n",
      "http://web.pcc.gov.tw/tps/main/pms/tps/atm/atmAwardAction.do?newEdit=false&searchMode=common&method=inquiryForPublic&pkAtmMain=51582175&tenderCaseNo=AASC-104088\n",
      "http://web.pcc.gov.tw/tps/main/pms/tps/atm/atmAwardAction.do?newEdit=false&searchMode=common&method=inquiryForPublic&pkAtmMain=51601391&tenderCaseNo=1040707\n",
      "http://web.pcc.gov.tw/tps/main/pms/tps/atm/atmAwardAction.do?newEdit=false&searchMode=common&method=inquiryForPublic&pkAtmMain=51602341&tenderCaseNo=104060901\n",
      "http://web.pcc.gov.tw/tps/main/pms/tps/atm/atmAwardAction.do?newEdit=false&searchMode=common&method=inquiryForPublic&pkAtmMain=51602350&tenderCaseNo=104072\n",
      "http://web.pcc.gov.tw/tps/main/pms/tps/atm/atmAwardAction.do?newEdit=false&searchMode=common&method=inquiryForPublic&pkAtmMain=51602358&tenderCaseNo=P1040521\n",
      "http://web.pcc.gov.tw/tps/main/pms/tps/atm/atmAwardAction.do?newEdit=false&searchMode=common&method=inquiryForPublic&pkAtmMain=51602359&tenderCaseNo=IMSC-104139\n",
      "http://web.pcc.gov.tw/tps/main/pms/tps/atm/atmAwardAction.do?newEdit=false&searchMode=common&method=inquiryForPublic&pkAtmMain=51602363&tenderCaseNo=K104020\n",
      "http://web.pcc.gov.tw/tps/main/pms/tps/atm/atmAwardAction.do?newEdit=false&searchMode=common&method=inquiryForPublic&pkAtmMain=51602364&tenderCaseNo=104-02-033\n",
      "http://web.pcc.gov.tw/tps/main/pms/tps/atm/atmAwardAction.do?newEdit=false&searchMode=common&method=inquiryForPublic&pkAtmMain=51602370&tenderCaseNo=104-02-037\n",
      "http://web.pcc.gov.tw/tps/main/pms/tps/atm/atmAwardAction.do?newEdit=false&searchMode=common&method=inquiryForPublic&pkAtmMain=51602374&tenderCaseNo=104-02-035\n",
      "http://web.pcc.gov.tw/tps/main/pms/tps/atm/atmAwardAction.do?newEdit=false&searchMode=common&method=inquiryForPublic&pkAtmMain=51602372&tenderCaseNo=104-02-034\n",
      "http://web.pcc.gov.tw/tps/main/pms/tps/atm/atmAwardAction.do?newEdit=false&searchMode=common&method=inquiryForPublic&pkAtmMain=51602375&tenderCaseNo=104-02-036\n",
      "http://web.pcc.gov.tw/tps/main/pms/tps/atm/atmAwardAction.do?newEdit=false&searchMode=common&method=inquiryForPublic&pkAtmMain=51602378&tenderCaseNo=S104074\n",
      "http://web.pcc.gov.tw/tps/main/pms/tps/atm/atmAwardAction.do?newEdit=false&searchMode=common&method=inquiryForPublic&pkAtmMain=51602383&tenderCaseNo=IC103007\n",
      "http://web.pcc.gov.tw/tps/main/pms/tps/atm/atmAwardAction.do?newEdit=false&searchMode=common&method=inquiryForPublic&pkAtmMain=51601955&tenderCaseNo=1040960\n",
      "http://web.pcc.gov.tw/tps/main/pms/tps/atm/atmAwardAction.do?newEdit=false&searchMode=common&method=inquiryForPublic&pkAtmMain=51602407&tenderCaseNo=104070201\n",
      "http://web.pcc.gov.tw/tps/main/pms/tps/atm/atmAwardAction.do?newEdit=false&searchMode=common&method=inquiryForPublic&pkAtmMain=51559072&tenderCaseNo=10439\n",
      "http://web.pcc.gov.tw/tps/main/pms/tps/atm/atmAwardAction.do?newEdit=false&searchMode=common&method=inquiryForPublic&pkAtmMain=51602433&tenderCaseNo=1040522A\n",
      "http://web.pcc.gov.tw/tps/main/pms/tps/atm/atmAwardAction.do?newEdit=false&searchMode=common&method=inquiryForPublic&pkAtmMain=51602435&tenderCaseNo=1040623G\n",
      "http://web.pcc.gov.tw/tps/main/pms/tps/atm/atmAwardAction.do?newEdit=false&searchMode=common&method=inquiryForPublic&pkAtmMain=51602453&tenderCaseNo=S104014\n",
      "http://web.pcc.gov.tw/tps/main/pms/tps/atm/atmAwardAction.do?newEdit=false&searchMode=common&method=inquiryForPublic&pkAtmMain=51602454&tenderCaseNo=NPM104077\n",
      "http://web.pcc.gov.tw/tps/main/pms/tps/atm/atmAwardAction.do?newEdit=false&searchMode=common&method=inquiryForPublic&pkAtmMain=51602456&tenderCaseNo=1040624C\n",
      "http://web.pcc.gov.tw/tps/main/pms/tps/atm/atmAwardAction.do?newEdit=false&searchMode=common&method=inquiryForPublic&pkAtmMain=51602468&tenderCaseNo=1040708\n",
      "http://web.pcc.gov.tw/tps/main/pms/tps/atm/atmAwardAction.do?newEdit=false&searchMode=common&method=inquiryForPublic&pkAtmMain=51602470&tenderCaseNo=104-A-014\n",
      "http://web.pcc.gov.tw/tps/main/pms/tps/atm/atmAwardAction.do?newEdit=false&searchMode=common&method=inquiryForPublic&pkAtmMain=51602471&tenderCaseNo=10406B\n",
      "http://web.pcc.gov.tw/tps/main/pms/tps/atm/atmAwardAction.do?newEdit=false&searchMode=common&method=inquiryForPublic&pkAtmMain=51602472&tenderCaseNo=104062505\n",
      "http://web.pcc.gov.tw/tps/main/pms/tps/atm/atmAwardAction.do?newEdit=false&searchMode=common&method=inquiryForPublic&pkAtmMain=51602482&tenderCaseNo=No104-0010\n",
      "http://web.pcc.gov.tw/tps/main/pms/tps/atm/atmAwardAction.do?newEdit=false&searchMode=common&method=inquiryForPublic&pkAtmMain=51602492&tenderCaseNo=F104-036\n",
      "http://web.pcc.gov.tw/tps/main/pms/tps/atm/atmAwardAction.do?newEdit=false&searchMode=common&method=inquiryForPublic&pkAtmMain=51602495&tenderCaseNo=104-096\n",
      "http://web.pcc.gov.tw/tps/main/pms/tps/atm/atmAwardAction.do?newEdit=false&searchMode=common&method=inquiryForPublic&pkAtmMain=51602501&tenderCaseNo=NPM104069\n",
      "http://web.pcc.gov.tw/tps/main/pms/tps/atm/atmAwardAction.do?newEdit=false&searchMode=common&method=inquiryForPublic&pkAtmMain=51602508&tenderCaseNo=MOEAWRA1040061\n",
      "http://web.pcc.gov.tw/tps/main/pms/tps/atm/atmAwardAction.do?newEdit=false&searchMode=common&method=inquiryForPublic&pkAtmMain=51602531&tenderCaseNo=104A011\n",
      "http://web.pcc.gov.tw/tps/main/pms/tps/atm/atmAwardAction.do?newEdit=false&searchMode=common&method=inquiryForPublic&pkAtmMain=51602532&tenderCaseNo=104020\n",
      "http://web.pcc.gov.tw/tps/main/pms/tps/atm/atmAwardAction.do?newEdit=false&searchMode=common&method=inquiryForPublic&pkAtmMain=51602564&tenderCaseNo=104024\n",
      "http://web.pcc.gov.tw/tps/main/pms/tps/atm/atmAwardAction.do?newEdit=false&searchMode=common&method=inquiryForPublic&pkAtmMain=51602565&tenderCaseNo=1040703\n",
      "http://web.pcc.gov.tw/tps/main/pms/tps/atm/atmAwardAction.do?newEdit=false&searchMode=common&method=inquiryForPublic&pkAtmMain=51602570&tenderCaseNo=104-006\n",
      "http://web.pcc.gov.tw/tps/main/pms/tps/atm/atmAwardAction.do?newEdit=false&searchMode=common&method=inquiryForPublic&pkAtmMain=51602578&tenderCaseNo=D104033\n",
      "http://web.pcc.gov.tw/tps/main/pms/tps/atm/atmAwardAction.do?newEdit=false&searchMode=common&method=inquiryForPublic&pkAtmMain=51602589&tenderCaseNo=1040529\n",
      "http://web.pcc.gov.tw/tps/main/pms/tps/atm/atmAwardAction.do?newEdit=false&searchMode=common&method=inquiryForPublic&pkAtmMain=51602590&tenderCaseNo=TC104C094\n",
      "http://web.pcc.gov.tw/tps/main/pms/tps/atm/atmAwardAction.do?newEdit=false&searchMode=common&method=inquiryForPublic&pkAtmMain=51482308&tenderCaseNo=104-C-Z-004\n",
      "http://web.pcc.gov.tw/tps/main/pms/tps/atm/atmAwardAction.do?newEdit=false&searchMode=common&method=inquiryForPublic&pkAtmMain=51602594&tenderCaseNo=1040005214\n",
      "http://web.pcc.gov.tw/tps/main/pms/tps/atm/atmAwardAction.do?newEdit=false&searchMode=common&method=inquiryForPublic&pkAtmMain=51482312&tenderCaseNo=104-C-Z-002\n",
      "http://web.pcc.gov.tw/tps/main/pms/tps/atm/atmAwardAction.do?newEdit=false&searchMode=common&method=inquiryForPublic&pkAtmMain=51602597&tenderCaseNo=J104-040\n",
      "http://web.pcc.gov.tw/tps/main/pms/tps/atm/atmAwardAction.do?newEdit=false&searchMode=common&method=inquiryForPublic&pkAtmMain=51482311&tenderCaseNo=104-C-Z-003\n",
      "http://web.pcc.gov.tw/tps/main/pms/tps/atm/atmAwardAction.do?newEdit=false&searchMode=common&method=inquiryForPublic&pkAtmMain=51602601&tenderCaseNo=1040702001\n",
      "http://web.pcc.gov.tw/tps/main/pms/tps/atm/atmAwardAction.do?newEdit=false&searchMode=common&method=inquiryForPublic&pkAtmMain=51602603&tenderCaseNo=104A143\n",
      "http://web.pcc.gov.tw/tps/main/pms/tps/atm/atmAwardAction.do?newEdit=false&searchMode=common&method=inquiryForPublic&pkAtmMain=51520991&tenderCaseNo=104-C-Z-007\n",
      "http://web.pcc.gov.tw/tps/main/pms/tps/atm/atmAwardAction.do?newEdit=false&searchMode=common&method=inquiryForPublic&pkAtmMain=51520995&tenderCaseNo=104-C-Z-008\n",
      "http://web.pcc.gov.tw/tps/main/pms/tps/atm/atmAwardAction.do?newEdit=false&searchMode=common&method=inquiryForPublic&pkAtmMain=51602615&tenderCaseNo=1040702B1\n",
      "http://web.pcc.gov.tw/tps/main/pms/tps/atm/atmAwardAction.do?newEdit=false&searchMode=common&method=inquiryForPublic&pkAtmMain=51602617&tenderCaseNo=DEA0461004\n",
      "http://web.pcc.gov.tw/tps/main/pms/tps/atm/atmAwardAction.do?newEdit=false&searchMode=common&method=inquiryForPublic&pkAtmMain=51602620&tenderCaseNo=KMA-L-10405\n",
      "http://web.pcc.gov.tw/tps/main/pms/tps/atm/atmAwardAction.do?newEdit=false&searchMode=common&method=inquiryForPublic&pkAtmMain=51602629&tenderCaseNo=104-9\n",
      "http://web.pcc.gov.tw/tps/main/pms/tps/atm/atmAwardAction.do?newEdit=false&searchMode=common&method=inquiryForPublic&pkAtmMain=51602645&tenderCaseNo=104009\n",
      "http://web.pcc.gov.tw/tps/main/pms/tps/atm/atmAwardAction.do?newEdit=false&searchMode=common&method=inquiryForPublic&pkAtmMain=51602652&tenderCaseNo=1040720\n",
      "http://web.pcc.gov.tw/tps/main/pms/tps/atm/atmAwardAction.do?newEdit=false&searchMode=common&method=inquiryForPublic&pkAtmMain=51602662&tenderCaseNo=3410400166-S04060\n",
      "http://web.pcc.gov.tw/tps/main/pms/tps/atm/atmAwardAction.do?newEdit=false&searchMode=common&method=inquiryForPublic&pkAtmMain=51602670&tenderCaseNo=10400004\n",
      "http://web.pcc.gov.tw/tps/main/pms/tps/atm/atmAwardAction.do?newEdit=false&searchMode=common&method=inquiryForPublic&pkAtmMain=51602674&tenderCaseNo=104-0022205-052-2-1\n",
      "http://web.pcc.gov.tw/tps/main/pms/tps/atm/atmAwardAction.do?newEdit=false&searchMode=common&method=inquiryForPublic&pkAtmMain=51602677&tenderCaseNo=104A102\n",
      "http://web.pcc.gov.tw/tps/main/pms/tps/atm/atmAwardAction.do?newEdit=false&searchMode=common&method=inquiryForPublic&pkAtmMain=51602678&tenderCaseNo=1040701\n",
      "http://web.pcc.gov.tw/tps/main/pms/tps/atm/atmAwardAction.do?newEdit=false&searchMode=common&method=inquiryForPublic&pkAtmMain=51602681&tenderCaseNo=MDK0470002\n",
      "http://web.pcc.gov.tw/tps/main/pms/tps/atm/atmAwardAction.do?newEdit=false&searchMode=common&method=inquiryForPublic&pkAtmMain=51602691&tenderCaseNo=104AP03\n",
      "http://web.pcc.gov.tw/tps/main/pms/tps/atm/atmAwardAction.do?newEdit=false&searchMode=common&method=inquiryForPublic&pkAtmMain=51602702&tenderCaseNo=104-07-03\n",
      "http://web.pcc.gov.tw/tps/main/pms/tps/atm/atmAwardAction.do?newEdit=false&searchMode=common&method=inquiryForPublic&pkAtmMain=51602706&tenderCaseNo=104TFDA-MD-032\n",
      "http://web.pcc.gov.tw/tps/main/pms/tps/atm/atmAwardAction.do?newEdit=false&searchMode=common&method=inquiryForPublic&pkAtmMain=51602714&tenderCaseNo=M04C5346\n",
      "http://web.pcc.gov.tw/tps/main/pms/tps/atm/atmAwardAction.do?newEdit=false&searchMode=common&method=inquiryForPublic&pkAtmMain=51602720&tenderCaseNo=104072306\n",
      "http://web.pcc.gov.tw/tps/main/pms/tps/atm/atmAwardAction.do?newEdit=false&searchMode=common&method=inquiryForPublic&pkAtmMain=51602725&tenderCaseNo=EEA0423002\n",
      "http://web.pcc.gov.tw/tps/main/pms/tps/atm/atmAwardAction.do?newEdit=false&searchMode=common&method=inquiryForPublic&pkAtmMain=51602740&tenderCaseNo=104-0022204-078-2-4\n",
      "http://web.pcc.gov.tw/tps/main/pms/tps/atm/atmAwardAction.do?newEdit=false&searchMode=common&method=inquiryForPublic&pkAtmMain=51602744&tenderCaseNo=DDA0442003\n",
      "http://web.pcc.gov.tw/tps/main/pms/tps/atm/atmAwardAction.do?newEdit=false&searchMode=common&method=inquiryForPublic&pkAtmMain=51602748&tenderCaseNo=1070400010\n"
     ]
    }
   ],
   "source": [
    "for row in bid_rows:\n",
    "    #print row.select('a')[0]['href']\n",
    "    print \"http://web.pcc.gov.tw/tps\" +row.select('a')[0]['href'][2:]"
   ]
  },
  {
   "cell_type": "code",
   "execution_count": 47,
   "metadata": {
    "collapsed": true
   },
   "outputs": [],
   "source": [
    "cookie = 'Cookie:OvertureRecord=OR=a3d3c3Y9MjJ6enoxanJyam9oMWZycDF3ejI=&OQ=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; SEID_G=adaabf67-0d27-4259-8222-8b9a7cf435fa; TRID_G=acbb8ae9-98a9-4aae-8a7b-5c52067bc351; __ltmwga=utmcsr=google|utmccn=normal_buy|utmcmd=cpc|utmcct=Buy_buyhouse2; __dmwsc=20141103q06ks0000u0000,cwh50fet2ea20yasmldsep0d,dm00245; _dc_gtm_UA-35108030-1=1; _gat_UA-35108030-1=1; WMX_Channel=,1,; yawbewkcehc=0; _ga=GA1.4.797279976.1438235587; __asc=50c1b7d114edd856a353805a2b8; __auc=50c1b7d114edd856a353805a2b8; sto-id-%3Fv30%3FGroup-buy.yungching.com.tw%3A80=EIABBOKM'"
   ]
  },
  {
   "cell_type": "code",
   "execution_count": 51,
   "metadata": {
    "collapsed": false
   },
   "outputs": [
    {
     "name": "stdout",
     "output_type": "stream",
     "text": [
      "121.603565\n",
      "25.073078\n"
     ]
    }
   ],
   "source": [
    "import requests\n",
    "from bs4 import BeautifulSoup\n",
    "header = {'Cookie':cookie}\n",
    "res = requests.get('http://buy.yungching.com.tw/house/1412136', headers = header)\n",
    "soup = BeautifulSoup(res.text)\n",
    "print soup.select('input #hiddenCenterLng')[0]['value']\n",
    "print soup.select('input #hiddenCenterLat')[0]['value']"
   ]
  },
  {
   "cell_type": "code",
   "execution_count": 52,
   "metadata": {
    "collapsed": true
   },
   "outputs": [],
   "source": [
    "#http://www.agoda.com/zh-tw/karuizawa-prince-hotel/hotel/nagano-jp.html?asq=XqlQ7bJ0pUN0G2iz%2fnzAiKwIKXLAeNvWtpQWDcTtyrt%2fG6oM%2bL0%2btlSipMZrW3OBjN8EiRy9%2bvkHleBkbbQo4ykDdO7kuPH5GA57mOUbrusR%2fogolsxvFcX8itXtKOeFfgl%2fndLiT7ibguvYS9WzAWtqUjC89Zeq3dp2B9Y%2fyugmtTSEoaWnzobkDgTwtUHX&cid=1618671&tag=b260f18c-071f-4d88-9ce3-254d59e297b2&tyra=1%7c1&searchrequestid=117a99b2-100a-4c0c-84d5-17fd54f0d925&pingnumber=1"
   ]
  },
  {
   "cell_type": "code",
   "execution_count": 58,
   "metadata": {
    "collapsed": false
   },
   "outputs": [],
   "source": [
    "import requests\n",
    "from bs4 import BeautifulSoup\n",
    "#header = {'Cookie':cookie}\n",
    "res = requests.get('http://www.agoda.com/zh-tw/karuizawa-prince-hotel/hotel/nagano-jp.html?asq=XqlQ7bJ0pUN0G2iz%2fnzAiKwIKXLAeNvWtpQWDcTtyrt%2fG6oM%2bL0%2btlSipMZrW3OBjN8EiRy9%2bvkHleBkbbQo4ykDdO7kuPH5GA57mOUbrusR%2fogolsxvFcX8itXtKOeFfgl%2fndLiT7ibguvYS9WzAWtqUjC89Zeq3dp2B9Y%2fyugmtTSEoaWnzobkDgTwtUHX&cid=1618671&tag=b260f18c-071f-4d88-9ce3-254d59e297b2&tyra=1%7c1&searchrequestid=117a99b2-100a-4c0c-84d5-17fd54f0d925&pingnumber=1#')\n",
    "soup = BeautifulSoup(res.text)\n",
    "#print res.text\n",
    "#print soup.select('input #hiddenCenterLng')[0]['value']\n",
    "#print soup.select('input #hiddenCenterLat')[0]['value']"
   ]
  },
  {
   "cell_type": "code",
   "execution_count": 83,
   "metadata": {
    "collapsed": true
   },
   "outputs": [],
   "source": [
    "bid_file = open(\"bid_list.txt\", 'w')\n",
    "page_format =\"http://web.pcc.gov.tw/tps/pss/tender.do?searchMode=common&searchType=advance&searchTarget=ATM&method=search&isSpdt=&pageIndex=%d\"\n",
    "for page in range(1, page_number + 1):\n",
    "    bid_list = rs.get(page_format%(page))\n",
    "    bid_response = bid_list.text.encode('utf8')\n",
    "    bid_soup = BeautifulSoup(bid_response)\n",
    "    bid_table = bid_soup.select(\"#print_area\") [0]\n",
    "    bid_rows = bid_table.select('tr')[1:-1]\n",
    "    for bid_row in bid_rows:\n",
    "        link_href = \"http://web.pcc.gov.tw/tps\" +bid_row.select('a')[0]['href'][2:]\n",
    "        bid_file.write(link_href + \"\\n\")\n",
    "bid_file.close()"
   ]
  },
  {
   "cell_type": "code",
   "execution_count": 88,
   "metadata": {
    "collapsed": false
   },
   "outputs": [
    {
     "name": "stdout",
     "output_type": "stream",
     "text": [
      "214\n"
     ]
    }
   ],
   "source": [
    "line_num = 0\n",
    "f = open(\"bid_list.txt\", \"r\")\n",
    "for line in f.readlines():\n",
    "    line_num = line_num + 1\n",
    "print line_num\n",
    "f.close()\n",
    "\n",
    "line_number =  len([line for line in open('bid_list.txt')])"
   ]
  },
  {
   "cell_type": "code",
   "execution_count": 90,
   "metadata": {
    "collapsed": false
   },
   "outputs": [
    {
     "name": "stdout",
     "output_type": "stream",
     "text": [
      "214\n",
      "yes, they are equal\n"
     ]
    }
   ],
   "source": [
    "print rec_number\n",
    "if rec_number == line_number:\n",
    "    print \"yes, they are equal\"\n",
    "    \n",
    "assert rec_number == line_number"
   ]
  },
  {
   "cell_type": "code",
   "execution_count": 1,
   "metadata": {
    "collapsed": false
   },
   "outputs": [
    {
     "name": "stdout",
     "output_type": "stream",
     "text": [
      "1\n",
      "2\n",
      "3\n",
      "4\n",
      "5\n",
      "6\n",
      "7\n",
      "8\n",
      "9\n",
      "10 \n"
     ]
    }
   ],
   "source": [
    "#assert rec_number == 123\n",
    "\n",
    "i = 0\n",
    "while True:\n",
    "    i += 1\n",
    "    try:\n",
    "        assert i < 10\n",
    "    except AssertionError as e:\n",
    "        print i, e\n",
    "        break\n",
    "    print i"
   ]
  },
  {
   "cell_type": "code",
   "execution_count": 3,
   "metadata": {
    "collapsed": false
   },
   "outputs": [],
   "source": [
    "import requests\n",
    "res = requests.get('http://web.pcc.gov.tw/tps/main/pms/tps/atm/atmAwardAction.do?newEdit=false&searchMode=common&method=inquiryForPublic&pkAtmMain=51603189&tenderCaseNo=1040202')\n",
    "#print res.text"
   ]
  },
  {
   "cell_type": "code",
   "execution_count": 6,
   "metadata": {
    "collapsed": false
   },
   "outputs": [],
   "source": [
    "from bs4 import BeautifulSoup\n",
    "soup = BeautifulSoup(res.text)\n",
    "#print soup.select('#printArea')[0]"
   ]
  },
  {
   "cell_type": "code",
   "execution_count": 12,
   "metadata": {
    "collapsed": false
   },
   "outputs": [],
   "source": [
    "from bs4 import BeautifulSoup\n",
    "f = open('bid_detail.txt', 'w')\n",
    "soup = BeautifulSoup(res.text)\n",
    "#f.write(soup.select('#printArea')[0])\n",
    "#print type(soup.select('#printArea')[0])\n",
    "detail = soup.select('#printArea')[0].prettify('utf-8')\n",
    "f.write(detail)\n",
    "f.close()"
   ]
  },
  {
   "cell_type": "code",
   "execution_count": 24,
   "metadata": {
    "collapsed": false
   },
   "outputs": [
    {
     "name": "stdout",
     "output_type": "stream",
     "text": [
      "[3, 4, 5]\n",
      "[3, 4, 5]\n",
      "123\n",
      "{u'qoo': u'123', u'href': u'qoo'}\n"
     ]
    }
   ],
   "source": [
    "a = [1,2,3,4,5]\n",
    "ary = []\n",
    "for ele in a:\n",
    "    if ele > 2:\n",
    "        ary.append(ele)\n",
    "print ary\n",
    "\n",
    "\n",
    "print [ele for ele in ary if ele > 2]\n",
    "\n",
    "str1 = '<a href=\"qoo\" qoo=123>123</a>'\n",
    "from bs4 import BeautifulSoup\n",
    "soup = BeautifulSoup(str1)\n",
    "print soup.select('a')[0]['qoo']\n",
    "print soup.select('a')[0].attrs\n",
    "\n"
   ]
  },
  {
   "cell_type": "code",
   "execution_count": 31,
   "metadata": {
    "collapsed": false
   },
   "outputs": [
    {
     "name": "stdout",
     "output_type": "stream",
     "text": [
      "1040202\n"
     ]
    }
   ],
   "source": [
    "a = 'http://web.pcc.gov.tw/tps/main/pms/tps/atm/atmAwardAction.do?newEdit=false&searchMode=common&method=inquiryForPublic&pkAtmMain=51603189&tenderCaseNo=1040202'\n",
    "print a.split('tenderCaseNo=')[1]"
   ]
  },
  {
   "cell_type": "code",
   "execution_count": 35,
   "metadata": {
    "collapsed": false
   },
   "outputs": [
    {
     "name": "stdout",
     "output_type": "stream",
     "text": [
      "{1: 3, 2: 3, 3: 1, 4: 1}\n"
     ]
    }
   ],
   "source": [
    "a = [1,2,3,4,1,2,1,2]\n",
    "dic = {}\n",
    "for ele in a:\n",
    "    if not ele in dic:\n",
    "        dic[ele] = 1\n",
    "    else:\n",
    "        dic[ele] = dic[ele] + 1\n",
    "print dic"
   ]
  },
  {
   "cell_type": "code",
   "execution_count": 38,
   "metadata": {
    "collapsed": false
   },
   "outputs": [
    {
     "name": "stdout",
     "output_type": "stream",
     "text": [
      "http://web.pcc.gov.tw/tps/main/pms/tps/atm/atmAwardAction.do?newEdit=false&searchMode=common&method=inquiryForPublic&pkAtmMain=51602852&tenderCaseNo=1040707\n",
      "http://web.pcc.gov.tw/tps/main/pms/tps/atm/atmAwardAction.do?newEdit=false&searchMode=common&method=inquiryForPublic&pkAtmMain=51603095&tenderCaseNo=1040702\n"
     ]
    }
   ],
   "source": [
    "case_dic = {}\n",
    "f = open(\"bid_list.txt\", \"r\")\n",
    "for line in f.readlines():\n",
    "    rec = line.strip()\n",
    "    #print rec\n",
    "    caseno = rec.split('tenderCaseNo=')[1]\n",
    "    #print caseno\n",
    "    if caseno not in case_dic:\n",
    "        case_dic[caseno] = 1\n",
    "    else:\n",
    "        print rec\n",
    "f.close()"
   ]
  },
  {
   "cell_type": "code",
   "execution_count": 39,
   "metadata": {
    "collapsed": false
   },
   "outputs": [
    {
     "name": "stdout",
     "output_type": "stream",
     "text": [
      "http://web.pcc.gov.tw/tps/main/pms/tps/atm/atmAwardAction.do?newEdit=false&searchMode=common&method=inquiryForPublic&pkAtmMain=51601391&tenderCaseNo=1040707\n",
      "http://web.pcc.gov.tw/tps/main/pms/tps/atm/atmAwardAction.do?newEdit=false&searchMode=common&method=inquiryForPublic&pkAtmMain=51602849&tenderCaseNo=1040707-3\n",
      "http://web.pcc.gov.tw/tps/main/pms/tps/atm/atmAwardAction.do?newEdit=false&searchMode=common&method=inquiryForPublic&pkAtmMain=51602852&tenderCaseNo=1040707\n"
     ]
    }
   ],
   "source": [
    "case_dic = {}\n",
    "f = open(\"bid_list.txt\", \"r\")\n",
    "for line in f.readlines():\n",
    "    rec = line.strip()\n",
    "    if '1040707' in rec:\n",
    "        print rec\n",
    "f.close()"
   ]
  },
  {
   "cell_type": "code",
   "execution_count": 45,
   "metadata": {
    "collapsed": false
   },
   "outputs": [
    {
     "name": "stdout",
     "output_type": "stream",
     "text": [
      "['51239291', '0607L1030328']\n",
      "51239291 0607L1030328\n"
     ]
    }
   ],
   "source": [
    "link =\"http://web.pcc.gov.tw/tps/main/pms/tps/atm/atmAwardAction.do?newEdit=false&searchMode=common&method=inquiryForPublic&pkAtmMain=51239291&tenderCaseNo=0607L1030328\"\n",
    "#使用split\n",
    "#print link.split(\"pkAtmMain=\")\n",
    "rear_substring = link.split(\"pkAtmMain=\")[1]\n",
    "#print rear_substring[1]\n",
    "param = rear_substring.split(\"&tenderCaseNo=\")\n",
    "print param\n",
    "pkAtmMain= param[0]\n",
    "caseno= param[1]\n",
    "print pkAtmMain,caseno"
   ]
  },
  {
   "cell_type": "code",
   "execution_count": 48,
   "metadata": {
    "collapsed": true
   },
   "outputs": [],
   "source": [
    "import os\n",
    "os.mkdir('gov')"
   ]
  },
  {
   "cell_type": "code",
   "execution_count": 50,
   "metadata": {
    "collapsed": false
   },
   "outputs": [
    {
     "ename": "KeyboardInterrupt",
     "evalue": "",
     "output_type": "error",
     "traceback": [
      "\u001b[0;31m---------------------------------------------------------------------------\u001b[0m",
      "\u001b[0;31mKeyboardInterrupt\u001b[0m                         Traceback (most recent call last)",
      "\u001b[0;32m<ipython-input-50-a3d24eae919d>\u001b[0m in \u001b[0;36m<module>\u001b[0;34m()\u001b[0m\n\u001b[1;32m     12\u001b[0m     \u001b[0;31m#m = re.match(r\"([^ ]+)pkAtmMain=(?P<pkAtmMain>.+)&tenderCaseNo=(?P<tenderCaseNo>.+)\", pagelink)\u001b[0m\u001b[0;34m\u001b[0m\u001b[0;34m\u001b[0m\u001b[0m\n\u001b[1;32m     13\u001b[0m     \u001b[0;31m#filename = \"%s_%s\"%(m.group('pkAtmMain'), m.group('tenderCaseNo'))\u001b[0m\u001b[0;34m\u001b[0m\u001b[0;34m\u001b[0m\u001b[0m\n\u001b[0;32m---> 14\u001b[0;31m     \u001b[0mrequest_get\u001b[0m \u001b[0;34m=\u001b[0m \u001b[0mrequests\u001b[0m\u001b[0;34m.\u001b[0m\u001b[0mget\u001b[0m\u001b[0;34m(\u001b[0m\u001b[0mpagelink\u001b[0m\u001b[0;34m)\u001b[0m\u001b[0;34m\u001b[0m\u001b[0m\n\u001b[0m\u001b[1;32m     15\u001b[0m     \u001b[0mresponse\u001b[0m \u001b[0;34m=\u001b[0m \u001b[0mrequest_get\u001b[0m\u001b[0;34m.\u001b[0m\u001b[0mtext\u001b[0m\u001b[0;34m.\u001b[0m\u001b[0mencode\u001b[0m\u001b[0;34m(\u001b[0m\u001b[0;34m'utf8'\u001b[0m\u001b[0;34m)\u001b[0m\u001b[0;34m\u001b[0m\u001b[0m\n\u001b[1;32m     16\u001b[0m     \u001b[0msoup\u001b[0m \u001b[0;34m=\u001b[0m \u001b[0mBeautifulSoup\u001b[0m\u001b[0;34m(\u001b[0m\u001b[0mresponse\u001b[0m\u001b[0;34m)\u001b[0m\u001b[0;34m\u001b[0m\u001b[0m\n",
      "\u001b[0;32m/Library/Python/2.7/site-packages/requests/api.pyc\u001b[0m in \u001b[0;36mget\u001b[0;34m(url, **kwargs)\u001b[0m\n\u001b[1;32m     58\u001b[0m \u001b[0;34m\u001b[0m\u001b[0m\n\u001b[1;32m     59\u001b[0m     \u001b[0mkwargs\u001b[0m\u001b[0;34m.\u001b[0m\u001b[0msetdefault\u001b[0m\u001b[0;34m(\u001b[0m\u001b[0;34m'allow_redirects'\u001b[0m\u001b[0;34m,\u001b[0m \u001b[0mTrue\u001b[0m\u001b[0;34m)\u001b[0m\u001b[0;34m\u001b[0m\u001b[0m\n\u001b[0;32m---> 60\u001b[0;31m     \u001b[0;32mreturn\u001b[0m \u001b[0mrequest\u001b[0m\u001b[0;34m(\u001b[0m\u001b[0;34m'get'\u001b[0m\u001b[0;34m,\u001b[0m \u001b[0murl\u001b[0m\u001b[0;34m,\u001b[0m \u001b[0;34m**\u001b[0m\u001b[0mkwargs\u001b[0m\u001b[0;34m)\u001b[0m\u001b[0;34m\u001b[0m\u001b[0m\n\u001b[0m\u001b[1;32m     61\u001b[0m \u001b[0;34m\u001b[0m\u001b[0m\n\u001b[1;32m     62\u001b[0m \u001b[0;34m\u001b[0m\u001b[0m\n",
      "\u001b[0;32m/Library/Python/2.7/site-packages/requests/api.pyc\u001b[0m in \u001b[0;36mrequest\u001b[0;34m(method, url, **kwargs)\u001b[0m\n\u001b[1;32m     47\u001b[0m \u001b[0;34m\u001b[0m\u001b[0m\n\u001b[1;32m     48\u001b[0m     \u001b[0msession\u001b[0m \u001b[0;34m=\u001b[0m \u001b[0msessions\u001b[0m\u001b[0;34m.\u001b[0m\u001b[0mSession\u001b[0m\u001b[0;34m(\u001b[0m\u001b[0;34m)\u001b[0m\u001b[0;34m\u001b[0m\u001b[0m\n\u001b[0;32m---> 49\u001b[0;31m     \u001b[0;32mreturn\u001b[0m \u001b[0msession\u001b[0m\u001b[0;34m.\u001b[0m\u001b[0mrequest\u001b[0m\u001b[0;34m(\u001b[0m\u001b[0mmethod\u001b[0m\u001b[0;34m=\u001b[0m\u001b[0mmethod\u001b[0m\u001b[0;34m,\u001b[0m \u001b[0murl\u001b[0m\u001b[0;34m=\u001b[0m\u001b[0murl\u001b[0m\u001b[0;34m,\u001b[0m \u001b[0;34m**\u001b[0m\u001b[0mkwargs\u001b[0m\u001b[0;34m)\u001b[0m\u001b[0;34m\u001b[0m\u001b[0m\n\u001b[0m\u001b[1;32m     50\u001b[0m \u001b[0;34m\u001b[0m\u001b[0m\n\u001b[1;32m     51\u001b[0m \u001b[0;34m\u001b[0m\u001b[0m\n",
      "\u001b[0;32m/Library/Python/2.7/site-packages/requests/sessions.pyc\u001b[0m in \u001b[0;36mrequest\u001b[0;34m(self, method, url, params, data, headers, cookies, files, auth, timeout, allow_redirects, proxies, hooks, stream, verify, cert, json)\u001b[0m\n\u001b[1;32m    455\u001b[0m         }\n\u001b[1;32m    456\u001b[0m         \u001b[0msend_kwargs\u001b[0m\u001b[0;34m.\u001b[0m\u001b[0mupdate\u001b[0m\u001b[0;34m(\u001b[0m\u001b[0msettings\u001b[0m\u001b[0;34m)\u001b[0m\u001b[0;34m\u001b[0m\u001b[0m\n\u001b[0;32m--> 457\u001b[0;31m         \u001b[0mresp\u001b[0m \u001b[0;34m=\u001b[0m \u001b[0mself\u001b[0m\u001b[0;34m.\u001b[0m\u001b[0msend\u001b[0m\u001b[0;34m(\u001b[0m\u001b[0mprep\u001b[0m\u001b[0;34m,\u001b[0m \u001b[0;34m**\u001b[0m\u001b[0msend_kwargs\u001b[0m\u001b[0;34m)\u001b[0m\u001b[0;34m\u001b[0m\u001b[0m\n\u001b[0m\u001b[1;32m    458\u001b[0m \u001b[0;34m\u001b[0m\u001b[0m\n\u001b[1;32m    459\u001b[0m         \u001b[0;32mreturn\u001b[0m \u001b[0mresp\u001b[0m\u001b[0;34m\u001b[0m\u001b[0m\n",
      "\u001b[0;32m/Library/Python/2.7/site-packages/requests/sessions.pyc\u001b[0m in \u001b[0;36msend\u001b[0;34m(self, request, **kwargs)\u001b[0m\n\u001b[1;32m    567\u001b[0m \u001b[0;34m\u001b[0m\u001b[0m\n\u001b[1;32m    568\u001b[0m         \u001b[0;31m# Send the request\u001b[0m\u001b[0;34m\u001b[0m\u001b[0;34m\u001b[0m\u001b[0m\n\u001b[0;32m--> 569\u001b[0;31m         \u001b[0mr\u001b[0m \u001b[0;34m=\u001b[0m \u001b[0madapter\u001b[0m\u001b[0;34m.\u001b[0m\u001b[0msend\u001b[0m\u001b[0;34m(\u001b[0m\u001b[0mrequest\u001b[0m\u001b[0;34m,\u001b[0m \u001b[0;34m**\u001b[0m\u001b[0mkwargs\u001b[0m\u001b[0;34m)\u001b[0m\u001b[0;34m\u001b[0m\u001b[0m\n\u001b[0m\u001b[1;32m    570\u001b[0m \u001b[0;34m\u001b[0m\u001b[0m\n\u001b[1;32m    571\u001b[0m         \u001b[0;31m# Total elapsed time of the request (approximately)\u001b[0m\u001b[0;34m\u001b[0m\u001b[0;34m\u001b[0m\u001b[0m\n",
      "\u001b[0;32m/Library/Python/2.7/site-packages/requests/adapters.pyc\u001b[0m in \u001b[0;36msend\u001b[0;34m(self, request, stream, timeout, verify, cert, proxies)\u001b[0m\n\u001b[1;32m    360\u001b[0m                     \u001b[0mdecode_content\u001b[0m\u001b[0;34m=\u001b[0m\u001b[0mFalse\u001b[0m\u001b[0;34m,\u001b[0m\u001b[0;34m\u001b[0m\u001b[0m\n\u001b[1;32m    361\u001b[0m                     \u001b[0mretries\u001b[0m\u001b[0;34m=\u001b[0m\u001b[0mRetry\u001b[0m\u001b[0;34m(\u001b[0m\u001b[0mself\u001b[0m\u001b[0;34m.\u001b[0m\u001b[0mmax_retries\u001b[0m\u001b[0;34m,\u001b[0m \u001b[0mread\u001b[0m\u001b[0;34m=\u001b[0m\u001b[0mFalse\u001b[0m\u001b[0;34m)\u001b[0m\u001b[0;34m,\u001b[0m\u001b[0;34m\u001b[0m\u001b[0m\n\u001b[0;32m--> 362\u001b[0;31m                     \u001b[0mtimeout\u001b[0m\u001b[0;34m=\u001b[0m\u001b[0mtimeout\u001b[0m\u001b[0;34m\u001b[0m\u001b[0m\n\u001b[0m\u001b[1;32m    363\u001b[0m                 )\n\u001b[1;32m    364\u001b[0m \u001b[0;34m\u001b[0m\u001b[0m\n",
      "\u001b[0;32m/Library/Python/2.7/site-packages/requests/packages/urllib3/connectionpool.pyc\u001b[0m in \u001b[0;36murlopen\u001b[0;34m(self, method, url, body, headers, retries, redirect, assert_same_host, timeout, pool_timeout, release_conn, **response_kw)\u001b[0m\n\u001b[1;32m    514\u001b[0m             httplib_response = self._make_request(conn, method, url,\n\u001b[1;32m    515\u001b[0m                                                   \u001b[0mtimeout\u001b[0m\u001b[0;34m=\u001b[0m\u001b[0mtimeout\u001b[0m\u001b[0;34m,\u001b[0m\u001b[0;34m\u001b[0m\u001b[0m\n\u001b[0;32m--> 516\u001b[0;31m                                                   body=body, headers=headers)\n\u001b[0m\u001b[1;32m    517\u001b[0m \u001b[0;34m\u001b[0m\u001b[0m\n\u001b[1;32m    518\u001b[0m             \u001b[0;31m# If we're going to release the connection in ``finally:``, then\u001b[0m\u001b[0;34m\u001b[0m\u001b[0;34m\u001b[0m\u001b[0m\n",
      "\u001b[0;32m/Library/Python/2.7/site-packages/requests/packages/urllib3/connectionpool.pyc\u001b[0m in \u001b[0;36m_make_request\u001b[0;34m(self, conn, method, url, timeout, **httplib_request_kw)\u001b[0m\n\u001b[1;32m    329\u001b[0m         \u001b[0;32mtry\u001b[0m\u001b[0;34m:\u001b[0m\u001b[0;34m\u001b[0m\u001b[0m\n\u001b[1;32m    330\u001b[0m             \u001b[0;32mtry\u001b[0m\u001b[0;34m:\u001b[0m  \u001b[0;31m# Python 2.7+, use buffering of HTTP responses\u001b[0m\u001b[0;34m\u001b[0m\u001b[0m\n\u001b[0;32m--> 331\u001b[0;31m                 \u001b[0mhttplib_response\u001b[0m \u001b[0;34m=\u001b[0m \u001b[0mconn\u001b[0m\u001b[0;34m.\u001b[0m\u001b[0mgetresponse\u001b[0m\u001b[0;34m(\u001b[0m\u001b[0mbuffering\u001b[0m\u001b[0;34m=\u001b[0m\u001b[0mTrue\u001b[0m\u001b[0;34m)\u001b[0m\u001b[0;34m\u001b[0m\u001b[0m\n\u001b[0m\u001b[1;32m    332\u001b[0m             \u001b[0;32mexcept\u001b[0m \u001b[0mTypeError\u001b[0m\u001b[0;34m:\u001b[0m  \u001b[0;31m# Python 2.6 and older\u001b[0m\u001b[0;34m\u001b[0m\u001b[0m\n\u001b[1;32m    333\u001b[0m                 \u001b[0mhttplib_response\u001b[0m \u001b[0;34m=\u001b[0m \u001b[0mconn\u001b[0m\u001b[0;34m.\u001b[0m\u001b[0mgetresponse\u001b[0m\u001b[0;34m(\u001b[0m\u001b[0;34m)\u001b[0m\u001b[0;34m\u001b[0m\u001b[0m\n",
      "\u001b[0;32m/System/Library/Frameworks/Python.framework/Versions/2.7/lib/python2.7/httplib.pyc\u001b[0m in \u001b[0;36mgetresponse\u001b[0;34m(self, buffering)\u001b[0m\n\u001b[1;32m   1043\u001b[0m         \u001b[0mresponse\u001b[0m \u001b[0;34m=\u001b[0m \u001b[0mself\u001b[0m\u001b[0;34m.\u001b[0m\u001b[0mresponse_class\u001b[0m\u001b[0;34m(\u001b[0m\u001b[0;34m*\u001b[0m\u001b[0margs\u001b[0m\u001b[0;34m,\u001b[0m \u001b[0;34m**\u001b[0m\u001b[0mkwds\u001b[0m\u001b[0;34m)\u001b[0m\u001b[0;34m\u001b[0m\u001b[0m\n\u001b[1;32m   1044\u001b[0m \u001b[0;34m\u001b[0m\u001b[0m\n\u001b[0;32m-> 1045\u001b[0;31m         \u001b[0mresponse\u001b[0m\u001b[0;34m.\u001b[0m\u001b[0mbegin\u001b[0m\u001b[0;34m(\u001b[0m\u001b[0;34m)\u001b[0m\u001b[0;34m\u001b[0m\u001b[0m\n\u001b[0m\u001b[1;32m   1046\u001b[0m         \u001b[0;32massert\u001b[0m \u001b[0mresponse\u001b[0m\u001b[0;34m.\u001b[0m\u001b[0mwill_close\u001b[0m \u001b[0;34m!=\u001b[0m \u001b[0m_UNKNOWN\u001b[0m\u001b[0;34m\u001b[0m\u001b[0m\n\u001b[1;32m   1047\u001b[0m         \u001b[0mself\u001b[0m\u001b[0;34m.\u001b[0m\u001b[0m__state\u001b[0m \u001b[0;34m=\u001b[0m \u001b[0m_CS_IDLE\u001b[0m\u001b[0;34m\u001b[0m\u001b[0m\n",
      "\u001b[0;32m/System/Library/Frameworks/Python.framework/Versions/2.7/lib/python2.7/httplib.pyc\u001b[0m in \u001b[0;36mbegin\u001b[0;34m(self)\u001b[0m\n\u001b[1;32m    407\u001b[0m         \u001b[0;31m# read until we get a non-100 response\u001b[0m\u001b[0;34m\u001b[0m\u001b[0;34m\u001b[0m\u001b[0m\n\u001b[1;32m    408\u001b[0m         \u001b[0;32mwhile\u001b[0m \u001b[0mTrue\u001b[0m\u001b[0;34m:\u001b[0m\u001b[0;34m\u001b[0m\u001b[0m\n\u001b[0;32m--> 409\u001b[0;31m             \u001b[0mversion\u001b[0m\u001b[0;34m,\u001b[0m \u001b[0mstatus\u001b[0m\u001b[0;34m,\u001b[0m \u001b[0mreason\u001b[0m \u001b[0;34m=\u001b[0m \u001b[0mself\u001b[0m\u001b[0;34m.\u001b[0m\u001b[0m_read_status\u001b[0m\u001b[0;34m(\u001b[0m\u001b[0;34m)\u001b[0m\u001b[0;34m\u001b[0m\u001b[0m\n\u001b[0m\u001b[1;32m    410\u001b[0m             \u001b[0;32mif\u001b[0m \u001b[0mstatus\u001b[0m \u001b[0;34m!=\u001b[0m \u001b[0mCONTINUE\u001b[0m\u001b[0;34m:\u001b[0m\u001b[0;34m\u001b[0m\u001b[0m\n\u001b[1;32m    411\u001b[0m                 \u001b[0;32mbreak\u001b[0m\u001b[0;34m\u001b[0m\u001b[0m\n",
      "\u001b[0;32m/System/Library/Frameworks/Python.framework/Versions/2.7/lib/python2.7/httplib.pyc\u001b[0m in \u001b[0;36m_read_status\u001b[0;34m(self)\u001b[0m\n\u001b[1;32m    363\u001b[0m     \u001b[0;32mdef\u001b[0m \u001b[0m_read_status\u001b[0m\u001b[0;34m(\u001b[0m\u001b[0mself\u001b[0m\u001b[0;34m)\u001b[0m\u001b[0;34m:\u001b[0m\u001b[0;34m\u001b[0m\u001b[0m\n\u001b[1;32m    364\u001b[0m         \u001b[0;31m# Initialize with Simple-Response defaults\u001b[0m\u001b[0;34m\u001b[0m\u001b[0;34m\u001b[0m\u001b[0m\n\u001b[0;32m--> 365\u001b[0;31m         \u001b[0mline\u001b[0m \u001b[0;34m=\u001b[0m \u001b[0mself\u001b[0m\u001b[0;34m.\u001b[0m\u001b[0mfp\u001b[0m\u001b[0;34m.\u001b[0m\u001b[0mreadline\u001b[0m\u001b[0;34m(\u001b[0m\u001b[0m_MAXLINE\u001b[0m \u001b[0;34m+\u001b[0m \u001b[0;36m1\u001b[0m\u001b[0;34m)\u001b[0m\u001b[0;34m\u001b[0m\u001b[0m\n\u001b[0m\u001b[1;32m    366\u001b[0m         \u001b[0;32mif\u001b[0m \u001b[0mlen\u001b[0m\u001b[0;34m(\u001b[0m\u001b[0mline\u001b[0m\u001b[0;34m)\u001b[0m \u001b[0;34m>\u001b[0m \u001b[0m_MAXLINE\u001b[0m\u001b[0;34m:\u001b[0m\u001b[0;34m\u001b[0m\u001b[0m\n\u001b[1;32m    367\u001b[0m             \u001b[0;32mraise\u001b[0m \u001b[0mLineTooLong\u001b[0m\u001b[0;34m(\u001b[0m\u001b[0;34m\"header line\"\u001b[0m\u001b[0;34m)\u001b[0m\u001b[0;34m\u001b[0m\u001b[0m\n",
      "\u001b[0;32m/System/Library/Frameworks/Python.framework/Versions/2.7/lib/python2.7/socket.pyc\u001b[0m in \u001b[0;36mreadline\u001b[0;34m(self, size)\u001b[0m\n\u001b[1;32m    474\u001b[0m             \u001b[0;32mwhile\u001b[0m \u001b[0mTrue\u001b[0m\u001b[0;34m:\u001b[0m\u001b[0;34m\u001b[0m\u001b[0m\n\u001b[1;32m    475\u001b[0m                 \u001b[0;32mtry\u001b[0m\u001b[0;34m:\u001b[0m\u001b[0;34m\u001b[0m\u001b[0m\n\u001b[0;32m--> 476\u001b[0;31m                     \u001b[0mdata\u001b[0m \u001b[0;34m=\u001b[0m \u001b[0mself\u001b[0m\u001b[0;34m.\u001b[0m\u001b[0m_sock\u001b[0m\u001b[0;34m.\u001b[0m\u001b[0mrecv\u001b[0m\u001b[0;34m(\u001b[0m\u001b[0mself\u001b[0m\u001b[0;34m.\u001b[0m\u001b[0m_rbufsize\u001b[0m\u001b[0;34m)\u001b[0m\u001b[0;34m\u001b[0m\u001b[0m\n\u001b[0m\u001b[1;32m    477\u001b[0m                 \u001b[0;32mexcept\u001b[0m \u001b[0merror\u001b[0m\u001b[0;34m,\u001b[0m \u001b[0me\u001b[0m\u001b[0;34m:\u001b[0m\u001b[0;34m\u001b[0m\u001b[0m\n\u001b[1;32m    478\u001b[0m                     \u001b[0;32mif\u001b[0m \u001b[0me\u001b[0m\u001b[0;34m.\u001b[0m\u001b[0margs\u001b[0m\u001b[0;34m[\u001b[0m\u001b[0;36m0\u001b[0m\u001b[0;34m]\u001b[0m \u001b[0;34m==\u001b[0m \u001b[0mEINTR\u001b[0m\u001b[0;34m:\u001b[0m\u001b[0;34m\u001b[0m\u001b[0m\n",
      "\u001b[0;31mKeyboardInterrupt\u001b[0m: "
     ]
    }
   ],
   "source": [
    "# -*- coding: utf-8 -*-\n",
    "from bs4 import BeautifulSoup\n",
    "import re, requests\n",
    "bid_list = open('bid_list.txt', 'r')\n",
    "for line in bid_list.readlines():\n",
    "    pagelink = line.strip()\n",
    "    rear_substring = pagelink.split(\"pkAtmMain=\")[1]\n",
    "    param = rear_substring.split(\"&tenderCaseNo=\")\n",
    "    pkAtmMain= param[0]\n",
    "    caseno= param[1]\n",
    "    filename = \"%s_%s\" %(pkAtmMain, caseno)\n",
    "    #m = re.match(r\"([^ ]+)pkAtmMain=(?P<pkAtmMain>.+)&tenderCaseNo=(?P<tenderCaseNo>.+)\", pagelink)\n",
    "    #filename = \"%s_%s\"%(m.group('pkAtmMain'), m.group('tenderCaseNo'))\n",
    "    request_get = requests.get(pagelink)\n",
    "    response = request_get.text.encode('utf8')\n",
    "    soup = BeautifulSoup(response)\n",
    "    printarea = soup.select('#printArea')[0]\n",
    "    bid_detail = open(\"gov/%s.txt\"%(filename), 'w')\n",
    "    bid_detail.write(printarea .prettify(\"utf-8\"))\n",
    "    bid_detail.close()\n",
    "bid_list.close()"
   ]
  },
  {
   "cell_type": "code",
   "execution_count": null,
   "metadata": {
    "collapsed": true
   },
   "outputs": [],
   "source": [
    "# -*- coding: utf-8 -*-\n",
    "from bs4 import BeautifulSoup\n",
    "import re, requests\n",
    "\n",
    "def getFileName(pagelink):\n",
    "    rear_substring = pagelink.split(\"pkAtmMain=\")[1]\n",
    "    param = rear_substring.split(\"&tenderCaseNo=\")\n",
    "    pkAtmMain= param[0]\n",
    "    caseno= param[1]\n",
    "    filename = \"%s_%s\" %(pkAtmMain, caseno)\n",
    "    return filename\n",
    "\n",
    "bid_list = open('bid_list.txt', 'r')\n",
    "for line in bid_list.readlines():\n",
    "    pagelink = line.strip()\n",
    "    filename = getFileName(pagelink)\n",
    "    request_get = requests.get(pagelink)\n",
    "    response = request_get.text.encode('utf8')\n",
    "    soup = BeautifulSoup(response)\n",
    "    printarea = soup.select('#printArea')[0]\n",
    "    bid_detail = open(\"gov/%s.txt\"%(filename), 'w')\n",
    "    bid_detail.write(printarea .prettify(\"utf-8\"))\n",
    "    bid_detail.close()\n",
    "bid_list.close()"
   ]
  },
  {
   "cell_type": "code",
   "execution_count": null,
   "metadata": {
    "collapsed": true
   },
   "outputs": [],
   "source": []
  },
  {
   "cell_type": "code",
   "execution_count": 74,
   "metadata": {
    "collapsed": false
   },
   "outputs": [
    {
     "name": "stdout",
     "output_type": "stream",
     "text": [
      "http://web.pcc.gov.tw/tps/main/pms/tps/atm/atmAwardAction.do?newEdit=false&searchMode=common&method=inquiryForPublic&pkAtmMain=51603189&tenderCaseNo=1040202\n",
      "http://web.pcc.gov.tw/tps/main/pms/tps/atm/atmAwardAction.do?newEdit=false&searchMode=common&method=inquiryForPublic&pkAtmMain=51602392&tenderCaseNo=GUA20150522-1\n",
      "http://web.pcc.gov.tw/tps/main/pms/tps/atm/atmAwardAction.do?newEdit=false&searchMode=common&method=inquiryForPublic&pkAtmMain=51603176&tenderCaseNo=104W038\n",
      "http://web.pcc.gov.tw/tps/main/pms/tps/atm/atmAwardAction.do?newEdit=false&searchMode=common&method=inquiryForPublic&pkAtmMain=51603207&tenderCaseNo=1040071869\n",
      "http://web.pcc.gov.tw/tps/main/pms/tps/atm/atmAwardAction.do?newEdit=false&searchMode=common&method=inquiryForPublic&pkAtmMain=51603035&tenderCaseNo=YG10403\n",
      "http://web.pcc.gov.tw/tps/main/pms/tps/atm/atmAwardAction.do?newEdit=false&searchMode=common&method=inquiryForPublic&pkAtmMain=51604288&tenderCaseNo=104812124A\n",
      "http://web.pcc.gov.tw/tps/main/pms/tps/atm/atmAwardAction.do?newEdit=false&searchMode=common&method=inquiryForPublic&pkAtmMain=51604257&tenderCaseNo=104220130202\n",
      "http://web.pcc.gov.tw/tps/main/pms/tps/atm/atmAwardAction.do?newEdit=false&searchMode=common&method=inquiryForPublic&pkAtmMain=51604227&tenderCaseNo=RAD104211\n",
      "http://web.pcc.gov.tw/tps/main/pms/tps/atm/atmAwardAction.do?newEdit=false&searchMode=common&method=inquiryForPublic&pkAtmMain=51604181&tenderCaseNo=1040716-1\n",
      "http://web.pcc.gov.tw/tps/main/pms/tps/atm/atmAwardAction.do?newEdit=false&searchMode=common&method=inquiryForPublic&pkAtmMain=51604170&tenderCaseNo=1040716-2\n",
      "http://web.pcc.gov.tw/tps/main/pms/tps/atm/atmAwardAction.do?newEdit=false&searchMode=common&method=inquiryForPublic&pkAtmMain=51604146&tenderCaseNo=c1040724\n",
      "http://web.pcc.gov.tw/tps/main/pms/tps/atm/atmAwardAction.do?newEdit=false&searchMode=common&method=inquiryForPublic&pkAtmMain=51604137&tenderCaseNo=1040702\n",
      "http://web.pcc.gov.tw/tps/main/pms/tps/atm/atmAwardAction.do?newEdit=false&searchMode=common&method=inquiryForPublic&pkAtmMain=51604138&tenderCaseNo=1021031\n",
      "http://web.pcc.gov.tw/tps/main/pms/tps/atm/atmAwardAction.do?newEdit=false&searchMode=common&method=inquiryForPublic&pkAtmMain=51604121&tenderCaseNo=HFS-104001\n",
      "http://web.pcc.gov.tw/tps/main/pms/tps/atm/atmAwardAction.do?newEdit=false&searchMode=common&method=inquiryForPublic&pkAtmMain=51604021&tenderCaseNo=1042005\n",
      "http://web.pcc.gov.tw/tps/main/pms/tps/atm/atmAwardAction.do?newEdit=false&searchMode=common&method=inquiryForPublic&pkAtmMain=51604018&tenderCaseNo=10407C075\n",
      "http://web.pcc.gov.tw/tps/main/pms/tps/atm/atmAwardAction.do?newEdit=false&searchMode=common&method=inquiryForPublic&pkAtmMain=51604015&tenderCaseNo=10406C067\n",
      "http://web.pcc.gov.tw/tps/main/pms/tps/atm/atmAwardAction.do?newEdit=false&searchMode=common&method=inquiryForPublic&pkAtmMain=51603832&tenderCaseNo=1040717\n",
      "http://web.pcc.gov.tw/tps/main/pms/tps/atm/atmAwardAction.do?newEdit=false&searchMode=common&method=inquiryForPublic&pkAtmMain=51603795&tenderCaseNo=1040204\n",
      "http://web.pcc.gov.tw/tps/main/pms/tps/atm/atmAwardAction.do?newEdit=false&searchMode=common&method=inquiryForPublic&pkAtmMain=51603755&tenderCaseNo=104041\n",
      "http://web.pcc.gov.tw/tps/main/pms/tps/atm/atmAwardAction.do?newEdit=false&searchMode=common&method=inquiryForPublic&pkAtmMain=51603709&tenderCaseNo=104040\n",
      "http://web.pcc.gov.tw/tps/main/pms/tps/atm/atmAwardAction.do?newEdit=false&searchMode=common&method=inquiryForPublic&pkAtmMain=51603686&tenderCaseNo=104039\n",
      "http://web.pcc.gov.tw/tps/main/pms/tps/atm/atmAwardAction.do?newEdit=false&searchMode=common&method=inquiryForPublic&pkAtmMain=51603685&tenderCaseNo=1040563\n",
      "http://web.pcc.gov.tw/tps/main/pms/tps/atm/atmAwardAction.do?newEdit=false&searchMode=common&method=inquiryForPublic&pkAtmMain=51603651&tenderCaseNo=104-7\n",
      "http://web.pcc.gov.tw/tps/main/pms/tps/atm/atmAwardAction.do?newEdit=false&searchMode=common&method=inquiryForPublic&pkAtmMain=51603587&tenderCaseNo=1040610\n",
      "http://web.pcc.gov.tw/tps/main/pms/tps/atm/atmAwardAction.do?newEdit=false&searchMode=common&method=inquiryForPublic&pkAtmMain=51603450&tenderCaseNo=104110130149\n",
      "http://web.pcc.gov.tw/tps/main/pms/tps/atm/atmAwardAction.do?newEdit=false&searchMode=common&method=inquiryForPublic&pkAtmMain=51603443&tenderCaseNo=10405-2\n",
      "http://web.pcc.gov.tw/tps/main/pms/tps/atm/atmAwardAction.do?newEdit=false&searchMode=common&method=inquiryForPublic&pkAtmMain=51603427&tenderCaseNo=10418\n",
      "http://web.pcc.gov.tw/tps/main/pms/tps/atm/atmAwardAction.do?newEdit=false&searchMode=common&method=inquiryForPublic&pkAtmMain=51603424&tenderCaseNo=LN104007\n",
      "http://web.pcc.gov.tw/tps/main/pms/tps/atm/atmAwardAction.do?newEdit=false&searchMode=common&method=inquiryForPublic&pkAtmMain=51603412&tenderCaseNo=10417\n",
      "http://web.pcc.gov.tw/tps/main/pms/tps/atm/atmAwardAction.do?newEdit=false&searchMode=common&method=inquiryForPublic&pkAtmMain=51603405&tenderCaseNo=10416\n",
      "http://web.pcc.gov.tw/tps/main/pms/tps/atm/atmAwardAction.do?newEdit=false&searchMode=common&method=inquiryForPublic&pkAtmMain=51582175&tenderCaseNo=AASC-104088\n",
      "http://web.pcc.gov.tw/tps/main/pms/tps/atm/atmAwardAction.do?newEdit=false&searchMode=common&method=inquiryForPublic&pkAtmMain=51601391&tenderCaseNo=1040707\n",
      "http://web.pcc.gov.tw/tps/main/pms/tps/atm/atmAwardAction.do?newEdit=false&searchMode=common&method=inquiryForPublic&pkAtmMain=51602341&tenderCaseNo=104060901\n",
      "http://web.pcc.gov.tw/tps/main/pms/tps/atm/atmAwardAction.do?newEdit=false&searchMode=common&method=inquiryForPublic&pkAtmMain=51602350&tenderCaseNo=104072\n",
      "http://web.pcc.gov.tw/tps/main/pms/tps/atm/atmAwardAction.do?newEdit=false&searchMode=common&method=inquiryForPublic&pkAtmMain=51602358&tenderCaseNo=P1040521\n",
      "http://web.pcc.gov.tw/tps/main/pms/tps/atm/atmAwardAction.do?newEdit=false&searchMode=common&method=inquiryForPublic&pkAtmMain=51602359&tenderCaseNo=IMSC-104139\n",
      "http://web.pcc.gov.tw/tps/main/pms/tps/atm/atmAwardAction.do?newEdit=false&searchMode=common&method=inquiryForPublic&pkAtmMain=51602363&tenderCaseNo=K104020\n",
      "http://web.pcc.gov.tw/tps/main/pms/tps/atm/atmAwardAction.do?newEdit=false&searchMode=common&method=inquiryForPublic&pkAtmMain=51602364&tenderCaseNo=104-02-033\n",
      "http://web.pcc.gov.tw/tps/main/pms/tps/atm/atmAwardAction.do?newEdit=false&searchMode=common&method=inquiryForPublic&pkAtmMain=51602370&tenderCaseNo=104-02-037\n",
      "http://web.pcc.gov.tw/tps/main/pms/tps/atm/atmAwardAction.do?newEdit=false&searchMode=common&method=inquiryForPublic&pkAtmMain=51602374&tenderCaseNo=104-02-035\n",
      "http://web.pcc.gov.tw/tps/main/pms/tps/atm/atmAwardAction.do?newEdit=false&searchMode=common&method=inquiryForPublic&pkAtmMain=51602372&tenderCaseNo=104-02-034\n",
      "http://web.pcc.gov.tw/tps/main/pms/tps/atm/atmAwardAction.do?newEdit=false&searchMode=common&method=inquiryForPublic&pkAtmMain=51602375&tenderCaseNo=104-02-036\n",
      "http://web.pcc.gov.tw/tps/main/pms/tps/atm/atmAwardAction.do?newEdit=false&searchMode=common&method=inquiryForPublic&pkAtmMain=51602378&tenderCaseNo=S104074\n",
      "http://web.pcc.gov.tw/tps/main/pms/tps/atm/atmAwardAction.do?newEdit=false&searchMode=common&method=inquiryForPublic&pkAtmMain=51602383&tenderCaseNo=IC103007\n",
      "http://web.pcc.gov.tw/tps/main/pms/tps/atm/atmAwardAction.do?newEdit=false&searchMode=common&method=inquiryForPublic&pkAtmMain=51601955&tenderCaseNo=1040960\n",
      "http://web.pcc.gov.tw/tps/main/pms/tps/atm/atmAwardAction.do?newEdit=false&searchMode=common&method=inquiryForPublic&pkAtmMain=51602407&tenderCaseNo=104070201\n",
      "http://web.pcc.gov.tw/tps/main/pms/tps/atm/atmAwardAction.do?newEdit=false&searchMode=common&method=inquiryForPublic&pkAtmMain=51559072&tenderCaseNo=10439\n",
      "http://web.pcc.gov.tw/tps/main/pms/tps/atm/atmAwardAction.do?newEdit=false&searchMode=common&method=inquiryForPublic&pkAtmMain=51602433&tenderCaseNo=1040522A\n",
      "http://web.pcc.gov.tw/tps/main/pms/tps/atm/atmAwardAction.do?newEdit=false&searchMode=common&method=inquiryForPublic&pkAtmMain=51602435&tenderCaseNo=1040623G\n",
      "http://web.pcc.gov.tw/tps/main/pms/tps/atm/atmAwardAction.do?newEdit=false&searchMode=common&method=inquiryForPublic&pkAtmMain=51602453&tenderCaseNo=S104014\n",
      "http://web.pcc.gov.tw/tps/main/pms/tps/atm/atmAwardAction.do?newEdit=false&searchMode=common&method=inquiryForPublic&pkAtmMain=51602454&tenderCaseNo=NPM104077\n",
      "http://web.pcc.gov.tw/tps/main/pms/tps/atm/atmAwardAction.do?newEdit=false&searchMode=common&method=inquiryForPublic&pkAtmMain=51602456&tenderCaseNo=1040624C\n",
      "http://web.pcc.gov.tw/tps/main/pms/tps/atm/atmAwardAction.do?newEdit=false&searchMode=common&method=inquiryForPublic&pkAtmMain=51602468&tenderCaseNo=1040708\n",
      "http://web.pcc.gov.tw/tps/main/pms/tps/atm/atmAwardAction.do?newEdit=false&searchMode=common&method=inquiryForPublic&pkAtmMain=51602470&tenderCaseNo=104-A-014\n",
      "http://web.pcc.gov.tw/tps/main/pms/tps/atm/atmAwardAction.do?newEdit=false&searchMode=common&method=inquiryForPublic&pkAtmMain=51602471&tenderCaseNo=10406B\n",
      "http://web.pcc.gov.tw/tps/main/pms/tps/atm/atmAwardAction.do?newEdit=false&searchMode=common&method=inquiryForPublic&pkAtmMain=51602472&tenderCaseNo=104062505\n",
      "http://web.pcc.gov.tw/tps/main/pms/tps/atm/atmAwardAction.do?newEdit=false&searchMode=common&method=inquiryForPublic&pkAtmMain=51602482&tenderCaseNo=No104-0010\n",
      "http://web.pcc.gov.tw/tps/main/pms/tps/atm/atmAwardAction.do?newEdit=false&searchMode=common&method=inquiryForPublic&pkAtmMain=51602492&tenderCaseNo=F104-036\n",
      "http://web.pcc.gov.tw/tps/main/pms/tps/atm/atmAwardAction.do?newEdit=false&searchMode=common&method=inquiryForPublic&pkAtmMain=51602495&tenderCaseNo=104-096\n",
      "http://web.pcc.gov.tw/tps/main/pms/tps/atm/atmAwardAction.do?newEdit=false&searchMode=common&method=inquiryForPublic&pkAtmMain=51602501&tenderCaseNo=NPM104069\n",
      "http://web.pcc.gov.tw/tps/main/pms/tps/atm/atmAwardAction.do?newEdit=false&searchMode=common&method=inquiryForPublic&pkAtmMain=51602508&tenderCaseNo=MOEAWRA1040061\n",
      "http://web.pcc.gov.tw/tps/main/pms/tps/atm/atmAwardAction.do?newEdit=false&searchMode=common&method=inquiryForPublic&pkAtmMain=51602531&tenderCaseNo=104A011\n",
      "http://web.pcc.gov.tw/tps/main/pms/tps/atm/atmAwardAction.do?newEdit=false&searchMode=common&method=inquiryForPublic&pkAtmMain=51602532&tenderCaseNo=104020\n",
      "http://web.pcc.gov.tw/tps/main/pms/tps/atm/atmAwardAction.do?newEdit=false&searchMode=common&method=inquiryForPublic&pkAtmMain=51602564&tenderCaseNo=104024\n",
      "http://web.pcc.gov.tw/tps/main/pms/tps/atm/atmAwardAction.do?newEdit=false&searchMode=common&method=inquiryForPublic&pkAtmMain=51602565&tenderCaseNo=1040703\n",
      "http://web.pcc.gov.tw/tps/main/pms/tps/atm/atmAwardAction.do?newEdit=false&searchMode=common&method=inquiryForPublic&pkAtmMain=51602570&tenderCaseNo=104-006\n",
      "http://web.pcc.gov.tw/tps/main/pms/tps/atm/atmAwardAction.do?newEdit=false&searchMode=common&method=inquiryForPublic&pkAtmMain=51602578&tenderCaseNo=D104033\n",
      "http://web.pcc.gov.tw/tps/main/pms/tps/atm/atmAwardAction.do?newEdit=false&searchMode=common&method=inquiryForPublic&pkAtmMain=51602589&tenderCaseNo=1040529\n",
      "http://web.pcc.gov.tw/tps/main/pms/tps/atm/atmAwardAction.do?newEdit=false&searchMode=common&method=inquiryForPublic&pkAtmMain=51602590&tenderCaseNo=TC104C094\n",
      "http://web.pcc.gov.tw/tps/main/pms/tps/atm/atmAwardAction.do?newEdit=false&searchMode=common&method=inquiryForPublic&pkAtmMain=51482308&tenderCaseNo=104-C-Z-004\n",
      "http://web.pcc.gov.tw/tps/main/pms/tps/atm/atmAwardAction.do?newEdit=false&searchMode=common&method=inquiryForPublic&pkAtmMain=51602594&tenderCaseNo=1040005214\n",
      "http://web.pcc.gov.tw/tps/main/pms/tps/atm/atmAwardAction.do?newEdit=false&searchMode=common&method=inquiryForPublic&pkAtmMain=51482312&tenderCaseNo=104-C-Z-002\n",
      "http://web.pcc.gov.tw/tps/main/pms/tps/atm/atmAwardAction.do?newEdit=false&searchMode=common&method=inquiryForPublic&pkAtmMain=51602597&tenderCaseNo=J104-040\n",
      "http://web.pcc.gov.tw/tps/main/pms/tps/atm/atmAwardAction.do?newEdit=false&searchMode=common&method=inquiryForPublic&pkAtmMain=51482311&tenderCaseNo=104-C-Z-003\n",
      "http://web.pcc.gov.tw/tps/main/pms/tps/atm/atmAwardAction.do?newEdit=false&searchMode=common&method=inquiryForPublic&pkAtmMain=51602601&tenderCaseNo=1040702001\n",
      "http://web.pcc.gov.tw/tps/main/pms/tps/atm/atmAwardAction.do?newEdit=false&searchMode=common&method=inquiryForPublic&pkAtmMain=51602603&tenderCaseNo=104A143\n",
      "http://web.pcc.gov.tw/tps/main/pms/tps/atm/atmAwardAction.do?newEdit=false&searchMode=common&method=inquiryForPublic&pkAtmMain=51520991&tenderCaseNo=104-C-Z-007\n",
      "http://web.pcc.gov.tw/tps/main/pms/tps/atm/atmAwardAction.do?newEdit=false&searchMode=common&method=inquiryForPublic&pkAtmMain=51520995&tenderCaseNo=104-C-Z-008\n",
      "http://web.pcc.gov.tw/tps/main/pms/tps/atm/atmAwardAction.do?newEdit=false&searchMode=common&method=inquiryForPublic&pkAtmMain=51602615&tenderCaseNo=1040702B1\n",
      "http://web.pcc.gov.tw/tps/main/pms/tps/atm/atmAwardAction.do?newEdit=false&searchMode=common&method=inquiryForPublic&pkAtmMain=51602617&tenderCaseNo=DEA0461004\n",
      "http://web.pcc.gov.tw/tps/main/pms/tps/atm/atmAwardAction.do?newEdit=false&searchMode=common&method=inquiryForPublic&pkAtmMain=51602620&tenderCaseNo=KMA-L-10405\n",
      "http://web.pcc.gov.tw/tps/main/pms/tps/atm/atmAwardAction.do?newEdit=false&searchMode=common&method=inquiryForPublic&pkAtmMain=51602629&tenderCaseNo=104-9\n",
      "http://web.pcc.gov.tw/tps/main/pms/tps/atm/atmAwardAction.do?newEdit=false&searchMode=common&method=inquiryForPublic&pkAtmMain=51602645&tenderCaseNo=104009\n",
      "http://web.pcc.gov.tw/tps/main/pms/tps/atm/atmAwardAction.do?newEdit=false&searchMode=common&method=inquiryForPublic&pkAtmMain=51602652&tenderCaseNo=1040720\n",
      "http://web.pcc.gov.tw/tps/main/pms/tps/atm/atmAwardAction.do?newEdit=false&searchMode=common&method=inquiryForPublic&pkAtmMain=51602662&tenderCaseNo=3410400166-S04060\n",
      "http://web.pcc.gov.tw/tps/main/pms/tps/atm/atmAwardAction.do?newEdit=false&searchMode=common&method=inquiryForPublic&pkAtmMain=51602670&tenderCaseNo=10400004\n",
      "http://web.pcc.gov.tw/tps/main/pms/tps/atm/atmAwardAction.do?newEdit=false&searchMode=common&method=inquiryForPublic&pkAtmMain=51602674&tenderCaseNo=104-0022205-052-2-1\n",
      "http://web.pcc.gov.tw/tps/main/pms/tps/atm/atmAwardAction.do?newEdit=false&searchMode=common&method=inquiryForPublic&pkAtmMain=51602677&tenderCaseNo=104A102\n",
      "http://web.pcc.gov.tw/tps/main/pms/tps/atm/atmAwardAction.do?newEdit=false&searchMode=common&method=inquiryForPublic&pkAtmMain=51602678&tenderCaseNo=1040701\n",
      "http://web.pcc.gov.tw/tps/main/pms/tps/atm/atmAwardAction.do?newEdit=false&searchMode=common&method=inquiryForPublic&pkAtmMain=51602681&tenderCaseNo=MDK0470002\n",
      "http://web.pcc.gov.tw/tps/main/pms/tps/atm/atmAwardAction.do?newEdit=false&searchMode=common&method=inquiryForPublic&pkAtmMain=51602691&tenderCaseNo=104AP03\n",
      "http://web.pcc.gov.tw/tps/main/pms/tps/atm/atmAwardAction.do?newEdit=false&searchMode=common&method=inquiryForPublic&pkAtmMain=51602702&tenderCaseNo=104-07-03\n",
      "http://web.pcc.gov.tw/tps/main/pms/tps/atm/atmAwardAction.do?newEdit=false&searchMode=common&method=inquiryForPublic&pkAtmMain=51602706&tenderCaseNo=104TFDA-MD-032\n",
      "http://web.pcc.gov.tw/tps/main/pms/tps/atm/atmAwardAction.do?newEdit=false&searchMode=common&method=inquiryForPublic&pkAtmMain=51602714&tenderCaseNo=M04C5346\n",
      "http://web.pcc.gov.tw/tps/main/pms/tps/atm/atmAwardAction.do?newEdit=false&searchMode=common&method=inquiryForPublic&pkAtmMain=51602720&tenderCaseNo=104072306\n",
      "http://web.pcc.gov.tw/tps/main/pms/tps/atm/atmAwardAction.do?newEdit=false&searchMode=common&method=inquiryForPublic&pkAtmMain=51602725&tenderCaseNo=EEA0423002\n",
      "http://web.pcc.gov.tw/tps/main/pms/tps/atm/atmAwardAction.do?newEdit=false&searchMode=common&method=inquiryForPublic&pkAtmMain=51602740&tenderCaseNo=104-0022204-078-2-4\n",
      "http://web.pcc.gov.tw/tps/main/pms/tps/atm/atmAwardAction.do?newEdit=false&searchMode=common&method=inquiryForPublic&pkAtmMain=51602744&tenderCaseNo=DDA0442003\n",
      "http://web.pcc.gov.tw/tps/main/pms/tps/atm/atmAwardAction.do?newEdit=false&searchMode=common&method=inquiryForPublic&pkAtmMain=51602748&tenderCaseNo=1070400010\n",
      "http://web.pcc.gov.tw/tps/main/pms/tps/atm/atmAwardAction.do?newEdit=false&searchMode=common&method=inquiryForPublic&pkAtmMain=51602752&tenderCaseNo=320-10418\n",
      "http://web.pcc.gov.tw/tps/main/pms/tps/atm/atmAwardAction.do?newEdit=false&searchMode=common&method=inquiryForPublic&pkAtmMain=51602753&tenderCaseNo=3710300295X1\n",
      "http://web.pcc.gov.tw/tps/main/pms/tps/atm/atmAwardAction.do?newEdit=false&searchMode=common&method=inquiryForPublic&pkAtmMain=51602758&tenderCaseNo=10407171\n",
      "http://web.pcc.gov.tw/tps/main/pms/tps/atm/atmAwardAction.do?newEdit=false&searchMode=common&method=inquiryForPublic&pkAtmMain=51602760&tenderCaseNo=5330400043\n",
      "http://web.pcc.gov.tw/tps/main/pms/tps/atm/atmAwardAction.do?newEdit=false&searchMode=common&method=inquiryForPublic&pkAtmMain=51602766&tenderCaseNo=104013\n",
      "http://web.pcc.gov.tw/tps/main/pms/tps/atm/atmAwardAction.do?newEdit=false&searchMode=common&method=inquiryForPublic&pkAtmMain=51602769&tenderCaseNo=DDA0442005\n",
      "http://web.pcc.gov.tw/tps/main/pms/tps/atm/atmAwardAction.do?newEdit=false&searchMode=common&method=inquiryForPublic&pkAtmMain=51602804&tenderCaseNo=10420\n",
      "http://web.pcc.gov.tw/tps/main/pms/tps/atm/atmAwardAction.do?newEdit=false&searchMode=common&method=inquiryForPublic&pkAtmMain=51602805&tenderCaseNo=1041000159\n",
      "http://web.pcc.gov.tw/tps/main/pms/tps/atm/atmAwardAction.do?newEdit=false&searchMode=common&method=inquiryForPublic&pkAtmMain=51602807&tenderCaseNo=104AC0071\n",
      "http://web.pcc.gov.tw/tps/main/pms/tps/atm/atmAwardAction.do?newEdit=false&searchMode=common&method=inquiryForPublic&pkAtmMain=51602809&tenderCaseNo=2015072201\n",
      "http://web.pcc.gov.tw/tps/main/pms/tps/atm/atmAwardAction.do?newEdit=false&searchMode=common&method=inquiryForPublic&pkAtmMain=51602811&tenderCaseNo=104-041\n",
      "http://web.pcc.gov.tw/tps/main/pms/tps/atm/atmAwardAction.do?newEdit=false&searchMode=common&method=inquiryForPublic&pkAtmMain=51602813&tenderCaseNo=104-001-1\n",
      "http://web.pcc.gov.tw/tps/main/pms/tps/atm/atmAwardAction.do?newEdit=false&searchMode=common&method=inquiryForPublic&pkAtmMain=51602816&tenderCaseNo=20150603A\n",
      "http://web.pcc.gov.tw/tps/main/pms/tps/atm/atmAwardAction.do?newEdit=false&searchMode=common&method=inquiryForPublic&pkAtmMain=51602819&tenderCaseNo=102B040-2-104\n",
      "http://web.pcc.gov.tw/tps/main/pms/tps/atm/atmAwardAction.do?newEdit=false&searchMode=common&method=inquiryForPublic&pkAtmMain=51602820&tenderCaseNo=DDA0451002\n",
      "http://web.pcc.gov.tw/tps/main/pms/tps/atm/atmAwardAction.do?newEdit=false&searchMode=common&method=inquiryForPublic&pkAtmMain=51602814&tenderCaseNo=DEB0442007\n",
      "http://web.pcc.gov.tw/tps/main/pms/tps/atm/atmAwardAction.do?newEdit=false&searchMode=common&method=inquiryForPublic&pkAtmMain=51602830&tenderCaseNo=104b001\n",
      "http://web.pcc.gov.tw/tps/main/pms/tps/atm/atmAwardAction.do?newEdit=false&searchMode=common&method=inquiryForPublic&pkAtmMain=51602832&tenderCaseNo=C1040604-02\n",
      "http://web.pcc.gov.tw/tps/main/pms/tps/atm/atmAwardAction.do?newEdit=false&searchMode=common&method=inquiryForPublic&pkAtmMain=51602833&tenderCaseNo=0510400016\n",
      "http://web.pcc.gov.tw/tps/main/pms/tps/atm/atmAwardAction.do?newEdit=false&searchMode=common&method=inquiryForPublic&pkAtmMain=51602849&tenderCaseNo=1040707-3\n",
      "http://web.pcc.gov.tw/tps/main/pms/tps/atm/atmAwardAction.do?newEdit=false&searchMode=common&method=inquiryForPublic&pkAtmMain=51602852&tenderCaseNo=1040707\n",
      "http://web.pcc.gov.tw/tps/main/pms/tps/atm/atmAwardAction.do?newEdit=false&searchMode=common&method=inquiryForPublic&pkAtmMain=51602854&tenderCaseNo=104B011-02\n",
      "http://web.pcc.gov.tw/tps/main/pms/tps/atm/atmAwardAction.do?newEdit=false&searchMode=common&method=inquiryForPublic&pkAtmMain=51602857&tenderCaseNo=DEB0461003\n",
      "http://web.pcc.gov.tw/tps/main/pms/tps/atm/atmAwardAction.do?newEdit=false&searchMode=common&method=inquiryForPublic&pkAtmMain=51602859&tenderCaseNo=20150603B\n",
      "http://web.pcc.gov.tw/tps/main/pms/tps/atm/atmAwardAction.do?newEdit=false&searchMode=common&method=inquiryForPublic&pkAtmMain=51602863&tenderCaseNo=10110414meeluen\n",
      "http://web.pcc.gov.tw/tps/main/pms/tps/atm/atmAwardAction.do?newEdit=false&searchMode=common&method=inquiryForPublic&pkAtmMain=51602870&tenderCaseNo=10401\n",
      "http://web.pcc.gov.tw/tps/main/pms/tps/atm/atmAwardAction.do?newEdit=false&searchMode=common&method=inquiryForPublic&pkAtmMain=51602872&tenderCaseNo=1040714\n",
      "http://web.pcc.gov.tw/tps/main/pms/tps/atm/atmAwardAction.do?newEdit=false&searchMode=common&method=inquiryForPublic&pkAtmMain=51602873&tenderCaseNo=104318-01\n",
      "http://web.pcc.gov.tw/tps/main/pms/tps/atm/atmAwardAction.do?newEdit=false&searchMode=common&method=inquiryForPublic&pkAtmMain=51602884&tenderCaseNo=104U-137S\n",
      "http://web.pcc.gov.tw/tps/main/pms/tps/atm/atmAwardAction.do?newEdit=false&searchMode=common&method=inquiryForPublic&pkAtmMain=51602888&tenderCaseNo=MHF0470005\n",
      "http://web.pcc.gov.tw/tps/main/pms/tps/atm/atmAwardAction.do?newEdit=false&searchMode=common&method=inquiryForPublic&pkAtmMain=51602891&tenderCaseNo=104U-089S\n",
      "http://web.pcc.gov.tw/tps/main/pms/tps/atm/atmAwardAction.do?newEdit=false&searchMode=common&method=inquiryForPublic&pkAtmMain=51602904&tenderCaseNo=DDA0420045\n",
      "http://web.pcc.gov.tw/tps/main/pms/tps/atm/atmAwardAction.do?newEdit=false&searchMode=common&method=inquiryForPublic&pkAtmMain=51602908&tenderCaseNo=MGA0420001\n",
      "http://web.pcc.gov.tw/tps/main/pms/tps/atm/atmAwardAction.do?newEdit=false&searchMode=common&method=inquiryForPublic&pkAtmMain=51602911&tenderCaseNo=1040-104-B017\n",
      "http://web.pcc.gov.tw/tps/main/pms/tps/atm/atmAwardAction.do?newEdit=false&searchMode=common&method=inquiryForPublic&pkAtmMain=51602912&tenderCaseNo=0780409017\n",
      "http://web.pcc.gov.tw/tps/main/pms/tps/atm/atmAwardAction.do?newEdit=false&searchMode=common&method=inquiryForPublic&pkAtmMain=51603333&tenderCaseNo=1042H10030\n",
      "http://web.pcc.gov.tw/tps/main/pms/tps/atm/atmAwardAction.do?newEdit=false&searchMode=common&method=inquiryForPublic&pkAtmMain=51603249&tenderCaseNo=10408\n",
      "http://web.pcc.gov.tw/tps/main/pms/tps/atm/atmAwardAction.do?newEdit=false&searchMode=common&method=inquiryForPublic&pkAtmMain=51602936&tenderCaseNo=20150603C\n",
      "http://web.pcc.gov.tw/tps/main/pms/tps/atm/atmAwardAction.do?newEdit=false&searchMode=common&method=inquiryForPublic&pkAtmMain=51602969&tenderCaseNo=20150603D\n",
      "http://web.pcc.gov.tw/tps/main/pms/tps/atm/atmAwardAction.do?newEdit=false&searchMode=common&method=inquiryForPublic&pkAtmMain=51603055&tenderCaseNo=1040036465\n",
      "http://web.pcc.gov.tw/tps/main/pms/tps/atm/atmAwardAction.do?newEdit=false&searchMode=common&method=inquiryForPublic&pkAtmMain=51603310&tenderCaseNo=10405297\n",
      "http://web.pcc.gov.tw/tps/main/pms/tps/atm/atmAwardAction.do?newEdit=false&searchMode=common&method=inquiryForPublic&pkAtmMain=51603136&tenderCaseNo=1042F01022\n",
      "http://web.pcc.gov.tw/tps/main/pms/tps/atm/atmAwardAction.do?newEdit=false&searchMode=common&method=inquiryForPublic&pkAtmMain=51603194&tenderCaseNo=10405294\n",
      "http://web.pcc.gov.tw/tps/main/pms/tps/atm/atmAwardAction.do?newEdit=false&searchMode=common&method=inquiryForPublic&pkAtmMain=51603109&tenderCaseNo=B1040609\n",
      "http://web.pcc.gov.tw/tps/main/pms/tps/atm/atmAwardAction.do?newEdit=false&searchMode=common&method=inquiryForPublic&pkAtmMain=51603066&tenderCaseNo=104002\n",
      "http://web.pcc.gov.tw/tps/main/pms/tps/atm/atmAwardAction.do?newEdit=false&searchMode=common&method=inquiryForPublic&pkAtmMain=51603147&tenderCaseNo=104HE235C3\n",
      "http://web.pcc.gov.tw/tps/main/pms/tps/atm/atmAwardAction.do?newEdit=false&searchMode=common&method=inquiryForPublic&pkAtmMain=51603081&tenderCaseNo=104B0034\n",
      "http://web.pcc.gov.tw/tps/main/pms/tps/atm/atmAwardAction.do?newEdit=false&searchMode=common&method=inquiryForPublic&pkAtmMain=51602972&tenderCaseNo=MD104007\n",
      "http://web.pcc.gov.tw/tps/main/pms/tps/atm/atmAwardAction.do?newEdit=false&searchMode=common&method=inquiryForPublic&pkAtmMain=51603069&tenderCaseNo=10412\n",
      "http://web.pcc.gov.tw/tps/main/pms/tps/atm/atmAwardAction.do?newEdit=false&searchMode=common&method=inquiryForPublic&pkAtmMain=51603262&tenderCaseNo=10406100848\n",
      "http://web.pcc.gov.tw/tps/main/pms/tps/atm/atmAwardAction.do?newEdit=false&searchMode=common&method=inquiryForPublic&pkAtmMain=51602924&tenderCaseNo=104-07-04-103\n",
      "http://web.pcc.gov.tw/tps/main/pms/tps/atm/atmAwardAction.do?newEdit=false&searchMode=common&method=inquiryForPublic&pkAtmMain=51602935&tenderCaseNo=07-10406120\n",
      "http://web.pcc.gov.tw/tps/main/pms/tps/atm/atmAwardAction.do?newEdit=false&searchMode=common&method=inquiryForPublic&pkAtmMain=51603107&tenderCaseNo=NTCLS104-018\n",
      "http://web.pcc.gov.tw/tps/main/pms/tps/atm/atmAwardAction.do?newEdit=false&searchMode=common&method=inquiryForPublic&pkAtmMain=51603143&tenderCaseNo=D104-0417-071-1\n",
      "http://web.pcc.gov.tw/tps/main/pms/tps/atm/atmAwardAction.do?newEdit=false&searchMode=common&method=inquiryForPublic&pkAtmMain=51603095&tenderCaseNo=1040702\n",
      "http://web.pcc.gov.tw/tps/main/pms/tps/atm/atmAwardAction.do?newEdit=false&searchMode=common&method=inquiryForPublic&pkAtmMain=51603312&tenderCaseNo=104008-2\n",
      "http://web.pcc.gov.tw/tps/main/pms/tps/atm/atmAwardAction.do?newEdit=false&searchMode=common&method=inquiryForPublic&pkAtmMain=51603135&tenderCaseNo=10406031443\n",
      "http://web.pcc.gov.tw/tps/main/pms/tps/atm/atmAwardAction.do?newEdit=false&searchMode=common&method=inquiryForPublic&pkAtmMain=51603042&tenderCaseNo=B104031\n",
      "http://web.pcc.gov.tw/tps/main/pms/tps/atm/atmAwardAction.do?newEdit=false&searchMode=common&method=inquiryForPublic&pkAtmMain=51602984&tenderCaseNo=1040-104-B019\n",
      "http://web.pcc.gov.tw/tps/main/pms/tps/atm/atmAwardAction.do?newEdit=false&searchMode=common&method=inquiryForPublic&pkAtmMain=51603065&tenderCaseNo=104-LBIB-A006\n",
      "http://web.pcc.gov.tw/tps/main/pms/tps/atm/atmAwardAction.do?newEdit=false&searchMode=common&method=inquiryForPublic&pkAtmMain=51603163&tenderCaseNo=ED04022P020\n",
      "http://web.pcc.gov.tw/tps/main/pms/tps/atm/atmAwardAction.do?newEdit=false&searchMode=common&method=inquiryForPublic&pkAtmMain=51602955&tenderCaseNo=104B01\n",
      "http://web.pcc.gov.tw/tps/main/pms/tps/atm/atmAwardAction.do?newEdit=false&searchMode=common&method=inquiryForPublic&pkAtmMain=51603280&tenderCaseNo=EO04030P020\n",
      "http://web.pcc.gov.tw/tps/main/pms/tps/atm/atmAwardAction.do?newEdit=false&searchMode=common&method=inquiryForPublic&pkAtmMain=51603293&tenderCaseNo=104139\n",
      "http://web.pcc.gov.tw/tps/main/pms/tps/atm/atmAwardAction.do?newEdit=false&searchMode=common&method=inquiryForPublic&pkAtmMain=51603197&tenderCaseNo=104-6-74\n",
      "http://web.pcc.gov.tw/tps/main/pms/tps/atm/atmAwardAction.do?newEdit=false&searchMode=common&method=inquiryForPublic&pkAtmMain=51603260&tenderCaseNo=1040618\n",
      "http://web.pcc.gov.tw/tps/main/pms/tps/atm/atmAwardAction.do?newEdit=false&searchMode=common&method=inquiryForPublic&pkAtmMain=51603308&tenderCaseNo=1040431\n",
      "http://web.pcc.gov.tw/tps/main/pms/tps/atm/atmAwardAction.do?newEdit=false&searchMode=common&method=inquiryForPublic&pkAtmMain=51602968&tenderCaseNo=UHB045E001\n",
      "http://web.pcc.gov.tw/tps/main/pms/tps/atm/atmAwardAction.do?newEdit=false&searchMode=common&method=inquiryForPublic&pkAtmMain=51603283&tenderCaseNo=104A-070\n",
      "http://web.pcc.gov.tw/tps/main/pms/tps/atm/atmAwardAction.do?newEdit=false&searchMode=common&method=inquiryForPublic&pkAtmMain=51603161&tenderCaseNo=104017\n",
      "http://web.pcc.gov.tw/tps/main/pms/tps/atm/atmAwardAction.do?newEdit=false&searchMode=common&method=inquiryForPublic&pkAtmMain=51603217&tenderCaseNo=CB04003P027\n",
      "http://web.pcc.gov.tw/tps/main/pms/tps/atm/atmAwardAction.do?newEdit=false&searchMode=common&method=inquiryForPublic&pkAtmMain=51603338&tenderCaseNo=104C28P005\n",
      "http://web.pcc.gov.tw/tps/main/pms/tps/atm/atmAwardAction.do?newEdit=false&searchMode=common&method=inquiryForPublic&pkAtmMain=51603151&tenderCaseNo=1040012990\n",
      "http://web.pcc.gov.tw/tps/main/pms/tps/atm/atmAwardAction.do?newEdit=false&searchMode=common&method=inquiryForPublic&pkAtmMain=51603284&tenderCaseNo=133-104-B135\n",
      "http://web.pcc.gov.tw/tps/main/pms/tps/atm/atmAwardAction.do?newEdit=false&searchMode=common&method=inquiryForPublic&pkAtmMain=51603134&tenderCaseNo=0100406007_1\n",
      "http://web.pcc.gov.tw/tps/main/pms/tps/atm/atmAwardAction.do?newEdit=false&searchMode=common&method=inquiryForPublic&pkAtmMain=51603166&tenderCaseNo=T0109706007-4\n",
      "http://web.pcc.gov.tw/tps/main/pms/tps/atm/atmAwardAction.do?newEdit=false&searchMode=common&method=inquiryForPublic&pkAtmMain=51603255&tenderCaseNo=104A-084\n",
      "http://web.pcc.gov.tw/tps/main/pms/tps/atm/atmAwardAction.do?newEdit=false&searchMode=common&method=inquiryForPublic&pkAtmMain=51603023&tenderCaseNo=L0204S3013Y\n",
      "http://web.pcc.gov.tw/tps/main/pms/tps/atm/atmAwardAction.do?newEdit=false&searchMode=common&method=inquiryForPublic&pkAtmMain=51603037&tenderCaseNo=LDL0470002\n",
      "http://web.pcc.gov.tw/tps/main/pms/tps/atm/atmAwardAction.do?newEdit=false&searchMode=common&method=inquiryForPublic&pkAtmMain=51603225&tenderCaseNo=104-0020604-021-2-3\n",
      "http://web.pcc.gov.tw/tps/main/pms/tps/atm/atmAwardAction.do?newEdit=false&searchMode=common&method=inquiryForPublic&pkAtmMain=51603277&tenderCaseNo=104011\n",
      "http://web.pcc.gov.tw/tps/main/pms/tps/atm/atmAwardAction.do?newEdit=false&searchMode=common&method=inquiryForPublic&pkAtmMain=51602942&tenderCaseNo=104-005-111-CL-1-444\n",
      "http://web.pcc.gov.tw/tps/main/pms/tps/atm/atmAwardAction.do?newEdit=false&searchMode=common&method=inquiryForPublic&pkAtmMain=51603241&tenderCaseNo=SZ104-113\n",
      "http://web.pcc.gov.tw/tps/main/pms/tps/atm/atmAwardAction.do?newEdit=false&searchMode=common&method=inquiryForPublic&pkAtmMain=51603281&tenderCaseNo=MGE0420003\n",
      "http://web.pcc.gov.tw/tps/main/pms/tps/atm/atmAwardAction.do?newEdit=false&searchMode=common&method=inquiryForPublic&pkAtmMain=51603240&tenderCaseNo=104KL27S\n",
      "http://web.pcc.gov.tw/tps/main/pms/tps/atm/atmAwardAction.do?newEdit=false&searchMode=common&method=inquiryForPublic&pkAtmMain=51603300&tenderCaseNo=104012\n",
      "http://web.pcc.gov.tw/tps/main/pms/tps/atm/atmAwardAction.do?newEdit=false&searchMode=common&method=inquiryForPublic&pkAtmMain=51603020&tenderCaseNo=mfps1040720\n",
      "http://web.pcc.gov.tw/tps/main/pms/tps/atm/atmAwardAction.do?newEdit=false&searchMode=common&method=inquiryForPublic&pkAtmMain=51603088&tenderCaseNo=104108CA\n",
      "http://web.pcc.gov.tw/tps/main/pms/tps/atm/atmAwardAction.do?newEdit=false&searchMode=common&method=inquiryForPublic&pkAtmMain=51603274&tenderCaseNo=1040611\n",
      "http://web.pcc.gov.tw/tps/main/pms/tps/atm/atmAwardAction.do?newEdit=false&searchMode=common&method=inquiryForPublic&pkAtmMain=51603120&tenderCaseNo=1040104\n",
      "http://web.pcc.gov.tw/tps/main/pms/tps/atm/atmAwardAction.do?newEdit=false&searchMode=common&method=inquiryForPublic&pkAtmMain=51603108&tenderCaseNo=104-3-152\n",
      "http://web.pcc.gov.tw/tps/main/pms/tps/atm/atmAwardAction.do?newEdit=false&searchMode=common&method=inquiryForPublic&pkAtmMain=51603203&tenderCaseNo=5460400050\n",
      "http://web.pcc.gov.tw/tps/main/pms/tps/atm/atmAwardAction.do?newEdit=false&searchMode=common&method=inquiryForPublic&pkAtmMain=51603160&tenderCaseNo=1041232401\n",
      "http://web.pcc.gov.tw/tps/main/pms/tps/atm/atmAwardAction.do?newEdit=false&searchMode=common&method=inquiryForPublic&pkAtmMain=51603142&tenderCaseNo=104037\n",
      "http://web.pcc.gov.tw/tps/main/pms/tps/atm/atmAwardAction.do?newEdit=false&searchMode=common&method=inquiryForPublic&pkAtmMain=51603067&tenderCaseNo=103N05-C01\n",
      "http://web.pcc.gov.tw/tps/main/pms/tps/atm/atmAwardAction.do?newEdit=false&searchMode=common&method=inquiryForPublic&pkAtmMain=51603129&tenderCaseNo=104093CF\n",
      "http://web.pcc.gov.tw/tps/main/pms/tps/atm/atmAwardAction.do?newEdit=false&searchMode=common&method=inquiryForPublic&pkAtmMain=51603168&tenderCaseNo=1B04T300043\n",
      "http://web.pcc.gov.tw/tps/main/pms/tps/atm/atmAwardAction.do?newEdit=false&searchMode=common&method=inquiryForPublic&pkAtmMain=51603082&tenderCaseNo=TBC-1040625\n",
      "http://web.pcc.gov.tw/tps/main/pms/tps/atm/atmAwardAction.do?newEdit=false&searchMode=common&method=inquiryForPublic&pkAtmMain=51602978&tenderCaseNo=SCA0414006\n",
      "http://web.pcc.gov.tw/tps/main/pms/tps/atm/atmAwardAction.do?newEdit=false&searchMode=common&method=inquiryForPublic&pkAtmMain=51603072&tenderCaseNo=10423\n",
      "http://web.pcc.gov.tw/tps/main/pms/tps/atm/atmAwardAction.do?newEdit=false&searchMode=common&method=inquiryForPublic&pkAtmMain=51603070&tenderCaseNo=104-27\n",
      "http://web.pcc.gov.tw/tps/main/pms/tps/atm/atmAwardAction.do?newEdit=false&searchMode=common&method=inquiryForPublic&pkAtmMain=51603315&tenderCaseNo=0510400015\n",
      "http://web.pcc.gov.tw/tps/main/pms/tps/atm/atmAwardAction.do?newEdit=false&searchMode=common&method=inquiryForPublic&pkAtmMain=51603021&tenderCaseNo=AEC10404009L\n",
      "http://web.pcc.gov.tw/tps/main/pms/tps/atm/atmAwardAction.do?newEdit=false&searchMode=common&method=inquiryForPublic&pkAtmMain=51603133&tenderCaseNo=1040000518\n",
      "http://web.pcc.gov.tw/tps/main/pms/tps/atm/atmAwardAction.do?newEdit=false&searchMode=common&method=inquiryForPublic&pkAtmMain=51603340&tenderCaseNo=104ECON27S2\n",
      "http://web.pcc.gov.tw/tps/main/pms/tps/atm/atmAwardAction.do?newEdit=false&searchMode=common&method=inquiryForPublic&pkAtmMain=51602927&tenderCaseNo=RDC0416010\n",
      "http://web.pcc.gov.tw/tps/main/pms/tps/atm/atmAwardAction.do?newEdit=false&searchMode=common&method=inquiryForPublic&pkAtmMain=51603046&tenderCaseNo=5460400065\n",
      "http://web.pcc.gov.tw/tps/main/pms/tps/atm/atmAwardAction.do?newEdit=false&searchMode=common&method=inquiryForPublic&pkAtmMain=51603321&tenderCaseNo=104-017\n",
      "http://web.pcc.gov.tw/tps/main/pms/tps/atm/atmAwardAction.do?newEdit=false&searchMode=common&method=inquiryForPublic&pkAtmMain=51603058&tenderCaseNo=10409\n",
      "http://web.pcc.gov.tw/tps/main/pms/tps/atm/atmAwardAction.do?newEdit=false&searchMode=common&method=inquiryForPublic&pkAtmMain=51603243&tenderCaseNo=1041711\n",
      "http://web.pcc.gov.tw/tps/main/pms/tps/atm/atmAwardAction.do?newEdit=false&searchMode=common&method=inquiryForPublic&pkAtmMain=51603043&tenderCaseNo=JB04165P182\n",
      "http://web.pcc.gov.tw/tps/main/pms/tps/atm/atmAwardAction.do?newEdit=false&searchMode=common&method=inquiryForPublic&pkAtmMain=51603003&tenderCaseNo=103B040-1-104\n",
      "http://web.pcc.gov.tw/tps/main/pms/tps/atm/atmAwardAction.do?newEdit=false&searchMode=common&method=inquiryForPublic&pkAtmMain=51603174&tenderCaseNo=10404\n",
      "http://web.pcc.gov.tw/tps/main/pms/tps/atm/atmAwardAction.do?newEdit=false&searchMode=common&method=inquiryForPublic&pkAtmMain=51601196&tenderCaseNo=1040025624\n"
     ]
    },
    {
     "data": {
      "text/plain": [
       "'\\n    request_get = requests.get(pagelink)\\n    response = request_get.text.encode(\\'utf8\\')\\n    soup = BeautifulSoup(response)\\n    printarea = soup.select(\\'#printArea\\')[0]\\n    bid_detail = open(\"gov/%s.txt\"%(filename), \\'w\\')\\n    bid_detail.write(printarea .prettify(\"utf-8\"))\\n    bid_detail.close()\\n'"
      ]
     },
     "execution_count": 74,
     "metadata": {},
     "output_type": "execute_result"
    }
   ],
   "source": [
    "# -*- coding: utf-8 -*-\n",
    "from bs4 import BeautifulSoup\n",
    "import re, grequests \n",
    "\n",
    "def getFileName(pagelink):\n",
    "    rear_substring = pagelink.split(\"pkAtmMain=\")[1]\n",
    "    param = rear_substring.split(\"&tenderCaseNo=\")\n",
    "    pkAtmMain= param[0]\n",
    "    caseno= param[1]\n",
    "    filename = \"%s_%s\" %(pkAtmMain, caseno)\n",
    "    return filename\n",
    "\n",
    "pageary = []\n",
    "bid_list = open('bid_list.txt', 'r')\n",
    "for line in bid_list.readlines():\n",
    "    pagelink = line.strip()\n",
    "    filename = getFileName(pagelink)\n",
    "    pageary.append(pagelink)\n",
    "bid_list.close()  \n",
    "\n",
    "import math\n",
    "\n",
    "for i in range(0, int(math.ceil(float(len(pageary))/ 20)) ):\n",
    "    linkary =  pageary[i*20:(i+1)* 20]   \n",
    "    rs = (grequests.get(u) for u in linkary)\n",
    "    for response in grequests.map(rs):\n",
    "        #print response.url\n",
    "        soup = BeautifulSoup(response.text)\n",
    "        filename = getFileName(response.url)\n",
    "        printarea = soup.select('#printArea')[0]\n",
    "        bid_detail = open(\"gov/%s.txt\"%(filename), 'w')\n",
    "        bid_detail.write(printarea.prettify(\"utf-8\"))\n",
    "        bid_detail.close()\n"
   ]
  },
  {
   "cell_type": "code",
   "execution_count": 99,
   "metadata": {
    "collapsed": false
   },
   "outputs": [],
   "source": [
    "# -*- coding: utf-8 -*-\n",
    "import requests\n",
    "import pandas as pd\n",
    "from bs4 import BeautifulSoup\n",
    "res = requests.get('http://www.tdcc.com.tw/smWeb/QryStock.jsp?SCA_DATE=20150724&SqlMethod=StockNo&StockNo=2330&StockName=&sub=%ACd%B8%DF')\n",
    "soup  = BeautifulSoup(res.text)\n",
    "stock = []\n",
    "table = soup.select('.mt')[1]\n",
    "for ele in table.select('tr')[1:]:\n",
    "    td = ele.select('td')\n",
    "    if len(td) >= 5:\n",
    "        stock.append( {'id':td[0].text.encode('utf-8'), 'level': td[1].text.encode('utf-8'), \\\n",
    "                       'people': td[2].text.encode('utf-8'), 'stock': td[3].text.encode('utf-8'), 'ratio': td[4].text.encode('utf-8')})\n",
    "#print stock\n",
    "df = pd.DataFrame(stock)    \n"
   ]
  },
  {
   "cell_type": "code",
   "execution_count": 97,
   "metadata": {
    "collapsed": false
   },
   "outputs": [
    {
     "name": "stdout",
     "output_type": "stream",
     "text": [
      "    id              level   people   ratio           stock\n",
      "0    1              1-999  149,582    0.13      33,904,767\n",
      "1    2        1,000-5,000  148,585    1.21     315,437,367\n",
      "2    3       5,001-10,000   28,117    0.78     202,822,854\n",
      "3    4      10,001-15,000   10,617    0.49     129,224,143\n",
      "4    5      15,001-20,000    4,947    0.33      87,217,575\n",
      "5    6      20,001-30,000    5,373    0.50     130,860,793\n",
      "6    7      30,001-40,000    2,491    0.33      86,088,553\n",
      "7    8      40,001-50,000    1,599    0.27      71,945,151\n",
      "8    9     50,001-100,000    3,074    0.82     214,390,910\n",
      "9   10    100,001-200,000    1,562    0.83     216,600,842\n",
      "10  11    200,001-400,000    1,021    1.09     283,630,899\n",
      "11  12    400,001-600,000      416    0.78     204,568,716\n",
      "12  13    600,001-800,000      231    0.62     161,154,407\n",
      "13  14  800,001-1,000,000      169    0.58     151,637,813\n",
      "14  15        1,000,001以上    1,355   91.17  23,640,895,668\n",
      "15                    合　計  359,139  100.00  25,930,380,458\n"
     ]
    }
   ],
   "source": [
    "\n",
    "print df"
   ]
  },
  {
   "cell_type": "code",
   "execution_count": 107,
   "metadata": {
    "collapsed": false
   },
   "outputs": [
    {
     "name": "stdout",
     "output_type": "stream",
     "text": [
      "Android 手機再傳漏洞！這下子就連電話都講不了了！ 2015-07-30 16:41\n",
      "茶油夯 湖口將契作加工樹立品牌 2015-07-30 16:39\n",
      "國民黨要小英道歉 張鐵志：無恥無下限 2015-07-30 16:38\n",
      "李冰冰出道前長這樣... 2015-07-30 16:38\n",
      "反課綱總召痛批教長「怠忽職守」  用命替教育部擦屁股 2015-07-30 16:38\n",
      "竹市國民黨部推兩岸直航 市府打臉不推 2015-07-30 16:36\n",
      "腦出血苦候2小時轉診 衛福部竟批醫院疏失 2015-07-30 16:31\n",
      "警大部分招考報名費將調漲 2015-07-30 16:30\n",
      "李奧納多演獵人 寒凍拍攝好痛苦 2015-07-30 16:30\n",
      "為19萬拖一年 萬丹衛生所對面公園牴觸戶拆除 2015-07-30 16:29\n",
      "尾盤急殺 中國股市跌逾2％ 2015-07-30 16:29\n",
      "三角戀糾纏7年 女子偕新歡持槍恐嚇情敵 2015-07-30 16:29\n",
      "大巨蛋大底完工 柯P：最害怕的東西解決掉了 2015-07-30 16:27\n",
      "新埔「瓜湯」快失傳的客家好滋味 2015-07-30 16:27\n",
      "新台幣升轉貶 創逾4個月新低 2015-07-30 16:26\n",
      "網路世界好危險！簡單 5 招教你安全上網！ 2015-07-30 16:26\n",
      "家訪關切林冠華 人渣文本：這是正常程序？ 2015-07-30 16:24\n",
      "日富山國際海報3年展  樹科大3件作品入選 2015-07-30 16:24\n",
      "許志堅涉收賄 監委要查 2015-07-30 16:22\n",
      "抱怨「媒體很討厭」 劉姓父子訊後以「證人」請回 2015-07-30 16:22\n",
      "中職》宋家豪現身台南 可能加盟獅隊或旅日 2015-07-30 16:22\n",
      "台南府會之爭 賴清德呼應涉賄議長「提前下架」觀點 2015-07-30 16:22\n",
      "林冠華自殺歸咎病史 李惠仁痛斥「丟不丟臉啊」 2015-07-30 16:20\n",
      "遠傳間接入主中嘉  強調不違反黨政軍條款 2015-07-30 16:18\n"
     ]
    }
   ],
   "source": [
    "import requests\n",
    "from bs4 import BeautifulSoup\n",
    "res = requests.get('http://news.ltn.com.tw/list/BreakingNews')\n",
    "soup  = BeautifulSoup(res.text)\n",
    "for ele in soup.select('.lipic'):\n",
    "    print ele.select('.picword')[0].text, ele.select('span')[0].text\n"
   ]
  },
  {
   "cell_type": "code",
   "execution_count": null,
   "metadata": {
    "collapsed": true
   },
   "outputs": [],
   "source": []
  }
 ],
 "metadata": {
  "kernelspec": {
   "display_name": "Python 2",
   "language": "python",
   "name": "python2"
  },
  "language_info": {
   "codemirror_mode": {
    "name": "ipython",
    "version": 2
   },
   "file_extension": ".py",
   "mimetype": "text/x-python",
   "name": "python",
   "nbconvert_exporter": "python",
   "pygments_lexer": "ipython2",
   "version": "2.7.6"
  }
 },
 "nbformat": 4,
 "nbformat_minor": 0
}
