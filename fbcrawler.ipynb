{
 "cells": [
  {
   "cell_type": "code",
   "execution_count": 5,
   "metadata": {
    "collapsed": false
   },
   "outputs": [
    {
     "name": "stdout",
     "output_type": "stream",
     "text": [
      "Roy Yen 有錢有閒，當然要來點浪漫。\n",
      "Jen Chun Chuang OMG 不是才三、五年嗎？\n"
     ]
    }
   ],
   "source": [
    "import requests\n",
    "import json\n",
    "#1033594870051176/comments\n",
    "access_token = 'CAACEdEose0cBABpRS4YIKPWsJnvG5po7Ea8DO04ZAAJpSt4BOSmNzoA9IWbiZAZCmWlWtkYdtcydDb4ETfQdZA308nl7ARAeNCeixl5uHPisCEjdBOtuD4g8nmm0XWzaMNhJtwEcLn4VOZA6s9ZBI8dKNDH9ZBl6ZBchfNRMiLnIZAMZCAOxa2XYH8fzgr4KTWZCax8VOtZCCKitemKMal8hZA8bVTRZBZBYZBB5BdKkKsuDqDNBgwZDZD'\n",
    "fburl = 'https://graph.facebook.com/v2.4/1033594870051176/comments?access_token=%s'%(access_token)\n",
    "res = requests.get(fburl)\n",
    "jd = json.loads(res.text)\n",
    "for ele in  jd['data']:\n",
    "    print ele['from']['name'],ele['message']"
   ]
  },
  {
   "cell_type": "code",
   "execution_count": null,
   "metadata": {
    "collapsed": true
   },
   "outputs": [],
   "source": []
  }
 ],
 "metadata": {
  "kernelspec": {
   "display_name": "Python 2",
   "language": "python",
   "name": "python2"
  },
  "language_info": {
   "codemirror_mode": {
    "name": "ipython",
    "version": 2
   },
   "file_extension": ".py",
   "mimetype": "text/x-python",
   "name": "python",
   "nbconvert_exporter": "python",
   "pygments_lexer": "ipython2",
   "version": "2.7.6"
  }
 },
 "nbformat": 4,
 "nbformat_minor": 0
}
