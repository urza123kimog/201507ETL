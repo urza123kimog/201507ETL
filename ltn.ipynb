{
 "cells": [
  {
   "cell_type": "code",
   "execution_count": 20,
   "metadata": {
    "collapsed": true
   },
   "outputs": [],
   "source": [
    "import requests\n",
    "import re\n",
    "res = requests.get('http://news.ltn.com.tw/css/news/style.css?20150715')\n",
    "res.encoding = 'utf-8'\n",
    "#print res.text\n",
    "dic = {}\n",
    "tabs = re.findall('.list span a.(tab\\d+):after{content:\"(.*?)\";.*?}', res.text)\n",
    "for tab in tabs:\n",
    "    dic[tab[0]] = tab[1]"
   ]
  },
  {
   "cell_type": "code",
   "execution_count": 21,
   "metadata": {
    "collapsed": false
   },
   "outputs": [
    {
     "name": "stdout",
     "output_type": "stream",
     "text": [
      "2015-08-03 11:49 徒步環島反黑箱課綱抵屏東 縣府：縣中用舊課綱 生活\n",
      "2015-08-03 11:48 投顧：台股目標下修至9250點 Q3可望反彈 財經\n",
      "2015-08-03 11:47 非法移民脫鞋襪睡車內 車主氣炸 國際\n",
      "2015-08-03 11:46 高中老師愛上女學生 互傳裸照的代價是... 社會\n",
      "2015-08-03 11:42 地無三里平肇禍！機車把手勾聯結車 女騎士截肢獲國賠 社會\n",
      "2015-08-03 11:41 染毒女子骨折住院  點滴竟偷加海洛因... 社會\n",
      "2015-08-03 11:41 NBA》2代球星比一比 Kobe、喬丹誰優秀？ 體育\n",
      "2015-08-03 11:38 環保署公布第11屆環評委員名單 6學者留任 生活\n",
      "2015-08-03 11:38 療癒系玩偶陪搭車 新北兒藝節童話公車上路 生活\n",
      "2015-08-03 11:38 仍有 Force Touch 功能？iPhone 6S 原型機諜照曝光 3C\n",
      "2015-08-03 11:36 高鐵T Life車上雜誌 不搭高鐵用手機看 生活\n",
      "2015-08-03 11:36 「牧東」列財務重點專區 櫃買：投資人請審慎判斷 財經\n",
      "2015-08-03 11:35 自由開講》在失去一位反黑箱課綱的年輕人之後 言論\n",
      "2015-08-03 11:35 自由開講》柯Ｐ也要查「堅」情！ 言論\n",
      "2015-08-03 11:34 搶搭江蕙熱！高雄星級飯店相繼推出門票抽獎活動 生活\n",
      "2015-08-03 11:31 甄子丹英國拍戲 陪遊3女 娛樂\n",
      "2015-08-03 11:31 逆向駕駛頻傳  網友罵「趕去投胎嗎？」 生活\n",
      "2015-08-03 11:30 馬英九投書轟李登輝 陳亭妃：怎不說課綱爭議？ 政治\n",
      "2015-08-03 11:30 太陽光電申設件數攀升 南市擬7大策略 生活\n",
      "2015-08-03 11:30 許志堅涉貪 台聯青年軍：朱立倫下台 新北市府前抗議燒金條 政治\n",
      "2015-08-03 11:28 MLB》頭部近身球太頻繁 藍鳥唐納森砲轟主審 體育\n",
      "2015-08-03 11:28 高雄傳命案！同居男友疑涉失手殺害女友 社會\n",
      "2015-08-03 11:28 愛國者基地遭人駕車闖入 金山警方急追人 社會\n",
      "2015-08-03 11:26 竹縣國中小新任校長的第一門課：讀好採購法 生活\n"
     ]
    }
   ],
   "source": [
    "import requests\n",
    "from bs4 import BeautifulSoup as bs\n",
    "res = requests.get('http://news.ltn.com.tw/list/BreakingNews')\n",
    "soup = bs(res.text)\n",
    "for li in soup.select('.lipic'):\n",
    "    print li.select('span')[0].text, li.select('a')[1].text, dic.get(li.select('a')[0].get('class')[0])"
   ]
  },
  {
   "cell_type": "code",
   "execution_count": 16,
   "metadata": {
    "collapsed": false
   },
   "outputs": [
    {
     "name": "stdout",
     "output_type": "stream",
     "text": [
      "tab1 焦點\n",
      "tab2 政治\n",
      "tab3 社會\n",
      "tab4 生活\n",
      "tab5 國際\n",
      "tab6 言論\n",
      "tab7 財經\n",
      "tab8 體育\n",
      "tab9 地方\n",
      "tab10 娛樂\n",
      "tab11 消費\n",
      "tab12 副刊\n",
      "tab14 汽車\n",
      "tab15 iStyle\n"
     ]
    }
   ],
   "source": []
  },
  {
   "cell_type": "code",
   "execution_count": null,
   "metadata": {
    "collapsed": true
   },
   "outputs": [],
   "source": []
  }
 ],
 "metadata": {
  "kernelspec": {
   "display_name": "Python 2",
   "language": "python",
   "name": "python2"
  },
  "language_info": {
   "codemirror_mode": {
    "name": "ipython",
    "version": 2
   },
   "file_extension": ".py",
   "mimetype": "text/x-python",
   "name": "python",
   "nbconvert_exporter": "python",
   "pygments_lexer": "ipython2",
   "version": "2.7.6"
  }
 },
 "nbformat": 4,
 "nbformat_minor": 0
}
