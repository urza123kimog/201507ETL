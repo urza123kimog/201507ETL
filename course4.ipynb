{
 "cells": [
  {
   "cell_type": "code",
   "execution_count": 5,
   "metadata": {
    "collapsed": false
   },
   "outputs": [],
   "source": [
    "f = open('gov/51603189_1040202.txt', 'r')\n",
    "response_text = f.read()\n",
    "f.close()"
   ]
  },
  {
   "cell_type": "code",
   "execution_count": 21,
   "metadata": {
    "collapsed": false
   },
   "outputs": [
    {
     "name": "stdout",
     "output_type": "stream",
     "text": [
      "3.13.2\n"
     ]
    }
   ],
   "source": [
    "from bs4 import BeautifulSoup as BS\n",
    "soup = BS(response_text)\n",
    "for row in soup.select('tr'):\n",
    "    th = row.select('th')\n",
    "    if len(th) > 0 :\n",
    "        if th[0].text.encode('utf-8').strip() == '機關代碼':\n",
    "            print row.select('td')[0].text.strip()\n",
    "        \n"
   ]
  },
  {
   "cell_type": "code",
   "execution_count": 26,
   "metadata": {
    "collapsed": false
   },
   "outputs": [
    {
     "name": "stdout",
     "output_type": "stream",
     "text": [
      "False\n",
      "機關代碼\n",
      "True\n",
      "機關代碼       \n",
      "     機關代碼\n"
     ]
    }
   ],
   "source": [
    "a = '     機關代碼       '\n",
    "\n",
    "print  a == '機關代碼'\n",
    "print  a.strip()\n",
    "print  a.strip() == '機關代碼'\n",
    "print a.lstrip()\n",
    "print a.rstrip()\n"
   ]
  },
  {
   "cell_type": "code",
   "execution_count": 30,
   "metadata": {
    "collapsed": false
   },
   "outputs": [
    {
     "name": "stdout",
     "output_type": "stream",
     "text": [
      " \t string test \t \n",
      "\n",
      "\r",
      " \t string test \t \n",
      "\n",
      "\r\n"
     ]
    }
   ],
   "source": [
    "s = \" \\t string test \\t \\n\\n\\r\" ' \\t string test \\t \\n\\n\\r'\n",
    "print s\n"
   ]
  },
  {
   "cell_type": "code",
   "execution_count": 31,
   "metadata": {
    "collapsed": false
   },
   "outputs": [
    {
     "name": "stdout",
     "output_type": "stream",
     "text": [
      "string test \t \n",
      "\n",
      "\r",
      " \t string test\n"
     ]
    }
   ],
   "source": [
    "print s.strip() \n"
   ]
  },
  {
   "cell_type": "code",
   "execution_count": 34,
   "metadata": {
    "collapsed": false
   },
   "outputs": [
    {
     "name": "stdout",
     "output_type": "stream",
     "text": [
      " \t string test \t \n",
      "\n",
      "\r",
      " \t string test\n"
     ]
    }
   ],
   "source": [
    "print s.rstrip() "
   ]
  },
  {
   "cell_type": "code",
   "execution_count": 35,
   "metadata": {
    "collapsed": false
   },
   "outputs": [
    {
     "name": "stdout",
     "output_type": "stream",
     "text": [
      "string test \t \n",
      "\n",
      "\r",
      " \t string test \t \n",
      "\n",
      "\r\n"
     ]
    }
   ],
   "source": [
    "print s.lstrip()"
   ]
  },
  {
   "cell_type": "code",
   "execution_count": 43,
   "metadata": {
    "collapsed": false
   },
   "outputs": [
    {
     "name": "stdout",
     "output_type": "stream",
     "text": [
      "3.13.2\n",
      "經濟部工業局\n"
     ]
    }
   ],
   "source": [
    "from bs4 import BeautifulSoup as BS\n",
    "soup = BS(response_text)\n",
    "for row in soup.select('tr.award_table_tr_1'):\n",
    "    th = row.select('th')\n",
    "    if len(th) > 0 :\n",
    "        if th[0].text.encode('utf-8').strip() == '機關代碼':\n",
    "            print row.select('td')[0].text.strip()\n",
    "        if th[0].text.encode('utf-8').strip() == '機關名稱':\n",
    "            print row.select('td')[0].text.strip()            \n",
    "        "
   ]
  },
  {
   "cell_type": "code",
   "execution_count": 44,
   "metadata": {
    "collapsed": false
   },
   "outputs": [
    {
     "name": "stdout",
     "output_type": "stream",
     "text": [
      "{'a': 100, 'c': 0.98, 'b': 'yes'}\n",
      "['a', 'c', 'b']\n",
      "[100, 0.98, 'yes']\n",
      "100\n",
      "100\n"
     ]
    }
   ],
   "source": [
    "#declare dictionary\n",
    "dic = {'a':100, 'b':\"yes\", 'c':0.98} \n",
    "print dic\n",
    "#get keys in dictionary\n",
    "print dic.keys()\n",
    "#get values in dictionary\n",
    "print dic.values() #get value of given key\n",
    "print dic['a']\n",
    "#get value of given key\n",
    "print dic.get('a')"
   ]
  },
  {
   "cell_type": "code",
   "execution_count": 48,
   "metadata": {
    "collapsed": false
   },
   "outputs": [
    {
     "ename": "KeyError",
     "evalue": "'d'",
     "output_type": "error",
     "traceback": [
      "\u001b[0;31m---------------------------------------------------------------------------\u001b[0m",
      "\u001b[0;31mKeyError\u001b[0m                                  Traceback (most recent call last)",
      "\u001b[0;32m<ipython-input-48-143205e8c65b>\u001b[0m in \u001b[0;36m<module>\u001b[0;34m()\u001b[0m\n\u001b[0;32m----> 1\u001b[0;31m \u001b[0;32mprint\u001b[0m \u001b[0mdic\u001b[0m\u001b[0;34m[\u001b[0m\u001b[0;34m'd'\u001b[0m\u001b[0;34m]\u001b[0m\u001b[0;34m\u001b[0m\u001b[0m\n\u001b[0m",
      "\u001b[0;31mKeyError\u001b[0m: 'd'"
     ]
    }
   ],
   "source": [
    "print dic['d']"
   ]
  },
  {
   "cell_type": "code",
   "execution_count": 47,
   "metadata": {
    "collapsed": false
   },
   "outputs": [
    {
     "name": "stdout",
     "output_type": "stream",
     "text": [
      "None\n"
     ]
    }
   ],
   "source": [
    "print dic.get('d')"
   ]
  },
  {
   "cell_type": "code",
   "execution_count": 49,
   "metadata": {
    "collapsed": false
   },
   "outputs": [
    {
     "name": "stdout",
     "output_type": "stream",
     "text": [
      "{'a': 100, 'c': 0.98, 'b': 'yes', 'd': 'new'}\n",
      "{'a': 100, 'c': 0.98, 'b': 'yes', 'e': 123, 'd': 'new', 'f': 999}\n",
      "a 100\n",
      "c 0.98\n",
      "b yes\n",
      "e 123\n",
      "d new\n",
      "f 999\n"
     ]
    }
   ],
   "source": [
    "#add entry into dictionary\n",
    "dic['d'] = 'new'\n",
    "print dic\n",
    "\n",
    "#add entry into dictionary\n",
    "dic.update({'e':123, 'f': 999})\n",
    "print dic\n",
    "\n",
    "# iter the dictionary\n",
    "for rec in dic:\n",
    "    print rec, dic[rec]"
   ]
  },
  {
   "cell_type": "code",
   "execution_count": 51,
   "metadata": {
    "collapsed": false
   },
   "outputs": [
    {
     "name": "stdout",
     "output_type": "stream",
     "text": [
      "True\n",
      "False\n"
     ]
    }
   ],
   "source": [
    "print 'f' in dic\n",
    "print 'g' in dic"
   ]
  },
  {
   "cell_type": "code",
   "execution_count": 58,
   "metadata": {
    "collapsed": false
   },
   "outputs": [
    {
     "name": "stdout",
     "output_type": "stream",
     "text": [
      "{'qoo': 123}\n",
      "123\n",
      "468\n"
     ]
    }
   ],
   "source": [
    "dic = {}\n",
    "dic['qoo'] = 123\n",
    "\n",
    "print dic\n",
    "print dic['qoo']\n",
    "print dic['qoo'] + 345"
   ]
  },
  {
   "cell_type": "code",
   "execution_count": 59,
   "metadata": {
    "collapsed": false
   },
   "outputs": [
    {
     "name": "stdout",
     "output_type": "stream",
     "text": [
      "3.13.2\n",
      "經濟部工業局\n",
      "110臺北市信義區信義路路三段41-3號\n",
      "軟體採購辦公室\n",
      "(02)66072558\n"
     ]
    }
   ],
   "source": [
    "dic = {\"機關代碼\":\"\", \"機關名稱\":\"\", \"機關地址\":\"\", \"聯絡人\": \"\", \"聯絡電話\": \"\"}\n",
    "\n",
    "for row in soup.select('tr.award_table_tr_1'):\n",
    "    th = row.select('th')\n",
    "    if len(th) > 0 :\n",
    "        if th[0].text.encode('utf-8').strip() in dic:\n",
    "            print row.select('td')[0].text.strip()       "
   ]
  },
  {
   "cell_type": "code",
   "execution_count": 60,
   "metadata": {
    "collapsed": true
   },
   "outputs": [],
   "source": [
    "dic = {\"機關代碼\":\"\", \"機關名稱\":\"\", \"機關地址\":\"\", \"聯絡人\": \"\", \"聯絡電話\": \"\"}\n",
    "\n",
    "for row in soup.select('tr.award_table_tr_1'):\n",
    "    th = row.select('th')\n",
    "    if len(th) > 0 :\n",
    "        colname = th[0].text.encode('utf-8').strip() \n",
    "        if colname in dic:\n",
    "            value = row.select('td')[0].text.strip()  \n",
    "            dic[colname] = value"
   ]
  },
  {
   "cell_type": "code",
   "execution_count": 61,
   "metadata": {
    "collapsed": false
   },
   "outputs": [
    {
     "name": "stdout",
     "output_type": "stream",
     "text": [
      "{'\\xe8\\x81\\xaf\\xe7\\xb5\\xa1\\xe4\\xba\\xba': u'\\u8edf\\u9ad4\\u63a1\\u8cfc\\u8fa6\\u516c\\u5ba4', '\\xe6\\xa9\\x9f\\xe9\\x97\\x9c\\xe5\\x90\\x8d\\xe7\\xa8\\xb1': u'\\u7d93\\u6fdf\\u90e8\\u5de5\\u696d\\u5c40', '\\xe6\\xa9\\x9f\\xe9\\x97\\x9c\\xe4\\xbb\\xa3\\xe7\\xa2\\xbc': u'3.13.2', '\\xe8\\x81\\xaf\\xe7\\xb5\\xa1\\xe9\\x9b\\xbb\\xe8\\xa9\\xb1': u'(02)66072558', '\\xe6\\xa9\\x9f\\xe9\\x97\\x9c\\xe5\\x9c\\xb0\\xe5\\x9d\\x80': u'110\\u81fa\\u5317\\u5e02\\u4fe1\\u7fa9\\u5340\\u4fe1\\u7fa9\\u8def\\u8def\\u4e09\\u6bb541-3\\u865f'}\n"
     ]
    }
   ],
   "source": [
    "print dic"
   ]
  },
  {
   "cell_type": "code",
   "execution_count": 63,
   "metadata": {
    "collapsed": false
   },
   "outputs": [
    {
     "name": "stdout",
     "output_type": "stream",
     "text": [
      "聯絡人 軟體採購辦公室\n",
      "機關名稱 經濟部工業局\n",
      "機關代碼 3.13.2\n",
      "聯絡電話 (02)66072558\n",
      "機關地址 110臺北市信義區信義路路三段41-3號\n"
     ]
    }
   ],
   "source": [
    "for ele in dic:\n",
    "    print ele, dic[ele]"
   ]
  },
  {
   "cell_type": "code",
   "execution_count": null,
   "metadata": {
    "collapsed": true
   },
   "outputs": [],
   "source": []
  }
 ],
 "metadata": {
  "kernelspec": {
   "display_name": "Python 2",
   "language": "python",
   "name": "python2"
  },
  "language_info": {
   "codemirror_mode": {
    "name": "ipython",
    "version": 2
   },
   "file_extension": ".py",
   "mimetype": "text/x-python",
   "name": "python",
   "nbconvert_exporter": "python",
   "pygments_lexer": "ipython2",
   "version": "2.7.6"
  }
 },
 "nbformat": 4,
 "nbformat_minor": 0
}
