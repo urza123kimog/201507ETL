{
 "cells": [
  {
   "cell_type": "code",
   "execution_count": 91,
   "metadata": {
    "collapsed": false
   },
   "outputs": [],
   "source": [
    "f = open('gov/51603189_1040202.txt', 'r')\n",
    "response_text = f.read()\n",
    "f.close()"
   ]
  },
  {
   "cell_type": "code",
   "execution_count": 92,
   "metadata": {
    "collapsed": false
   },
   "outputs": [
    {
     "name": "stdout",
     "output_type": "stream",
     "text": [
      "3.13.2\n"
     ]
    }
   ],
   "source": [
    "from bs4 import BeautifulSoup as BS\n",
    "soup = BS(response_text)\n",
    "for row in soup.select('tr'):\n",
    "    th = row.select('th')\n",
    "    if len(th) > 0 :\n",
    "        if th[0].text.encode('utf-8').strip() == '機關代碼':\n",
    "            print row.select('td')[0].text.strip()\n",
    "        \n"
   ]
  },
  {
   "cell_type": "code",
   "execution_count": 93,
   "metadata": {
    "collapsed": false
   },
   "outputs": [
    {
     "name": "stdout",
     "output_type": "stream",
     "text": [
      "False\n",
      "機關代碼\n",
      "True\n",
      "機關代碼       \n",
      "     機關代碼\n"
     ]
    }
   ],
   "source": [
    "a = '     機關代碼       '\n",
    "\n",
    "print  a == '機關代碼'\n",
    "print  a.strip()\n",
    "print  a.strip() == '機關代碼'\n",
    "print a.lstrip()\n",
    "print a.rstrip()\n"
   ]
  },
  {
   "cell_type": "code",
   "execution_count": 94,
   "metadata": {
    "collapsed": false
   },
   "outputs": [
    {
     "name": "stdout",
     "output_type": "stream",
     "text": [
      " \t string test \t \n",
      "\n",
      "\r",
      " \t string test \t \n",
      "\n",
      "\r\n"
     ]
    }
   ],
   "source": [
    "s = \" \\t string test \\t \\n\\n\\r\" ' \\t string test \\t \\n\\n\\r'\n",
    "print s\n"
   ]
  },
  {
   "cell_type": "code",
   "execution_count": 95,
   "metadata": {
    "collapsed": false
   },
   "outputs": [
    {
     "name": "stdout",
     "output_type": "stream",
     "text": [
      "string test \t \n",
      "\n",
      "\r",
      " \t string test\n"
     ]
    }
   ],
   "source": [
    "print s.strip() \n"
   ]
  },
  {
   "cell_type": "code",
   "execution_count": 96,
   "metadata": {
    "collapsed": false
   },
   "outputs": [
    {
     "name": "stdout",
     "output_type": "stream",
     "text": [
      " \t string test \t \n",
      "\n",
      "\r",
      " \t string test\n"
     ]
    }
   ],
   "source": [
    "print s.rstrip() "
   ]
  },
  {
   "cell_type": "code",
   "execution_count": 97,
   "metadata": {
    "collapsed": false
   },
   "outputs": [
    {
     "name": "stdout",
     "output_type": "stream",
     "text": [
      "string test \t \n",
      "\n",
      "\r",
      " \t string test \t \n",
      "\n",
      "\r\n"
     ]
    }
   ],
   "source": [
    "print s.lstrip()"
   ]
  },
  {
   "cell_type": "code",
   "execution_count": 98,
   "metadata": {
    "collapsed": false
   },
   "outputs": [
    {
     "name": "stdout",
     "output_type": "stream",
     "text": [
      "3.13.2\n",
      "經濟部工業局\n"
     ]
    }
   ],
   "source": [
    "from bs4 import BeautifulSoup as BS\n",
    "soup = BS(response_text)\n",
    "for row in soup.select('tr.award_table_tr_1'):\n",
    "    th = row.select('th')\n",
    "    if len(th) > 0 :\n",
    "        if th[0].text.encode('utf-8').strip() == '機關代碼':\n",
    "            print row.select('td')[0].text.strip()\n",
    "        if th[0].text.encode('utf-8').strip() == '機關名稱':\n",
    "            print row.select('td')[0].text.strip()            \n",
    "        "
   ]
  },
  {
   "cell_type": "code",
   "execution_count": 99,
   "metadata": {
    "collapsed": false
   },
   "outputs": [
    {
     "name": "stdout",
     "output_type": "stream",
     "text": [
      "{'a': 100, 'c': 0.98, 'b': 'yes'}\n",
      "['a', 'c', 'b']\n",
      "[100, 0.98, 'yes']\n",
      "100\n",
      "100\n"
     ]
    }
   ],
   "source": [
    "#declare dictionary\n",
    "dic = {'a':100, 'b':\"yes\", 'c':0.98} \n",
    "print dic\n",
    "#get keys in dictionary\n",
    "print dic.keys()\n",
    "#get values in dictionary\n",
    "print dic.values() #get value of given key\n",
    "print dic['a']\n",
    "#get value of given key\n",
    "print dic.get('a')"
   ]
  },
  {
   "cell_type": "code",
   "execution_count": 100,
   "metadata": {
    "collapsed": false
   },
   "outputs": [
    {
     "ename": "KeyError",
     "evalue": "'d'",
     "output_type": "error",
     "traceback": [
      "\u001b[0;31m---------------------------------------------------------------------------\u001b[0m",
      "\u001b[0;31mKeyError\u001b[0m                                  Traceback (most recent call last)",
      "\u001b[0;32m<ipython-input-100-143205e8c65b>\u001b[0m in \u001b[0;36m<module>\u001b[0;34m()\u001b[0m\n\u001b[0;32m----> 1\u001b[0;31m \u001b[0;32mprint\u001b[0m \u001b[0mdic\u001b[0m\u001b[0;34m[\u001b[0m\u001b[0;34m'd'\u001b[0m\u001b[0;34m]\u001b[0m\u001b[0;34m\u001b[0m\u001b[0m\n\u001b[0m",
      "\u001b[0;31mKeyError\u001b[0m: 'd'"
     ]
    }
   ],
   "source": [
    "print dic['d']"
   ]
  },
  {
   "cell_type": "code",
   "execution_count": 101,
   "metadata": {
    "collapsed": false
   },
   "outputs": [
    {
     "name": "stdout",
     "output_type": "stream",
     "text": [
      "None\n"
     ]
    }
   ],
   "source": [
    "print dic.get('d')"
   ]
  },
  {
   "cell_type": "code",
   "execution_count": 102,
   "metadata": {
    "collapsed": false
   },
   "outputs": [
    {
     "name": "stdout",
     "output_type": "stream",
     "text": [
      "{'a': 100, 'c': 0.98, 'b': 'yes', 'd': 'new'}\n",
      "{'a': 100, 'c': 0.98, 'b': 'yes', 'e': 123, 'd': 'new', 'f': 999}\n",
      "a 100\n",
      "c 0.98\n",
      "b yes\n",
      "e 123\n",
      "d new\n",
      "f 999\n"
     ]
    }
   ],
   "source": [
    "#add entry into dictionary\n",
    "dic['d'] = 'new'\n",
    "print dic\n",
    "\n",
    "#add entry into dictionary\n",
    "dic.update({'e':123, 'f': 999})\n",
    "print dic\n",
    "\n",
    "# iter the dictionary\n",
    "for rec in dic:\n",
    "    print rec, dic[rec]"
   ]
  },
  {
   "cell_type": "code",
   "execution_count": 103,
   "metadata": {
    "collapsed": false
   },
   "outputs": [
    {
     "name": "stdout",
     "output_type": "stream",
     "text": [
      "True\n",
      "False\n"
     ]
    }
   ],
   "source": [
    "print 'f' in dic\n",
    "print 'g' in dic"
   ]
  },
  {
   "cell_type": "code",
   "execution_count": 104,
   "metadata": {
    "collapsed": false
   },
   "outputs": [
    {
     "name": "stdout",
     "output_type": "stream",
     "text": [
      "{'qoo': 123}\n",
      "123\n",
      "468\n"
     ]
    }
   ],
   "source": [
    "dic = {}\n",
    "dic['qoo'] = 123\n",
    "\n",
    "print dic\n",
    "print dic['qoo']\n",
    "print dic['qoo'] + 345"
   ]
  },
  {
   "cell_type": "code",
   "execution_count": 105,
   "metadata": {
    "collapsed": false
   },
   "outputs": [
    {
     "name": "stdout",
     "output_type": "stream",
     "text": [
      "3.13.2\n",
      "經濟部工業局\n",
      "110臺北市信義區信義路路三段41-3號\n",
      "軟體採購辦公室\n",
      "(02)66072558\n"
     ]
    }
   ],
   "source": [
    "dic = {\"機關代碼\":\"\", \"機關名稱\":\"\", \"機關地址\":\"\", \"聯絡人\": \"\", \"聯絡電話\": \"\"}\n",
    "\n",
    "for row in soup.select('tr.award_table_tr_1'):\n",
    "    th = row.select('th')\n",
    "    if len(th) > 0 :\n",
    "        if th[0].text.encode('utf-8').strip() in dic:\n",
    "            print row.select('td')[0].text.strip()       "
   ]
  },
  {
   "cell_type": "code",
   "execution_count": 106,
   "metadata": {
    "collapsed": true
   },
   "outputs": [],
   "source": [
    "dic = {\"機關代碼\":\"\", \"機關名稱\":\"\", \"機關地址\":\"\", \"聯絡人\": \"\", \"聯絡電話\": \"\"}\n",
    "\n",
    "for row in soup.select('tr.award_table_tr_1'):\n",
    "    th = row.select('th')\n",
    "    if len(th) > 0 :\n",
    "        colname = th[0].text.encode('utf-8').strip() \n",
    "        if colname in dic:\n",
    "            value = row.select('td')[0].text.strip()  \n",
    "            dic[colname] = value"
   ]
  },
  {
   "cell_type": "code",
   "execution_count": 107,
   "metadata": {
    "collapsed": false
   },
   "outputs": [
    {
     "name": "stdout",
     "output_type": "stream",
     "text": [
      "{'\\xe8\\x81\\xaf\\xe7\\xb5\\xa1\\xe4\\xba\\xba': u'\\u8edf\\u9ad4\\u63a1\\u8cfc\\u8fa6\\u516c\\u5ba4', '\\xe6\\xa9\\x9f\\xe9\\x97\\x9c\\xe5\\x90\\x8d\\xe7\\xa8\\xb1': u'\\u7d93\\u6fdf\\u90e8\\u5de5\\u696d\\u5c40', '\\xe6\\xa9\\x9f\\xe9\\x97\\x9c\\xe4\\xbb\\xa3\\xe7\\xa2\\xbc': u'3.13.2', '\\xe8\\x81\\xaf\\xe7\\xb5\\xa1\\xe9\\x9b\\xbb\\xe8\\xa9\\xb1': u'(02)66072558', '\\xe6\\xa9\\x9f\\xe9\\x97\\x9c\\xe5\\x9c\\xb0\\xe5\\x9d\\x80': u'110\\u81fa\\u5317\\u5e02\\u4fe1\\u7fa9\\u5340\\u4fe1\\u7fa9\\u8def\\u8def\\u4e09\\u6bb541-3\\u865f'}\n"
     ]
    }
   ],
   "source": [
    "print dic"
   ]
  },
  {
   "cell_type": "code",
   "execution_count": 108,
   "metadata": {
    "collapsed": false
   },
   "outputs": [
    {
     "name": "stdout",
     "output_type": "stream",
     "text": [
      "聯絡人 軟體採購辦公室\n",
      "機關名稱 經濟部工業局\n",
      "機關代碼 3.13.2\n",
      "聯絡電話 (02)66072558\n",
      "機關地址 110臺北市信義區信義路路三段41-3號\n"
     ]
    }
   ],
   "source": [
    "for ele in dic:\n",
    "    print ele, dic[ele]"
   ]
  },
  {
   "cell_type": "code",
   "execution_count": 109,
   "metadata": {
    "collapsed": false
   },
   "outputs": [],
   "source": [
    "dic = {\"標的分類\": \"\"}\n",
    "\n",
    "for row in soup.select('tr'):\n",
    "    th = row.select('th')\n",
    "    if len(th) > 0 :\n",
    "        colname = th[0].text.encode('utf-8').strip() \n",
    "        if colname in dic:\n",
    "            value = row.select('td')[0].text.strip()  \n",
    "            dic[colname] = value"
   ]
  },
  {
   "cell_type": "code",
   "execution_count": 110,
   "metadata": {
    "collapsed": false
   },
   "outputs": [
    {
     "name": "stdout",
     "output_type": "stream",
     "text": [
      "標的分類 <勞務類>    \r\n",
      "                            842\r\n",
      "                            軟體執行服務\n"
     ]
    }
   ],
   "source": [
    "for ele in dic:\n",
    "    print ele, dic[ele]"
   ]
  },
  {
   "cell_type": "code",
   "execution_count": 113,
   "metadata": {
    "collapsed": false
   },
   "outputs": [
    {
     "name": "stdout",
     "output_type": "stream",
     "text": [
      "\t\t string \n",
      "\t\n",
      "'\\t\\t string \\n\\t'\n"
     ]
    }
   ],
   "source": [
    "a = '\\t\\t string \\n\\t'\n",
    "print a\n",
    "print repr(a)"
   ]
  },
  {
   "cell_type": "code",
   "execution_count": 114,
   "metadata": {
    "collapsed": false
   },
   "outputs": [
    {
     "name": "stdout",
     "output_type": "stream",
     "text": [
      "標的分類 u'<\\u52de\\u52d9\\u985e>    \\r\\n                            842\\r\\n                            \\u8edf\\u9ad4\\u57f7\\u884c\\u670d\\u52d9'\n"
     ]
    }
   ],
   "source": [
    "for ele in dic:\n",
    "    print ele, repr(dic[ele])"
   ]
  },
  {
   "cell_type": "code",
   "execution_count": 119,
   "metadata": {
    "collapsed": false
   },
   "outputs": [
    {
     "name": "stdout",
     "output_type": "stream",
     "text": [
      "['123', '555', '111', '99']\n",
      "['123', '555,111,99']\n",
      "['123', '555', '111,99']\n",
      "['123', '555', '111', '99']\n"
     ]
    }
   ],
   "source": [
    "a = '123,555,111,99' \n",
    "print a.split(',') \n",
    "print a.split(',',1)\n",
    "print a.split(',',2)\n",
    "print a.split(',',3)"
   ]
  },
  {
   "cell_type": "code",
   "execution_count": 122,
   "metadata": {
    "collapsed": false
   },
   "outputs": [
    {
     "data": {
      "text/plain": [
       "'123@555@111@99'"
      ]
     },
     "execution_count": 122,
     "metadata": {},
     "output_type": "execute_result"
    }
   ],
   "source": [
    "''.join(a.split(','))\n",
    "'@'.join(a.split(','))"
   ]
  },
  {
   "cell_type": "code",
   "execution_count": 124,
   "metadata": {
    "collapsed": false
   },
   "outputs": [
    {
     "name": "stdout",
     "output_type": "stream",
     "text": [
      "標的分類 <勞務類> 842 軟體執行服務\n"
     ]
    }
   ],
   "source": [
    "for ele in dic:\n",
    "    print ele, ' '.join(dic[ele].split())"
   ]
  },
  {
   "cell_type": "code",
   "execution_count": 136,
   "metadata": {
    "collapsed": false
   },
   "outputs": [
    {
     "name": "stdout",
     "output_type": "stream",
     "text": [
      "2015-07-31\n",
      "2015-07-31 10:43:01 Jul\n",
      "2014-05-03 14:00:00\n",
      "2014-05-04 14:00:00\n",
      "2014-05-02 14:00:00\n",
      "453\n"
     ]
    }
   ],
   "source": [
    "from datetime import date,datetime, timedelta \n",
    "currenttime = datetime.now()\n",
    "print currenttime.strftime(\"%Y-%m-%d\")\n",
    "print currenttime.strftime(\"%Y-%m-%d %H:%M:%S %b\")\n",
    "\n",
    "\n",
    "a = '2014-05-03 14:00'\n",
    "print datetime.strptime(a, \"%Y-%m-%d %H:%M\")\n",
    "\n",
    "dt = datetime.strptime(a, \"%Y-%m-%d %H:%M\")\n",
    "print dt + timedelta(days =1 )\n",
    "print dt - timedelta(days =1 )\n",
    "\n",
    "\n",
    "print (currenttime - dt).days"
   ]
  },
  {
   "cell_type": "code",
   "execution_count": 139,
   "metadata": {
    "collapsed": false
   },
   "outputs": [
    {
     "name": "stdout",
     "output_type": "stream",
     "text": [
      "['102', '12', '10 10:30']\n",
      "102\n"
     ]
    }
   ],
   "source": [
    "response_date = '102/12/10 10:30' \n",
    "print response_date.split('/')\n",
    "getyear = response_date.split('/', 1)\n",
    "print getyear[0]"
   ]
  },
  {
   "cell_type": "code",
   "execution_count": 154,
   "metadata": {
    "collapsed": false
   },
   "outputs": [
    {
     "name": "stdout",
     "output_type": "stream",
     "text": [
      "2013\n",
      "2013-12-10 10:30:00\n",
      "2014-12-10 10:30:00\n"
     ]
    }
   ],
   "source": [
    "adyear = str(int(getyear[0]) + 1911)\n",
    "print adyear \n",
    "bctime =  adyear + '/' +getyear[1]\n",
    "\n",
    "dt = datetime.strptime(bctime, \"%Y/%m/%d %H:%M\")\n",
    "print dt\n",
    "print dt + timedelta(days  = 365)"
   ]
  },
  {
   "cell_type": "code",
   "execution_count": 163,
   "metadata": {
    "collapsed": false
   },
   "outputs": [
    {
     "name": "stdout",
     "output_type": "stream",
     "text": [
      "0912345678\n",
      "0912\n",
      "0912-345678\n",
      "09-12-345-678\n",
      "0912-345-678\n",
      "0912-345678\n",
      "0912345678\n"
     ]
    },
    {
     "ename": "AttributeError",
     "evalue": "'NoneType' object has no attribute 'group'",
     "output_type": "error",
     "traceback": [
      "\u001b[0;31m---------------------------------------------------------------------------\u001b[0m",
      "\u001b[0;31mAttributeError\u001b[0m                            Traceback (most recent call last)",
      "\u001b[0;32m<ipython-input-163-02e155631f9d>\u001b[0m in \u001b[0;36m<module>\u001b[0;34m()\u001b[0m\n\u001b[1;32m     34\u001b[0m \u001b[0;32mprint\u001b[0m \u001b[0mm2\u001b[0m\u001b[0;34m.\u001b[0m\u001b[0mgroup\u001b[0m\u001b[0;34m(\u001b[0m\u001b[0;36m1\u001b[0m\u001b[0;34m)\u001b[0m\u001b[0;34m\u001b[0m\u001b[0m\n\u001b[1;32m     35\u001b[0m \u001b[0;32mprint\u001b[0m \u001b[0mm3\u001b[0m\u001b[0;34m.\u001b[0m\u001b[0mgroup\u001b[0m\u001b[0;34m(\u001b[0m\u001b[0;36m1\u001b[0m\u001b[0;34m)\u001b[0m\u001b[0;34m\u001b[0m\u001b[0m\n\u001b[0;32m---> 36\u001b[0;31m \u001b[0;32mprint\u001b[0m \u001b[0mm4\u001b[0m\u001b[0;34m.\u001b[0m\u001b[0mgroup\u001b[0m\u001b[0;34m(\u001b[0m\u001b[0;36m1\u001b[0m\u001b[0;34m)\u001b[0m\u001b[0;34m\u001b[0m\u001b[0m\n\u001b[0m",
      "\u001b[0;31mAttributeError\u001b[0m: 'NoneType' object has no attribute 'group'"
     ]
    }
   ],
   "source": [
    "a = '0912345678'\n",
    "import re\n",
    "m = re.match('(\\d+)', a)\n",
    "if m:\n",
    "    print m.group(1)\n",
    "    \n",
    "a = '0912-345678'\n",
    "import re\n",
    "m = re.match('(\\d+)', a)\n",
    "print m.group(1)\n",
    "\n",
    "\n",
    "a = '0912-345678'\n",
    "import re\n",
    "m = re.match('([\\d-]+)', a)\n",
    "print m.group(1)\n",
    "\n",
    "\n",
    "a = '09-12-345-678'\n",
    "m = re.match('([\\d-]+)', a)\n",
    "print m.group(1)\n",
    "\n",
    "\n",
    "a = '0912-345-678'\n",
    "b = '0912-345678'\n",
    "c = '0912345678'\n",
    "d = '09123456781231928318391890239021830280183029830'\n",
    "\n",
    "m1 = re.match('(^\\d{4}-?\\d{3}-?\\d{3}$)', a)\n",
    "m2 = re.match('(^\\d{4}-?\\d{3}-?\\d{3}$)', b)\n",
    "m3 = re.match('(^\\d{4}-?\\d{3}-?\\d{3}$)', c)\n",
    "m4 = re.match('(^\\d{4}-?\\d{3}-?\\d{3}$)', d)\n",
    "print m1.group(1)\n",
    "print m2.group(1)\n",
    "print m3.group(1)\n",
    "print m4.group(1)"
   ]
  },
  {
   "cell_type": "code",
   "execution_count": 177,
   "metadata": {
    "collapsed": false
   },
   "outputs": [
    {
     "name": "stdout",
     "output_type": "stream",
     "text": [
      "this is my email: qoo123@oop.com.tw\n",
      "qoo123@oop.com.tw\n",
      "qoo123 oop.com.tw\n",
      "qoo123 oop.com.tw\n",
      "qoo123 oop.com.tw\n"
     ]
    }
   ],
   "source": [
    "a = 'this is my email: qoo123@oop.com.tw'\n",
    "m = re.match('(.+@.+)', a)\n",
    "print m.group(1)\n",
    "\n",
    "m = re.match('.*?([^ ]+@[^ ]+)', a)\n",
    "print m.group(1)\n",
    "\n",
    "m = re.match('.*?([^ ]+)@([^ ]+)', a)\n",
    "print m.group(1), m.group(2)\n",
    "\n",
    "m = re.match('.*?(?P<account>[^ ]+)@(?P<domain>[^ ]+)', a)\n",
    "print m.group('account'), m.group('domain')\n",
    "\n",
    "m = re.search('(?P<account>[^ ]+)@(?P<domain>[^ ]+)', a)\n",
    "print m.group('account'), m.group('domain')"
   ]
  },
  {
   "cell_type": "code",
   "execution_count": 180,
   "metadata": {
    "collapsed": false
   },
   "outputs": [],
   "source": [
    "import requests\n",
    "res = requests.get('http://24h.pchome.com.tw/prod/DRAA0C-A90067G2U')\n",
    "#print res.text\n"
   ]
  },
  {
   "cell_type": "code",
   "execution_count": 181,
   "metadata": {
    "collapsed": true
   },
   "outputs": [],
   "source": [
    "res = requests.get('http://ecapi.pchome.com.tw/ecshop/prodapi/v2/prod/DRAA0C-A90067G2U-000&fields=Seq,Id,Name,Nick,Store,PreOrdDate,SpeOrdDate,Price,Discount,Pic,Weight,ISBN,Qty,Bonus,isBig,isSpec,isCombine,isDiy,isRecyclable,isCarrier,isMedical,isBigCart,isSnapUp,isDescAndIntroSync,isFoodContents&_callback=jsonp_prod?_callback=jsonp_prod')"
   ]
  },
  {
   "cell_type": "code",
   "execution_count": 183,
   "metadata": {
    "collapsed": false
   },
   "outputs": [
    {
     "name": "stdout",
     "output_type": "stream",
     "text": [
      "2699\n"
     ]
    }
   ],
   "source": [
    "#print res.text\n",
    "\n",
    "import re\n",
    "m = re.search('Price\":{\"M\":\\d+,\"P\":(?P<price>\\d+)}', res.text)\n",
    "print m.group(1)"
   ]
  },
  {
   "cell_type": "code",
   "execution_count": 200,
   "metadata": {
    "collapsed": false
   },
   "outputs": [
    {
     "data": {
      "text/plain": [
       "2699"
      ]
     },
     "execution_count": 200,
     "metadata": {},
     "output_type": "execute_result"
    }
   ],
   "source": [
    "#print res.text\n",
    "import json\n",
    "m = re.search('jsonp_prod\\((.*)\\);}catch', res.text)\n",
    "jd = json.loads(m.group(1))\n",
    "jd['DRAA0C-A90067G2U-000']['Price']['P']"
   ]
  },
  {
   "cell_type": "code",
   "execution_count": 205,
   "metadata": {
    "collapsed": false
   },
   "outputs": [
    {
     "name": "stdout",
     "output_type": "stream",
     "text": [
      "352111\n",
      "352111\n"
     ]
    }
   ],
   "source": [
    "import re\n",
    "m = re.match( r\"([0-9,]+)元\", '352,111元') \n",
    "print ''.join(m.group(1).split(','))\n",
    "#print ''.join(m.group(1).split(','))"
   ]
  },
  {
   "cell_type": "code",
   "execution_count": 206,
   "metadata": {
    "collapsed": true
   },
   "outputs": [],
   "source": [
    "# -*- coding: utf-8 -*-\n",
    "from bs4 import BeautifulSoup\n",
    "from datetime import datetime\n",
    "import os, sys, re"
   ]
  },
  {
   "cell_type": "code",
   "execution_count": 236,
   "metadata": {
    "collapsed": false
   },
   "outputs": [],
   "source": [
    "def get_response_element (file_name): \n",
    "    f = open(file_name, 'r') \n",
    "    response_text = f.read()\n",
    "    f.close()\n",
    "    soup = BeautifulSoup(response_text)\n",
    "    tr = soup.select('tr')\n",
    "    ary = []\n",
    "    for ele in tr:\n",
    "        if ele.get('class') is not None and ele.get('class')[0] in ['award_table_tr_1', 'award_table_tr_2', 'award_table_tr_6']:\n",
    "            ary.append(ele)\n",
    "    return ary\n"
   ]
  },
  {
   "cell_type": "code",
   "execution_count": 240,
   "metadata": {
    "collapsed": true
   },
   "outputs": [],
   "source": [
    "def get_response_element (file_name): \n",
    "    f = open(file_name, 'r') \n",
    "    response_text = f.read()\n",
    "    f.close()\n",
    "    soup = BeautifulSoup(response_text)\n",
    "    tr = soup.select('tr')\n",
    "    ary = [ele for ele in tr if ele.get('class') is not None and \\\n",
    "           ele.get('class')[0] in ['award_table_tr_1', 'award_table_tr_2', 'award_table_tr_6']]\n",
    "    return ary"
   ]
  },
  {
   "cell_type": "code",
   "execution_count": 245,
   "metadata": {
    "collapsed": false
   },
   "outputs": [
    {
     "name": "stdout",
     "output_type": "stream",
     "text": [
      "2013-03-10 00:00:00\n"
     ]
    }
   ],
   "source": [
    "def date_conversion(element):\n",
    "    m = re.match(r\"(\\d+/\\d+/\\d+)\",element) \n",
    "    if m is not None:\n",
    "        t = m.group(1).split('/', 1) \n",
    "        if t[0] != '':\n",
    "            return datetime.strptime(str(int(t[0]) + 1911) + \"/\" + (''.join(t[1:]).split()[0] ), \"%Y/%m/%d\")\n",
    "    else:\n",
    "        return None\n",
    "    \n",
    "print date_conversion('102/03/10')"
   ]
  },
  {
   "cell_type": "code",
   "execution_count": 421,
   "metadata": {
    "collapsed": false
   },
   "outputs": [
    {
     "name": "stdout",
     "output_type": "stream",
     "text": [
      "123411\n"
     ]
    }
   ],
   "source": [
    "def money_conversion(element):\n",
    "    m = re.match(r\"([0-9,]+)\", \"\".join(element.split())) \n",
    "    return int(''.join(m.group(1).split(',')))\n",
    "\n",
    "print money_conversion('123,411元')"
   ]
  },
  {
   "cell_type": "code",
   "execution_count": 422,
   "metadata": {
    "collapsed": false
   },
   "outputs": [
    {
     "name": "stdout",
     "output_type": "stream",
     "text": [
      "adfdafddfdssf\n"
     ]
    }
   ],
   "source": [
    "def remove_space(element): \n",
    "    return \"\".join(element.split())\n",
    "\n",
    "\n",
    "print remove_space('            \\t \\t adfdafd        dfd s sf       \\t\\n')"
   ]
  },
  {
   "cell_type": "code",
   "execution_count": 423,
   "metadata": {
    "collapsed": false
   },
   "outputs": [
    {
     "name": "stdout",
     "output_type": "stream",
     "text": [
      "[<tr class=\"award_table_tr_1\" id=\"noneDisWord\">\n",
      "<td align=\"left\" class=\"T12\" colspan=\"4\">\n",
      "     註：\n",
      "     <font color=\"red\">\n",
      "<strong>\n",
      "       ◎\n",
      "      </strong>\n",
      "</font>\n",
      "     紅色字體表示此次更正公告與前次之差異，前次公告內容於滑鼠移至文字上方時自動顯示\n",
      "    </td>\n",
      "</tr>, <tr class=\"award_table_tr_1\">\n",
      "<td align=\"center\" bgcolor=\"#89C0C7\" class=\"style1\" rowspan=\"8\" valign=\"middle\" width=\"38\">\n",
      "<span class=\"newstop\">\n",
      "      機\n",
      "      <br/>\n",
      "      關\n",
      "      <br/>\n",
      "      資\n",
      "      <br/>\n",
      "      料\n",
      "     </span>\n",
      "</td>\n",
      "</tr>, <tr class=\"award_table_tr_1\">\n",
      "<th align=\"left\" bgcolor=\"#DAEBED\" class=\"T11b\" valign=\"middle\" width=\"200\">\n",
      "     機關代碼\n",
      "    </th>\n",
      "<td bgcolor=\"#EFF1F1\" class=\"newstop\" height=\"25\">\n",
      "     3.13.2\n",
      "    </td>\n",
      "</tr>, <tr class=\"award_table_tr_1\">\n",
      "<th align=\"left\" bgcolor=\"#DAEBED\" class=\"T11b\" valign=\"middle\" width=\"200\">\n",
      "     機關名稱\n",
      "    </th>\n",
      "<td bgcolor=\"#EFF1F1\" class=\"newstop\" height=\"25\">\n",
      "     經濟部工業局\n",
      "    </td>\n",
      "</tr>, <tr class=\"award_table_tr_1\">\n",
      "<th align=\"left\" bgcolor=\"#DAEBED\" class=\"T11b\" valign=\"middle\" width=\"200\">\n",
      "     單位名稱\n",
      "    </th>\n",
      "<td bgcolor=\"#EFF1F1\" class=\"newstop\" height=\"25\">\n",
      "     電子資訊組\n",
      "    </td>\n",
      "</tr>, <tr class=\"award_table_tr_1\">\n",
      "<th align=\"left\" bgcolor=\"#DAEBED\" class=\"T11b\" valign=\"middle\" width=\"200\">\n",
      "     機關地址\n",
      "    </th>\n",
      "<td bgcolor=\"#EFF1F1\" class=\"newstop\" height=\"25\">\n",
      "     110臺北市信義區信義路路三段41-3號\n",
      "    </td>\n",
      "</tr>, <tr class=\"award_table_tr_1\">\n",
      "<th align=\"left\" bgcolor=\"#DAEBED\" class=\"T11b\" valign=\"middle\" width=\"200\">\n",
      "     聯絡人\n",
      "    </th>\n",
      "<td bgcolor=\"#EFF1F1\" class=\"newstop\" height=\"25\">\n",
      "     軟體採購辦公室\n",
      "    </td>\n",
      "</tr>, <tr class=\"award_table_tr_1\">\n",
      "<th align=\"left\" bgcolor=\"#DAEBED\" class=\"T11b\" valign=\"middle\" width=\"200\">\n",
      "     聯絡電話\n",
      "    </th>\n",
      "<td bgcolor=\"#EFF1F1\" class=\"newstop\" height=\"25\">\n",
      "     (02)66072558\n",
      "    </td>\n",
      "</tr>, <tr class=\"award_table_tr_1\">\n",
      "<th align=\"left\" bgcolor=\"#DAEBED\" class=\"T11b\" style=\"height: 25px\" valign=\"middle\" width=\"200\">\n",
      "     傳真號碼\n",
      "    </th>\n",
      "<td bgcolor=\"#EFF1F1\" class=\"newstop\" height=\"25\">\n",
      "     (02)66006717\n",
      "    </td>\n",
      "</tr>, <tr class=\"award_table_tr_2\">\n",
      "<td align=\"center\" bgcolor=\"#FCD847\" class=\"form_head\" rowspan=\"30 \" valign=\"middle\" width=\"38\">\n",
      "<span class=\"newstop\">\n",
      "      已\n",
      "      <br/>\n",
      "      公\n",
      "      <br/>\n",
      "      告\n",
      "      <br/>\n",
      "      資\n",
      "      <br/>\n",
      "      料\n",
      "     </span>\n",
      "</td>\n",
      "</tr>, <tr class=\"award_table_tr_2\">\n",
      "<th align=\"left\" bgcolor=\"#FFFF99\" class=\"T11b\" valign=\"middle\" width=\"200\">\n",
      "     標案案號\n",
      "    </th>\n",
      "<td bgcolor=\"#EFF1F1\" class=\"newstop\">\n",
      "     1040202\n",
      "    </td>\n",
      "</tr>, <tr class=\"award_table_tr_2\">\n",
      "<th align=\"left\" bgcolor=\"#FFFF99\" class=\"T11b\" valign=\"middle\" width=\"200\">\n",
      "     招標方式\n",
      "    </th>\n",
      "<td bgcolor=\"#EFF1F1\" class=\"newstop\">\n",
      "     限制性招標(經公開評選或公開徵求)\n",
      "     <div class=\"remind_msg\">\n",
      "</div>\n",
      "</td>\n",
      "</tr>, <tr class=\"award_table_tr_2\">\n",
      "<th align=\"left\" bgcolor=\"#FFFF99\" class=\"T11b\" valign=\"middle\" width=\"200\">\n",
      "     決標方式\n",
      "    </th>\n",
      "<td bgcolor=\"#EFF1F1\" class=\"newstop\">\n",
      "     準用最有利標\n",
      "     <div class=\"remind_msg\">\n",
      "</div>\n",
      "</td>\n",
      "</tr>, <tr class=\"award_table_tr_2\">\n",
      "<th align=\"left\" bgcolor=\"#FFFF99\" class=\"T11b\" valign=\"middle\" width=\"200\">\n",
      "     新增公告傳輸次數\n",
      "    </th>\n",
      "<td bgcolor=\"#EFF1F1\" class=\"newstop\">\n",
      "     01\n",
      "    </td>\n",
      "</tr>, <tr class=\"award_table_tr_2\">\n",
      "<th bgcolor=\"#FFFF99\" class=\"T11b\" width=\"200\">\n",
      "     公告更正序號\n",
      "    </th>\n",
      "<td bgcolor=\"#EFF1F1\" class=\"newstop\">\n",
      "     01\n",
      "    </td>\n",
      "</tr>, <tr class=\"award_table_tr_2\">\n",
      "<th align=\"left\" bgcolor=\"#FFFF99\" class=\"T11b\" valign=\"middle\" width=\"200\">\n",
      "     是否依據採購法第106條第1項第1款辦理\n",
      "    </th>\n",
      "<td bgcolor=\"#EFF1F1\" class=\"newstop\">\n",
      "     否\n",
      "    </td>\n",
      "</tr>, <tr class=\"award_table_tr_2\">\n",
      "<th align=\"left\" bgcolor=\"#FFFF99\" class=\"T11b\" valign=\"middle\" width=\"200\">\n",
      "     標案名稱\n",
      "    </th>\n",
      "<td bgcolor=\"#EFF1F1\" class=\"newstop\">\n",
      "     104年第二次電腦軟體共同供應契約採購－雲端服務\n",
      "    </td>\n",
      "</tr>, <tr class=\"award_table_tr_2\">\n",
      "<th align=\"left\" bgcolor=\"#FFFF99\" class=\"T11b\" valign=\"middle\" width=\"200\">\n",
      "     決標資料類別\n",
      "    </th>\n",
      "<td bgcolor=\"#EFF1F1\" class=\"newstop\">\n",
      "     決標公告\n",
      "    </td>\n",
      "</tr>, <tr class=\"award_table_tr_2\">\n",
      "<th align=\"left\" bgcolor=\"#FFFF99\" class=\"T11b\" valign=\"middle\" width=\"200\">\n",
      "     是否屬共同供應契約採購\n",
      "    </th>\n",
      "<td bgcolor=\"#EFF1F1\" class=\"newstop\">\n",
      "     是\n",
      "    </td>\n",
      "</tr>, <tr class=\"award_table_tr_2\">\n",
      "<th align=\"left\" bgcolor=\"#FFFF99\" class=\"T11b\" valign=\"middle\" width=\"200\">\n",
      "     是否屬二以上機關之聯合採購(不適用共同供應契約規定)\n",
      "    </th>\n",
      "<td bgcolor=\"#EFF1F1\" class=\"newstop\">\n",
      "     否\n",
      "    </td>\n",
      "</tr>, <tr class=\"award_table_tr_2\">\n",
      "<th align=\"left\" bgcolor=\"#FFFF99\" class=\"T11b\" valign=\"middle\" width=\"200\">\n",
      "     是否複數決標\n",
      "    </th>\n",
      "<td bgcolor=\"#EFF1F1\" class=\"newstop\">\n",
      "     是\n",
      "    </td>\n",
      "</tr>, <tr class=\"award_table_tr_2\">\n",
      "<th align=\"left\" bgcolor=\"#FFFF99\" class=\"T11b\" valign=\"middle\" width=\"200\">\n",
      "     標的分類\n",
      "    </th>\n",
      "<td bgcolor=\"#EFF1F1\" class=\"newstop\">\n",
      "     &lt;勞務類&gt;    \r\n",
      "                            842\r\n",
      "                            軟體執行服務\n",
      "    </td>\n",
      "</tr>, <tr class=\"award_table_tr_2\">\n",
      "<th align=\"left\" bgcolor=\"#FFFF99\" class=\"T11b\" valign=\"middle\" width=\"200\">\n",
      "     是否屬統包\n",
      "    </th>\n",
      "<td bgcolor=\"#EFF1F1\" class=\"newstop\">\n",
      "     否\n",
      "    </td>\n",
      "</tr>, <tr class=\"award_table_tr_2\">\n",
      "<th align=\"left\" bgcolor=\"#FFFF99\" class=\"T11b\" valign=\"middle\" width=\"200\">\n",
      "     是否應依公共工程專業技師簽證規則實施技師簽證\n",
      "    </th>\n",
      "<td bgcolor=\"#EFF1F1\" class=\"newstop\">\n",
      "     否\n",
      "    </td>\n",
      "</tr>, <tr class=\"award_table_tr_2\">\n",
      "<th align=\"left\" bgcolor=\"#FFFF99\" class=\"T11b\" valign=\"middle\" width=\"200\">\n",
      "     開標時間\n",
      "    </th>\n",
      "<td bgcolor=\"#EFF1F1\" class=\"newstop\">\n",
      "     104/05/19 09:30\n",
      "    </td>\n",
      "</tr>, <tr class=\"award_table_tr_2\">\n",
      "<th align=\"left\" bgcolor=\"#FFFF99\" class=\"T11b\" valign=\"middle\" width=\"200\">\n",
      "     原公告日期\n",
      "    </th>\n",
      "<td bgcolor=\"#EFF1F1\" class=\"newstop\">\n",
      "     104/04/27\n",
      "    </td>\n",
      "</tr>, <tr class=\"award_table_tr_2\">\n",
      "<th align=\"left\" bgcolor=\"#FFFF99\" class=\"T11b\" valign=\"middle\" width=\"200\">\n",
      "     採購金額級距\n",
      "    </th>\n",
      "<td bgcolor=\"#EFF1F1\" class=\"newstop\">\n",
      "     巨額\n",
      "     <div class=\"remind_msg\">\n",
      "</div>\n",
      "</td>\n",
      "</tr>, <tr class=\"award_table_tr_2\">\n",
      "<th align=\"left\" bgcolor=\"#FFFF99\" class=\"T11b\" valign=\"middle\" width=\"200\">\n",
      "     辦理方式\n",
      "    </th>\n",
      "<td bgcolor=\"#EFF1F1\" class=\"newstop\">\n",
      "     自辦\n",
      "    </td>\n",
      "</tr>, <tr class=\"award_table_tr_2\">\n",
      "<th align=\"left\" bgcolor=\"#FFFF99\" class=\"T11b\" valign=\"middle\" width=\"200\">\n",
      "     限制性招標\n",
      "     <br>\n",
      "      依據之法條\n",
      "     </br>\n",
      "</th>\n",
      "<td bgcolor=\"#EFF1F1\" class=\"newstop\">\n",
      "     採購法第22條第1項第9款\n",
      "    </td>\n",
      "</tr>, <tr class=\"award_table_tr_2\">\n",
      "<th align=\"left\" bgcolor=\"#FFFF99\" class=\"T11b\" valign=\"middle\" width=\"200\">\n",
      "     是否適用條約或\n",
      "     <br>\n",
      "      協定之採購\n",
      "     </br>\n",
      "</th>\n",
      "<td bgcolor=\"#EFF1F1\" class=\"newstop\">\n",
      "<style type=\"text/css\">\n",
      "      .gpa_shift {\r\n",
      "\t\tmargin-left: 30px;\r\n",
      "\t}\r\n",
      "\t.gpa_shift2 {\r\n",
      "\t\tmargin-left: 60px;\r\n",
      "\t}\r\n",
      "\t.gpa_error_msg {\r\n",
      "\t\tcolor:#FF0000;\r\n",
      "\t\tfont-size:10pt;\r\n",
      "\t}\n",
      "     </style>\n",
      "<strong>\n",
      "      是否適用WTO政府採購協定(GPA)：\n",
      "     </strong>\n",
      "     是\n",
      "     <hr>\n",
      "<strong>\n",
      "       是否適用臺紐經濟合作協定(ANZTEC)：\n",
      "      </strong>\n",
      "      是\n",
      "      <hr>\n",
      "<strong>\n",
      "        是否適用臺星經濟夥伴協定(ASTEP)：\n",
      "       </strong>\n",
      "       是\n",
      "      </hr>\n",
      "</hr>\n",
      "</td>\n",
      "</tr>, <tr class=\"award_table_tr_2\">\n",
      "<th align=\"left\" bgcolor=\"#FFFF99\" class=\"T11b\" valign=\"middle\" width=\"200\">\n",
      "     預算金額是否公開\n",
      "    </th>\n",
      "<td bgcolor=\"#EFF1F1\" class=\"newstop\">\n",
      "     是\n",
      "    </td>\n",
      "</tr>, <tr class=\"award_table_tr_2\">\n",
      "<th align=\"left\" bgcolor=\"#FFFF99\" class=\"T11b\" valign=\"middle\" width=\"200\">\n",
      "     預算金額\n",
      "    </th>\n",
      "<td bgcolor=\"#EFF1F1\" class=\"newstop\">\n",
      "     1,663,050,791元\n",
      "    </td>\n",
      "</tr>, <tr class=\"award_table_tr_2\">\n",
      "<th align=\"left\" bgcolor=\"#FFFF99\" class=\"T11b\" valign=\"middle\" width=\"200\">\n",
      "     是否受機關補助\n",
      "    </th>\n",
      "<td bgcolor=\"#EFF1F1\" class=\"newstop\">\n",
      "     否\n",
      "    </td>\n",
      "</tr>, <tr class=\"award_table_tr_2\">\n",
      "<th align=\"left\" bgcolor=\"#FFFF99\" class=\"T11b\" valign=\"middle\" width=\"200\">\n",
      "     履約地點\n",
      "    </th>\n",
      "<td bgcolor=\"#EFF1F1\" class=\"newstop\">\n",
      "     其他\n",
      "    </td>\n",
      "</tr>, <tr class=\"award_table_tr_2\">\n",
      "<th align=\"left\" bgcolor=\"#FFFF99\" class=\"T11b\" valign=\"middle\" width=\"200\">\n",
      "     履約地點（含地區）\n",
      "    </th>\n",
      "<td bgcolor=\"#EFF1F1\" class=\"newstop\">\n",
      "     臺北市－全區,基隆市－全區,新北市－全區,宜蘭縣－全區,新竹市,新竹縣－全區,桃園市－全區,苗栗縣－全區,臺中市－全區,彰化縣－全區,南投縣－全區,嘉義市,嘉義縣－全區,雲林縣－全區,臺南市－全區,高雄市－全區,屏東縣－全區,臺東縣－全區,花蓮縣－全區,金門縣－全區,澎湖縣－全區,連江縣－全區,其他－其他\n",
      "    </td>\n",
      "</tr>, <tr class=\"award_table_tr_2\">\n",
      "<th align=\"left\" bgcolor=\"#FFFF99\" class=\"T11b\" valign=\"middle\" width=\"200\">\n",
      "     是否屬優先採購身心障礙福利機構產品或勞務\n",
      "    </th>\n",
      "<td bgcolor=\"#EFF1F1\" class=\"newstop\">\n",
      "     否\n",
      "    </td>\n",
      "</tr>, <tr class=\"award_table_tr_2\">\n",
      "<th align=\"left\" bgcolor=\"#FFFF99\" class=\"T11b\" valign=\"middle\" width=\"200\">\n",
      "     是否含特別預算\n",
      "    </th>\n",
      "<td bgcolor=\"#EFF1F1\" class=\"newstop\">\n",
      "     否\n",
      "    </td>\n",
      "</tr>, <tr class=\"award_table_tr_2\">\n",
      "<th align=\"left\" bgcolor=\"#FFFF99\" class=\"T11b\" valign=\"middle\" width=\"200\">\n",
      "     歸屬計畫類別\n",
      "    </th>\n",
      "<td bgcolor=\"#EFF1F1\" class=\"newstop\">\n",
      "     非屬愛台十二項計畫\n",
      "    </td>\n",
      "</tr>, <tr class=\"award_table_tr_2\">\n",
      "<th align=\"left\" bgcolor=\"#FFFF99\" class=\"T11b\" valign=\"middle\" width=\"200\">\n",
      "     本案採購契約是否採用主管機關訂定之範本\n",
      "    </th>\n",
      "<td bgcolor=\"#EFF1F1\" class=\"newstop\">\n",
      "     是\n",
      "    </td>\n",
      "</tr>, <tr class=\"award_table_tr_6\">\n",
      "<td align=\"center\" bgcolor=\"#c79961\" class=\"form_head\" rowspan=\"16\" valign=\"middle\" width=\"38\">\n",
      "<span class=\"newstop\">\n",
      "        決\n",
      "        <br/>\n",
      "        標\n",
      "        <br/>\n",
      "        資\n",
      "        <br/>\n",
      "        料\n",
      "       </span>\n",
      "</td>\n",
      "</tr>, <tr class=\"award_table_tr_6\">\n",
      "<th bgcolor=\"#ddc09e\" class=\"T11b\" width=\"200\">\n",
      "       決標公告序號\n",
      "      </th>\n",
      "<td bgcolor=\"#EFF1F1\" class=\"newstop\">\n",
      "       001\n",
      "      </td>\n",
      "</tr>, <tr class=\"award_table_tr_6\">\n",
      "<th bgcolor=\"#ddc09e\" class=\"T11b\" width=\"200\">\n",
      "       公告更正序號\n",
      "      </th>\n",
      "<td bgcolor=\"#EFF1F1\" class=\"newstop\">\n",
      "<span style=\"color:red;font-weight:bold\" title=\"前次公告為：000\">\n",
      "        001\n",
      "       </span>\n",
      "</td>\n",
      "</tr>, <tr class=\"award_table_tr_6\">\n",
      "<th bgcolor=\"#ddc09e\" class=\"T11b\" width=\"200\">\n",
      "       決標日期\n",
      "      </th>\n",
      "<td bgcolor=\"#EFF1F1\" class=\"newstop\">\n",
      "       104/07/15\n",
      "      </td>\n",
      "</tr>, <tr class=\"award_table_tr_6\">\n",
      "<th bgcolor=\"#ddc09e\" class=\"T11b\" width=\"200\">\n",
      "       原決標公告日期\n",
      "      </th>\n",
      "<td bgcolor=\"#EFF1F1\" class=\"newstop\">\n",
      "       104/07/24\n",
      "      </td>\n",
      "</tr>, <tr class=\"award_table_tr_6\">\n",
      "<th bgcolor=\"#ddc09e\" class=\"T11b\" width=\"200\">\n",
      "       決標公告日期\n",
      "      </th>\n",
      "<td bgcolor=\"#EFF1F1\" class=\"newstop\">\n",
      "<span style=\"color:red;font-weight:bold\" title=\"前次公告為：104/07/24\">\n",
      "        104/07/28\n",
      "       </span>\n",
      "</td>\n",
      "</tr>, <tr class=\"award_table_tr_6\">\n",
      "<th bgcolor=\"#ddc09e\" class=\"T11b\" width=\"200\">\n",
      "       執行現況\n",
      "      </th>\n",
      "<td bgcolor=\"#EFF1F1\" class=\"newstop\">\n",
      "       全案已決標\n",
      "      </td>\n",
      "</tr>, <tr class=\"award_table_tr_6\">\n",
      "<th bgcolor=\"#ddc09e\" class=\"T11b\" width=\"200\">\n",
      "       是否刊登公報\n",
      "      </th>\n",
      "<td bgcolor=\"#EFF1F1\" class=\"newstop\">\n",
      "       是\n",
      "      </td>\n",
      "</tr>, <tr class=\"award_table_tr_6\">\n",
      "<th bgcolor=\"#ddc09e\" class=\"T11b\" width=\"200\">\n",
      "       底價金額\n",
      "      </th>\n",
      "<td bgcolor=\"#EFF1F1\" class=\"newstop\">\n",
      "       16,710,433元\n",
      "      </td>\n",
      "</tr>, <tr class=\"award_table_tr_6\">\n",
      "<th bgcolor=\"#ddc09e\" class=\"T11b\" width=\"200\">\n",
      "       底價金額是否公開\n",
      "      </th>\n",
      "<td bgcolor=\"#EFF1F1\" class=\"newstop\">\n",
      "       是\n",
      "      </td>\n",
      "</tr>, <tr class=\"award_table_tr_6\">\n",
      "<th bgcolor=\"#ddc09e\" class=\"T11b\" width=\"200\">\n",
      "       總決標金額\n",
      "      </th>\n",
      "<td bgcolor=\"#EFF1F1\" class=\"newstop\">\n",
      "       16,584,937元\n",
      "      </td>\n",
      "</tr>, <tr class=\"award_table_tr_6\">\n",
      "<th bgcolor=\"#ddc09e\" class=\"T11b\" width=\"200\">\n",
      "       總決標金額是否公開\n",
      "      </th>\n",
      "<td bgcolor=\"#EFF1F1\" class=\"newstop\">\n",
      "       是\n",
      "      </td>\n",
      "</tr>, <tr class=\"award_table_tr_6\">\n",
      "<th bgcolor=\"#ddc09e\" class=\"T11b\" width=\"200\">\n",
      "       契約是否訂有依物價指數調整價金規定\n",
      "      </th>\n",
      "<td bgcolor=\"#EFF1F1\" class=\"newstop\">\n",
      "       否\n",
      "      </td>\n",
      "</tr>, <tr class=\"award_table_tr_6\">\n",
      "<th bgcolor=\"#ddc09e\" class=\"T11b\" width=\"200\">\n",
      "       未列物價調整規定說明\n",
      "      </th>\n",
      "<td bgcolor=\"#EFF1F1\" class=\"newstop\">\n",
      "       勞務案\n",
      "      </td>\n",
      "</tr>, <tr class=\"award_table_tr_6\">\n",
      "<th bgcolor=\"#ddc09e\" class=\"T11b\" width=\"200\">\n",
      "       履約執行機關\n",
      "      </th>\n",
      "<td bgcolor=\"#EFF1F1\" class=\"newstop\">\n",
      "       機關代碼：3.13.2\n",
      "       <br>\n",
      "        機關名稱：經濟部工業局\n",
      "       </br>\n",
      "</td>\n",
      "</tr>, <tr class=\"award_table_tr_6\">\n",
      "<th bgcolor=\"#ddc09e\" class=\"T11b\" width=\"200\">\n",
      "       附加說明\n",
      "      </th>\n",
      "<td bgcolor=\"#EFF1F1\" class=\"newstop\">\n",
      "</td>\n",
      "</tr>]\n"
     ]
    }
   ],
   "source": [
    "print get_response_element('gov/51603189_1040202.txt')"
   ]
  },
  {
   "cell_type": "code",
   "execution_count": 424,
   "metadata": {
    "collapsed": false
   },
   "outputs": [
    {
     "name": "stdout",
     "output_type": "stream",
     "text": [
      "我\n",
      "喜歡吃\n",
      "apple\n",
      "adfadfdsdfsfdsdfdfd\n",
      "adfadfsdfsdfsdfd\n"
     ]
    }
   ],
   "source": [
    "name_map = {'蘋果': 'apple'}\n",
    "\n",
    "a = '我 喜歡吃 蘋果'\n",
    "for ele in a.split():\n",
    "    if ele in name_map:\n",
    "        print name_map[ele]\n",
    "    else:\n",
    "        print ele\n",
    "\n",
    "def remove_space(element): \n",
    "    return \"\".join(element.split())\n",
    "\n",
    "name_map = {'upper': remove_space}\n",
    "\n",
    "print remove_space('adfadfd     sdf sfd    sdf dfd ')\n",
    "\n",
    "print name_map['upper']('adfadf     sdf sdf      sdf d')\n",
    "\n"
   ]
  },
  {
   "cell_type": "code",
   "execution_count": 425,
   "metadata": {
    "collapsed": false
   },
   "outputs": [],
   "source": [
    "name_map = {\"機關代碼\":\"entity_code\", \"機關名稱\":\"procuring_entity\",\"標案案號\":\"job_number\",\"招標方式\":\"procurement_type\",\\\n",
    "            \"決標方式\":\"tender_awarding_type\",\"標案名稱\":\"subject_of_procurement\", \"決標資料類別\":\"attr_of_tender_awarding\", \\\n",
    "            \"標的分類\":\"attr_of_procurement\", \"預算金額\":\"budget_value\", \"開標時間\":\"opening_date\",\"決標公告日期\":\"tender_awarding_announce_date\",\\\n",
    "            \"歸屬計畫類別\":\"project_type\",\"總決標金額\":\"total_tender_awarding_value\",\"底價金額\":\"floor_price_value\",\"決標日期\":\"tender_awarding_date\", \"pkAtmMain\":\"pkAtmMain\"}\n",
    "\n",
    "\n",
    "tender_awards_map = {\"機關代碼\":remove_space, \"機關名稱\":remove_space, \"標案案號\":remove_space, \\\n",
    "                       \"招標方式\":remove_space,\"決標方式\":remove_space,\"標案名稱\":remove_space, \"決標資料類別\":remove_space, \\\n",
    "                       \"標的分類\":remove_space, \"預算金額\":money_conversion, \"開標時間\":date_conversion,\"歸屬計畫類別\":remove_space, \\\n",
    "                       \"總決標金額\":money_conversion,\"底價金額\":money_conversion,\"決標日期\":date_conversion, \"決標公告日期\":date_conversion}"
   ]
  },
  {
   "cell_type": "code",
   "execution_count": 427,
   "metadata": {
    "collapsed": false
   },
   "outputs": [],
   "source": [
    "def get_award_info_dic (element): \n",
    "    returned_dic = {}\n",
    "    for row in element:\n",
    "        th = row.select('th')\n",
    "        #print th\n",
    "        if len(th) > 0:\n",
    "            th_name = th[0].text.encode('utf-8').strip()\n",
    "            if th_name in name_map:\n",
    "                td = row.select('td')\n",
    "                returned_dic[name_map[th_name]] = tender_awards_map[th_name](td[0].text.strip())\n",
    "    return returned_dic"
   ]
  },
  {
   "cell_type": "code",
   "execution_count": 428,
   "metadata": {
    "collapsed": false
   },
   "outputs": [
    {
     "name": "stdout",
     "output_type": "stream",
     "text": [
      "opening_date 2015-05-19 00:00:00\n",
      "total_tender_awarding_value 16584937\n",
      "tender_awarding_date 2015-07-15 00:00:00\n",
      "entity_code 3.13.2\n",
      "procurement_type 限制性招標(經公開評選或公開徵求)\n",
      "procuring_entity 經濟部工業局\n",
      "attr_of_procurement <勞務類>842軟體執行服務\n",
      "tender_awarding_announce_date 2015-07-28 00:00:00\n",
      "subject_of_procurement 104年第二次電腦軟體共同供應契約採購－雲端服務\n",
      "project_type 非屬愛台十二項計畫\n",
      "attr_of_tender_awarding 決標公告\n",
      "budget_value 1663050791\n",
      "floor_price_value 16710433\n",
      "job_number 1040202\n",
      "tender_awarding_type 準用最有利標\n"
     ]
    }
   ],
   "source": [
    "res =  get_response_element('gov/51603189_1040202.txt')\n",
    "award = get_award_info_dic(res)\n",
    "for ele in award:\n",
    "    print ele,award[ele] \n"
   ]
  },
  {
   "cell_type": "code",
   "execution_count": 365,
   "metadata": {
    "collapsed": false
   },
   "outputs": [
    {
     "name": "stdout",
     "output_type": "stream",
     "text": [
      "SQLite version: 3.8.5\n"
     ]
    }
   ],
   "source": [
    "import sqlite3 as lite \n",
    "import sys\n",
    "con = None\n",
    "try:\n",
    "    con = lite.connect('test.db') # connect to database\n",
    "    cur = con.cursor() # create cursor\n",
    "    cur.execute('SELECT SQLITE_VERSION()') # select database version \n",
    "    data = cur.fetchone() # fetch one data at a time\n",
    "    print \"SQLite version: %s\" % data\n",
    "except lite.Error, e:\n",
    "    print \"Error %s:\" % e.args[0] \n",
    "    sys.exit(1)\n",
    "finally:\n",
    "    if con:\n",
    "        con.close()"
   ]
  },
  {
   "cell_type": "code",
   "execution_count": 370,
   "metadata": {
    "collapsed": false
   },
   "outputs": [
    {
     "name": "stdout",
     "output_type": "stream",
     "text": [
      "[(u'0912173381', u'United State'), (u'0928375018', u'Tokyo Japan'), (u'0957209108', u'Taipei')]\n",
      "0912173381 United State\n",
      "0928375018 Tokyo Japan\n",
      "0957209108 Taipei\n"
     ]
    }
   ],
   "source": [
    "import sqlite3 as lite\n",
    "import sys\n",
    "con = lite.connect(\"test.db\")\n",
    "with con:\n",
    "    cur = con.cursor() # Drop Table If Exisits\n",
    "    cur.execute(\"DROP TABLE IF EXISTS PhoneAddress\")\n",
    "    cur.execute(\"CREATE TABLE PhoneAddress(phone CHAR(10) PRIMARY KEY, address TEXT, name TEXT unique, age INT NOT NULL)\")\n",
    "    cur.execute(\"INSERT INTO PhoneAddress VALUES('0912173381','United State','Jhon Doe',53)\") \n",
    "    cur.execute(\"INSERT INTO PhoneAddress VALUES('0928375018','Tokyo Japan','MuMu Cat',6)\") \n",
    "    cur.execute(\"INSERT INTO PhoneAddress VALUES('0957209108','Taipei','Richard',29)\") \n",
    "    cur.execute(\"SELECT phone,address FROM PhoneAddress\")\n",
    "    data = cur.fetchall()\n",
    "    print data\n",
    "    for rec in data:\n",
    "        print rec[0], rec[1] \n",
    "con.close()"
   ]
  },
  {
   "cell_type": "code",
   "execution_count": 372,
   "metadata": {
    "collapsed": false
   },
   "outputs": [
    {
     "name": "stdout",
     "output_type": "stream",
     "text": [
      "(0, u'phone', u'CHAR(10)', 0, None, 1)\n",
      "(1, u'address', u'TEXT', 0, None, 0)\n",
      "(2, u'name', u'TEXT', 0, None, 0)\n",
      "(3, u'age', u'INT', 1, None, 0)\n"
     ]
    }
   ],
   "source": [
    "\n",
    "import sqlite3 as lite\n",
    "import sys\n",
    "con = lite.connect(\"test.db\") \n",
    "with con:\n",
    "    cur = con.cursor()\n",
    "    # Read Meta Information\n",
    "    cur.execute(\"PRAGMA table_info(PhoneAddress)\") \n",
    "    rows = cur.fetchall()\n",
    "    for row in rows:\n",
    "        print row\n",
    "con.close()"
   ]
  },
  {
   "cell_type": "code",
   "execution_count": 376,
   "metadata": {
    "collapsed": false
   },
   "outputs": [
    {
     "name": "stdout",
     "output_type": "stream",
     "text": [
      "0912173381 United State\n",
      "================\n",
      "0928375018 Tokyo Japan\n",
      "================\n",
      "(u'0957209108', u'Taipei')\n"
     ]
    }
   ],
   "source": [
    "import sqlite3 as lite\n",
    "import sys\n",
    "con = lite.connect(\"test.db\")\n",
    "with con:\n",
    "    cur = con.cursor()\n",
    "    cur.execute(\"SELECT phone,address FROM PhoneAddress\") \n",
    "    data = cur.fetchone()\n",
    "    print data[0], data[1]\n",
    "    \n",
    "    print '================'\n",
    "    \n",
    "    data = cur.fetchone()\n",
    "    print data[0], data[1]\n",
    "    \n",
    "    print '================'\n",
    "    \n",
    "    rows = cur.fetchall() \n",
    "    for row in rows:\n",
    "        print row \n",
    "con.close()"
   ]
  },
  {
   "cell_type": "code",
   "execution_count": 377,
   "metadata": {
    "collapsed": true
   },
   "outputs": [],
   "source": [
    "# -*- coding: utf-8 -*- \n",
    "import sqlite3\n",
    "\n",
    "db = sqlite3.connect('tender.db') \n",
    "cur = db.cursor()"
   ]
  },
  {
   "cell_type": "code",
   "execution_count": 378,
   "metadata": {
    "collapsed": false
   },
   "outputs": [
    {
     "data": {
      "text/plain": [
       "<sqlite3.Cursor at 0x110864490>"
      ]
     },
     "execution_count": 378,
     "metadata": {},
     "output_type": "execute_result"
    }
   ],
   "source": [
    "cur.execute('''CREATE TABLE IF NOT EXISTS Tender_awards(\n",
    "                id INTEGER PRIMARY KEY,\n",
    "                pkAtmMain TEXT,\n",
    "                procuring_entity TEXT,\n",
    "                entity_code TEXT,\n",
    "                attr_of_procurement TEXT,\n",
    "                opening_date DATETIME,\n",
    "                procurement_type TEXT,\n",
    "                tender_awarding_type TEXT,\n",
    "                project_type TEXT,\n",
    "                subject_of_procurement TEXT,\n",
    "                job_number TEXT,\n",
    "                budget_value BIGINTEGER,\n",
    "                attr_of_tender_awarding TEXT,\n",
    "                floor_price_value BIGINTEGER,\n",
    "                tender_awarding_announce_date DATETIME,\n",
    "                tender_awarding_date DATETIME,\n",
    "                total_tender_awarding_value BIGINTEGER\n",
    "                )''')"
   ]
  },
  {
   "cell_type": "code",
   "execution_count": 429,
   "metadata": {
    "collapsed": false
   },
   "outputs": [
    {
     "name": "stdout",
     "output_type": "stream",
     "text": [
      "opening_date 2015-05-19 00:00:00\n",
      "total_tender_awarding_value 16584937\n",
      "tender_awarding_date 2015-07-15 00:00:00\n",
      "entity_code 3.13.2\n",
      "procurement_type 限制性招標(經公開評選或公開徵求)\n",
      "procuring_entity 經濟部工業局\n",
      "attr_of_procurement <勞務類>842軟體執行服務\n",
      "tender_awarding_announce_date 2015-07-28 00:00:00\n",
      "subject_of_procurement 104年第二次電腦軟體共同供應契約採購－雲端服務\n",
      "project_type 非屬愛台十二項計畫\n",
      "attr_of_tender_awarding 決標公告\n",
      "budget_value 1663050791\n",
      "floor_price_value 16710433\n",
      "job_number 1040202\n",
      "tender_awarding_type 準用最有利標\n"
     ]
    }
   ],
   "source": [
    "res =  get_response_element('gov/51603189_1040202.txt')\n",
    "award_info_dic = get_award_info_dic(res)\n",
    "for ele in award_info_dic:\n",
    "    print ele,award_info_dic[ele] \n"
   ]
  },
  {
   "cell_type": "code",
   "execution_count": 394,
   "metadata": {
    "collapsed": true
   },
   "outputs": [],
   "source": [
    "# insert into table(c1, c2) values(v1, v2)\n",
    "# insert into table(c1, c2) values(?, ?)"
   ]
  },
  {
   "cell_type": "code",
   "execution_count": 430,
   "metadata": {
    "collapsed": false
   },
   "outputs": [
    {
     "name": "stdout",
     "output_type": "stream",
     "text": [
      "aaaaaaaaaaaaaaa\n",
      "?, ?, ?, ?, ?, ?, ?, ?, ?, ?, ?, ?, ?, ?, ?\n",
      "INSERT INTO Tender_awards (opening_date, total_tender_awarding_value, tender_awarding_date, entity_code, procurement_type, procuring_entity, attr_of_procurement, tender_awarding_announce_date, subject_of_procurement, project_type, attr_of_tender_awarding, budget_value, floor_price_value, job_number, tender_awarding_type) VALUES (?, ?, ?, ?, ?, ?, ?, ?, ?, ?, ?, ?, ?, ?, ?)\n"
     ]
    }
   ],
   "source": [
    "columns = ', '.join(award_info_dic.keys())\n",
    "\n",
    "print 'a' * 15\n",
    "print ', '.join('?' * len(award_info_dic))\n",
    "\n",
    "columns = ', '.join(award_info_dic.keys()) \n",
    "placeholders = ', '.join('?' * len(award_info_dic)) \n",
    "sql = 'INSERT INTO Tender_awards ({}) VALUES ({})'.format(columns, placeholders) \n",
    "print sql"
   ]
  },
  {
   "cell_type": "code",
   "execution_count": 432,
   "metadata": {
    "collapsed": false
   },
   "outputs": [],
   "source": [
    "#print ', '.join(award_info_dic.keys())\n",
    "columns = ', '.join(award_info_dic.keys()) \n",
    "#', '.join('?' * len(award_info_dic))\n",
    "placeholders = ', '.join('?' * len(award_info_dic)) \n",
    "sql = 'INSERT INTO Tender_awards ({}) VALUES ({})'.format(columns, placeholders) \n",
    "#print sql\n",
    "cur.execute(sql, award_info_dic.values())\n",
    "db.commit()"
   ]
  },
  {
   "cell_type": "code",
   "execution_count": 436,
   "metadata": {
    "collapsed": false
   },
   "outputs": [
    {
     "name": "stdout",
     "output_type": "stream",
     "text": [
      "((1, 'A'), (1, 'A'))\n",
      "((2, 'B'), (2, 'B'))\n",
      "{1: 'A', 2: 'B', 3: 'C'}\n",
      "(1, 'A', (1, 'A'))\n",
      "(2, 'B', (2, 'B'))\n"
     ]
    }
   ],
   "source": [
    "a = [(1,'A'), (2, 'B'), (3, 'C')]\n",
    "b = [(1,'A'), (2, 'B'), (4, 'D')]\n",
    "\n",
    "for i in a:\n",
    "    for j in b:\n",
    "        if i[1] == j[1]:\n",
    "            print (i, j)\n",
    "\n",
    "dic = {}\n",
    "for i in a:\n",
    "    dic[i[0]] = i[1]\n",
    "print dic\n",
    "\n",
    "\n",
    "for j in b:\n",
    "    if j[0] in dic:\n",
    "        print (j[0], dic[j[0]],  j)   "
   ]
  },
  {
   "cell_type": "code",
   "execution_count": 437,
   "metadata": {
    "collapsed": true
   },
   "outputs": [],
   "source": [
    "import sqlite3 as lite\n",
    "\n",
    "salary = (\n",
    "    (1 ,          'Paul'  ,      32 ,         'California',  20000),\n",
    "    (2 ,          'Allen' ,      25 ,         'Texas'     ,  15000),\n",
    "    (3 ,          'Teddy' ,      23 ,         'Norway'    ,  20000),\n",
    "    (4 ,          'Mark'  ,      25 ,         'Rich-Mond' ,  65000),\n",
    "    (5 ,          'David' ,      27 ,         'Texas'     ,  85000),\n",
    "    (6 ,          'Kim'   ,      22 ,         'South-Hall',  45000),\n",
    "    (7 ,          'James' ,      24 ,         'Houston'   ,  10000)\n",
    ")\n",
    "department = (\n",
    "(1,           'IT Billing'  ,1),\n",
    "(2,           'Engineerin'  ,2),\n",
    "(3,           'Finance'     ,7),\n",
    "(4,           'Finance'     ,5),\n",
    "(5,           'Finance'     ,6)\n",
    "\n",
    ")"
   ]
  },
  {
   "cell_type": "code",
   "execution_count": 438,
   "metadata": {
    "collapsed": true
   },
   "outputs": [],
   "source": [
    "con = lite.connect('test.db')\n",
    "\n",
    "with con:\n",
    "    \n",
    "    cur = con.cursor()    \n",
    "    \n",
    "    cur.execute(\"DROP TABLE IF EXISTS Salary\")\n",
    "    cur.execute(\"DROP TABLE IF EXISTS Department\")\n",
    "    \n",
    "    cur.execute(\"CREATE TABLE Salary(ID INT, NAME TEXT, AGE INT, ADDRESS TEXT, SALARY INT, FOREIGN KEY(ID) REFERENCES QOO(EMP_ID))\")\n",
    "    cur.executemany(\"INSERT INTO Salary VALUES(?, ?, ?, ?, ?)\", salary)\n",
    "    \n",
    "    cur.execute(\"CREATE TABLE Department(ID INT PRIMARY KEY, DEPT CHAR(50), EMP_ID INT)\")\n",
    "    cur.executemany(\"INSERT INTO Department VALUES(?, ?, ?)\", department)\n",
    "con.close() "
   ]
  },
  {
   "cell_type": "code",
   "execution_count": 439,
   "metadata": {
    "collapsed": false
   },
   "outputs": [
    {
     "name": "stdout",
     "output_type": "stream",
     "text": [
      "0.48243188858\n",
      "(100000,)\n"
     ]
    }
   ],
   "source": [
    "import time\n",
    "dbname = 'test.db'\n",
    "con = lite.connect(dbname)\n",
    "\n",
    "items = tuple(range(1,100000))\n",
    "with con:\n",
    "    \n",
    "    cur = con.cursor()    \n",
    "    \n",
    "    cur.execute(\"DROP TABLE IF EXISTS ptest\")\n",
    "    cur.execute(\"CREATE TABLE ptest(ID INT)\")\n",
    "    start = time.time()\n",
    "    for i in range(0,100000):\n",
    "        cur.execute(\"INSERT INTO ptest VALUES(%s)\"%(i))\n",
    "    end = time.time()\n",
    "    print end - start\n",
    "    cur.execute(\"select count(1) from ptest\")\n",
    "    rows = cur.fetchone()\n",
    "    print rows\n",
    "\n",
    "con.close() "
   ]
  },
  {
   "cell_type": "code",
   "execution_count": 440,
   "metadata": {
    "collapsed": false
   },
   "outputs": [
    {
     "name": "stdout",
     "output_type": "stream",
     "text": [
      "0.104609012604\n",
      "(100000,)\n"
     ]
    }
   ],
   "source": [
    "dbname = 'test.db'\n",
    "con = lite.connect(dbname)\n",
    "with con:\n",
    "    \n",
    "    cur = con.cursor()    \n",
    "    \n",
    "    cur.execute(\"DROP TABLE IF EXISTS ptest\")\n",
    "    cur.execute(\"CREATE TABLE ptest(ID INT)\")\n",
    "    start = time.time()\n",
    "    cur.executemany(\"INSERT INTO ptest VALUES(?)\",((id_, ) for id_ in xrange(100000)))\n",
    "    end = time.time()\n",
    "    print end - start\n",
    "    cur.execute(\"select count(1) from ptest\")\n",
    "    rows = cur.fetchone()\n",
    "    print rows\n",
    "\n",
    "con.close() "
   ]
  },
  {
   "cell_type": "code",
   "execution_count": 442,
   "metadata": {
    "collapsed": false
   },
   "outputs": [
    {
     "name": "stdout",
     "output_type": "stream",
     "text": [
      "(u'0928375018', u'Tokyo Japan', u'MuMu Cat', 9)\n"
     ]
    }
   ],
   "source": [
    "con = lite.connect('test.db')\n",
    "\n",
    "Phone = '0928375018'\n",
    "Age = 9 \n",
    "\n",
    "with con:\n",
    "\n",
    "    cur = con.cursor()    \n",
    "\n",
    "    cur.execute(\"UPDATE PhoneAddress SET age=? WHERE phone=?\", (Age, Phone))        \n",
    "    con.commit()\n",
    "    con.rollback()\n",
    "    \n",
    "    cur.execute(\"select * from PhoneAddress where phone=?\", (Phone,)) \n",
    "    rows = cur.fetchall()\n",
    "\n",
    "    for row in rows:\n",
    "        print row\n",
    "con.close() "
   ]
  },
  {
   "cell_type": "code",
   "execution_count": 443,
   "metadata": {
    "collapsed": true
   },
   "outputs": [],
   "source": [
    "def insert_award_info (cur, data_dic, filename):\n",
    "    file_param =  filename.split(\".txt\")[0].split(\"_\")\n",
    "    pkAtmMain = file_param[0]\n",
    "    data_dic['pkAtmMain'] = pkAtmMain\n",
    "    columns = ', '.join(data_dic.keys())\n",
    "    placeholders = ', '.join('?' * len(data_dic))\n",
    "    sql = 'INSERT INTO Tender_awards ({}) VALUES ({})'.format(columns, placeholders)\n",
    "    cur.execute(sql, data_dic.values())"
   ]
  },
  {
   "cell_type": "code",
   "execution_count": 445,
   "metadata": {
    "collapsed": false
   },
   "outputs": [],
   "source": [
    "import os\n",
    "#print os.listdir('gov/')"
   ]
  },
  {
   "cell_type": "code",
   "execution_count": 446,
   "metadata": {
    "collapsed": true
   },
   "outputs": [],
   "source": [
    "import sqlite3\n",
    "import os\n",
    "db = sqlite3.connect('tender.db') \n",
    "cur = db.cursor() \n",
    "path = \"gov/\" \n",
    "dirs = os.listdir( path ) \n",
    "for filename in dirs: \n",
    "    ele = get_response_element(path + filename) \n",
    "    award_info_dic = get_award_info_dic(ele) \n",
    "    insert_award_info(cur, award_info_dic, filename) \n",
    "    db.commit() \n",
    "db.close() "
   ]
  },
  {
   "cell_type": "code",
   "execution_count": null,
   "metadata": {
    "collapsed": true
   },
   "outputs": [],
   "source": []
  }
 ],
 "metadata": {
  "kernelspec": {
   "display_name": "Python 2",
   "language": "python",
   "name": "python2"
  },
  "language_info": {
   "codemirror_mode": {
    "name": "ipython",
    "version": 2
   },
   "file_extension": ".py",
   "mimetype": "text/x-python",
   "name": "python",
   "nbconvert_exporter": "python",
   "pygments_lexer": "ipython2",
   "version": "2.7.6"
  }
 },
 "nbformat": 4,
 "nbformat_minor": 0
}
